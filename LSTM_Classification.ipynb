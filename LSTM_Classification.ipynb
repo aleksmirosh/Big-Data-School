{
  "nbformat": 4,
  "nbformat_minor": 0,
  "metadata": {
    "kernelspec": {
      "display_name": "Python 3",
      "language": "python",
      "name": "python3"
    },
    "language_info": {
      "codemirror_mode": {
        "name": "ipython",
        "version": 3
      },
      "file_extension": ".py",
      "mimetype": "text/x-python",
      "name": "python",
      "nbconvert_exporter": "python",
      "pygments_lexer": "ipython3",
      "version": "3.7.6"
    },
    "colab": {
      "name": "LSTM Classification.ipynb",
      "provenance": [],
      "collapsed_sections": [],
      "toc_visible": true,
      "include_colab_link": true
    },
    "accelerator": "GPU"
  },
  "cells": [
    {
      "cell_type": "markdown",
      "metadata": {
        "id": "view-in-github",
        "colab_type": "text"
      },
      "source": [
        "<a href=\"https://colab.research.google.com/github/aleksmirosh/Big-Data-School/blob/main/LSTM_Classification.ipynb\" target=\"_parent\"><img src=\"https://colab.research.google.com/assets/colab-badge.svg\" alt=\"Open In Colab\"/></a>"
      ]
    },
    {
      "cell_type": "code",
      "metadata": {
        "colab": {
          "base_uri": "https://localhost:8080/"
        },
        "id": "xOl5r7MWjbWJ",
        "outputId": "ff188ad4-066d-4caa-bd73-94e37193fbf5"
      },
      "source": [
        "from google.colab import drive\n",
        "drive.mount('/content/drive')"
      ],
      "execution_count": null,
      "outputs": [
        {
          "output_type": "stream",
          "text": [
            "Mounted at /content/drive\n"
          ],
          "name": "stdout"
        }
      ]
    },
    {
      "cell_type": "markdown",
      "metadata": {
        "id": "mg29Bx2YgCr9"
      },
      "source": [
        "# LSTM for Classification\n",
        "Built upon [medium article](https://towardsdatascience.com/multiclass-text-classification-using-lstm-in-pytorch-eac56baed8df)\n"
      ]
    },
    {
      "cell_type": "markdown",
      "metadata": {
        "id": "ii5IIvUegCsJ"
      },
      "source": [
        "### Preparing the Data"
      ]
    },
    {
      "cell_type": "code",
      "metadata": {
        "id": "IgaCdePcgCsK"
      },
      "source": [
        "# import resources\n",
        "import torch\n",
        "import torch.nn as nn\n",
        "import torch.nn.functional as F\n",
        "import torch.optim as optim\n",
        "from torch.utils.data import Dataset, DataLoader\n",
        "from torch.nn.utils.rnn import pack_padded_sequence, pad_packed_sequence\n",
        "\n",
        "import matplotlib.pyplot as plt\n",
        "import pandas as pd\n",
        "import numpy as np\n",
        "import spacy\n",
        "\n",
        "from collections import Counter\n",
        "import re\n",
        "import string\n",
        "\n",
        "from sklearn.model_selection import train_test_split\n",
        "\n",
        "%matplotlib inline"
      ],
      "execution_count": null,
      "outputs": []
    },
    {
      "cell_type": "code",
      "metadata": {
        "colab": {
          "base_uri": "https://localhost:8080/"
        },
        "id": "8hA4ojdQ5CDV",
        "outputId": "a64f78a0-5c61-4545-9325-67c76b5d8328"
      },
      "source": [
        "device = torch.device('cuda:0' if torch.cuda.is_available() else 'cpu')\r\n",
        "print(device)"
      ],
      "execution_count": null,
      "outputs": [
        {
          "output_type": "stream",
          "text": [
            "cuda:0\n"
          ],
          "name": "stdout"
        }
      ]
    },
    {
      "cell_type": "markdown",
      "metadata": {
        "id": "ChK1VfebNdIB"
      },
      "source": [
        "Train Dataset"
      ]
    },
    {
      "cell_type": "code",
      "metadata": {
        "colab": {
          "base_uri": "https://localhost:8080/",
          "height": 402
        },
        "id": "e_emXv8cjYe-",
        "outputId": "485bfc34-1a75-4b18-9b9d-f6ff63649c42"
      },
      "source": [
        "# training sentences and their ratings\r\n",
        "training_data = pd.read_csv(\"/content/drive/MyDrive/Colab Notebooks/train.csv\", header = None, names = ['rating', 'text'])\r\n",
        "training_data['text'] = training_data['text'].str.lower()\r\n",
        "training_data"
      ],
      "execution_count": null,
      "outputs": [
        {
          "output_type": "execute_result",
          "data": {
            "text/html": [
              "<div>\n",
              "<style scoped>\n",
              "    .dataframe tbody tr th:only-of-type {\n",
              "        vertical-align: middle;\n",
              "    }\n",
              "\n",
              "    .dataframe tbody tr th {\n",
              "        vertical-align: top;\n",
              "    }\n",
              "\n",
              "    .dataframe thead th {\n",
              "        text-align: right;\n",
              "    }\n",
              "</style>\n",
              "<table border=\"1\" class=\"dataframe\">\n",
              "  <thead>\n",
              "    <tr style=\"text-align: right;\">\n",
              "      <th></th>\n",
              "      <th>rating</th>\n",
              "      <th>text</th>\n",
              "    </tr>\n",
              "  </thead>\n",
              "  <tbody>\n",
              "    <tr>\n",
              "      <th>0</th>\n",
              "      <td>5</td>\n",
              "      <td>dr. goldberg offers everything i look for in a...</td>\n",
              "    </tr>\n",
              "    <tr>\n",
              "      <th>1</th>\n",
              "      <td>2</td>\n",
              "      <td>unfortunately, the frustration of being dr. go...</td>\n",
              "    </tr>\n",
              "    <tr>\n",
              "      <th>2</th>\n",
              "      <td>4</td>\n",
              "      <td>been going to dr. goldberg for over 10 years. ...</td>\n",
              "    </tr>\n",
              "    <tr>\n",
              "      <th>3</th>\n",
              "      <td>4</td>\n",
              "      <td>got a letter in the mail last week that said d...</td>\n",
              "    </tr>\n",
              "    <tr>\n",
              "      <th>4</th>\n",
              "      <td>1</td>\n",
              "      <td>i don't know what dr. goldberg was like before...</td>\n",
              "    </tr>\n",
              "    <tr>\n",
              "      <th>...</th>\n",
              "      <td>...</td>\n",
              "      <td>...</td>\n",
              "    </tr>\n",
              "    <tr>\n",
              "      <th>649995</th>\n",
              "      <td>5</td>\n",
              "      <td>i had a sprinkler that was gushing... pipe bro...</td>\n",
              "    </tr>\n",
              "    <tr>\n",
              "      <th>649996</th>\n",
              "      <td>1</td>\n",
              "      <td>phone calls always go to voicemail and message...</td>\n",
              "    </tr>\n",
              "    <tr>\n",
              "      <th>649997</th>\n",
              "      <td>1</td>\n",
              "      <td>looks like all of the good reviews have gone t...</td>\n",
              "    </tr>\n",
              "    <tr>\n",
              "      <th>649998</th>\n",
              "      <td>5</td>\n",
              "      <td>i was able to once again rely on yelp to provi...</td>\n",
              "    </tr>\n",
              "    <tr>\n",
              "      <th>649999</th>\n",
              "      <td>1</td>\n",
              "      <td>i have been using this company for 11 months. ...</td>\n",
              "    </tr>\n",
              "  </tbody>\n",
              "</table>\n",
              "<p>650000 rows × 2 columns</p>\n",
              "</div>"
            ],
            "text/plain": [
              "        rating                                               text\n",
              "0            5  dr. goldberg offers everything i look for in a...\n",
              "1            2  unfortunately, the frustration of being dr. go...\n",
              "2            4  been going to dr. goldberg for over 10 years. ...\n",
              "3            4  got a letter in the mail last week that said d...\n",
              "4            1  i don't know what dr. goldberg was like before...\n",
              "...        ...                                                ...\n",
              "649995       5  i had a sprinkler that was gushing... pipe bro...\n",
              "649996       1  phone calls always go to voicemail and message...\n",
              "649997       1  looks like all of the good reviews have gone t...\n",
              "649998       5  i was able to once again rely on yelp to provi...\n",
              "649999       1  i have been using this company for 11 months. ...\n",
              "\n",
              "[650000 rows x 2 columns]"
            ]
          },
          "metadata": {
            "tags": []
          },
          "execution_count": 179
        }
      ]
    },
    {
      "cell_type": "code",
      "metadata": {
        "id": "f4IwG1DbU3Jq"
      },
      "source": [
        "#changing ratings to 0-numbering\r\n",
        "zero_numbering = {1:0, 2:1, 3:2, 4:3, 5:4}\r\n",
        "training_data['rating'] = training_data['rating'].apply(lambda x: zero_numbering[x])"
      ],
      "execution_count": null,
      "outputs": []
    },
    {
      "cell_type": "code",
      "metadata": {
        "id": "P0xEdT3fUlM3"
      },
      "source": [
        "#calculating sentence lengths\r\n",
        "training_data['length'] = training_data['text'].apply(lambda x: len(x.split()))"
      ],
      "execution_count": null,
      "outputs": []
    },
    {
      "cell_type": "code",
      "metadata": {
        "colab": {
          "base_uri": "https://localhost:8080/"
        },
        "id": "17HjbRLkVIW-",
        "outputId": "51f54a33-3ebd-4598-9352-e10fd0760d5c"
      },
      "source": [
        "#mean sentence length\r\n",
        "mean_text_len = int(np.mean(training_data['length']))\r\n",
        "\r\n",
        "print(mean_text_len)\r\n",
        "print(np.min(training_data['length']))\r\n",
        "print(np.max(training_data['length']))"
      ],
      "execution_count": null,
      "outputs": [
        {
          "output_type": "stream",
          "text": [
            "134\n",
            "1\n",
            "1052\n"
          ],
          "name": "stdout"
        }
      ]
    },
    {
      "cell_type": "markdown",
      "metadata": {
        "id": "bFnyF9aDNewZ"
      },
      "source": [
        "Test Dataset"
      ]
    },
    {
      "cell_type": "code",
      "metadata": {
        "id": "SASz4GHzNaQ6"
      },
      "source": [
        "# test sentences and their ratings\r\n",
        "test_data = pd.read_csv(\"/content/drive/MyDrive/Colab Notebooks/test.csv\", header = None, names = ['rating', 'text'])\r\n",
        "test_data['text'] = test_data['text'].str.lower()\r\n",
        "\r\n",
        "#changing ratings to 0-numbering\r\n",
        "test_data['rating'] = test_data['rating'].apply(lambda x: zero_numbering[x])"
      ],
      "execution_count": null,
      "outputs": []
    },
    {
      "cell_type": "markdown",
      "metadata": {
        "id": "b0UwNX_DNhzg"
      },
      "source": [
        "Preparing data"
      ]
    },
    {
      "cell_type": "code",
      "metadata": {
        "id": "ZoDEiJSlUBHK"
      },
      "source": [
        "#tokenization\r\n",
        "tok = spacy.load('en')\r\n",
        "def tokenize(text):\r\n",
        "    text = re.sub(r\"[^\\x00-\\x7F]+\", \" \", text)\r\n",
        "    regex = re.compile('[' + re.escape(string.punctuation) + '0-9\\\\r\\\\t\\\\n]') # remove punctuation and numbers\r\n",
        "    nopunct = regex.sub(\" \", text.lower())\r\n",
        "    return [token.text for token in tok.tokenizer(nopunct)]"
      ],
      "execution_count": null,
      "outputs": []
    },
    {
      "cell_type": "code",
      "metadata": {
        "colab": {
          "base_uri": "https://localhost:8080/"
        },
        "id": "sJdaS7Al8BQp",
        "outputId": "418ac2f2-66b0-4c90-c660-b6f1640126ef"
      },
      "source": [
        "#count number of occurences of each word\r\n",
        "counts = Counter()\r\n",
        "for index, row in training_data.iterrows():\r\n",
        "    counts.update(tokenize(row['text']))\r\n",
        "\r\n",
        "#deleting infrequent words\r\n",
        "print('num_words before:',len(counts.keys()))\r\n",
        "for word in list(counts):\r\n",
        "    if counts[word] < 2:\r\n",
        "        del counts[word]\r\n",
        "print('num_words after:',len(counts.keys()))"
      ],
      "execution_count": null,
      "outputs": [
        {
          "output_type": "stream",
          "text": [
            "num_words before: 232542\n",
            "num_words after: 121822\n"
          ],
          "name": "stdout"
        }
      ]
    },
    {
      "cell_type": "code",
      "metadata": {
        "id": "fBQCgfyABQBH"
      },
      "source": [
        "#creating vocabulary\r\n",
        "vocab2index = {'': 0, 'UNK': 1}\r\n",
        "words = ['', 'UNK']\r\n",
        "for word in counts:\r\n",
        "    vocab2index[word] = len(words)\r\n",
        "    words.append(word)"
      ],
      "execution_count": null,
      "outputs": []
    },
    {
      "cell_type": "code",
      "metadata": {
        "id": "yIJv13lpUAyp"
      },
      "source": [
        "#making all text the same lenght\r\n",
        "def encode_sentence(text, vocab2index, N = mean_text_len):\r\n",
        "    tokenized = tokenize(text)\r\n",
        "    encoded = np.zeros(N, dtype = int)\r\n",
        "    enc1 = np.array([vocab2index.get(word, vocab2index[\"UNK\"]) for word in tokenized])\r\n",
        "    length = min(N, len(enc1))\r\n",
        "    encoded[:length] = enc1[:length]\r\n",
        "    return encoded, length"
      ],
      "execution_count": null,
      "outputs": []
    },
    {
      "cell_type": "code",
      "metadata": {
        "id": "NRHl1-G3Clak"
      },
      "source": [
        "training_data['encoded'] = training_data['text'].apply(lambda x: np.array(encode_sentence(x,vocab2index )))"
      ],
      "execution_count": null,
      "outputs": []
    },
    {
      "cell_type": "code",
      "metadata": {
        "colab": {
          "base_uri": "https://localhost:8080/",
          "height": 402
        },
        "id": "3DU7iIvmEC1D",
        "outputId": "825ecd4b-470c-4ca7-ff35-b863cfa94350"
      },
      "source": [
        "training_data"
      ],
      "execution_count": null,
      "outputs": [
        {
          "output_type": "execute_result",
          "data": {
            "text/html": [
              "<div>\n",
              "<style scoped>\n",
              "    .dataframe tbody tr th:only-of-type {\n",
              "        vertical-align: middle;\n",
              "    }\n",
              "\n",
              "    .dataframe tbody tr th {\n",
              "        vertical-align: top;\n",
              "    }\n",
              "\n",
              "    .dataframe thead th {\n",
              "        text-align: right;\n",
              "    }\n",
              "</style>\n",
              "<table border=\"1\" class=\"dataframe\">\n",
              "  <thead>\n",
              "    <tr style=\"text-align: right;\">\n",
              "      <th></th>\n",
              "      <th>rating</th>\n",
              "      <th>text</th>\n",
              "      <th>length</th>\n",
              "      <th>encoded</th>\n",
              "    </tr>\n",
              "  </thead>\n",
              "  <tbody>\n",
              "    <tr>\n",
              "      <th>0</th>\n",
              "      <td>4</td>\n",
              "      <td>dr. goldberg offers everything i look for in a...</td>\n",
              "      <td>93</td>\n",
              "      <td>[[2, 3, 4, 5, 6, 7, 8, 9, 10, 11, 12, 13, 14, ...</td>\n",
              "    </tr>\n",
              "    <tr>\n",
              "      <th>1</th>\n",
              "      <td>1</td>\n",
              "      <td>unfortunately, the frustration of being dr. go...</td>\n",
              "      <td>115</td>\n",
              "      <td>[[76, 3, 77, 78, 69, 23, 2, 3, 4, 16, 79, 43, ...</td>\n",
              "    </tr>\n",
              "    <tr>\n",
              "      <th>2</th>\n",
              "      <td>3</td>\n",
              "      <td>been going to dr. goldberg for over 10 years. ...</td>\n",
              "      <td>97</td>\n",
              "      <td>[[136, 137, 20, 2, 3, 4, 9, 138, 89, 139, 3, 7...</td>\n",
              "    </tr>\n",
              "    <tr>\n",
              "      <th>3</th>\n",
              "      <td>3</td>\n",
              "      <td>got a letter in the mail last week that said d...</td>\n",
              "      <td>53</td>\n",
              "      <td>[[175, 11, 176, 10, 77, 177, 178, 179, 96, 180...</td>\n",
              "    </tr>\n",
              "    <tr>\n",
              "      <th>4</th>\n",
              "      <td>0</td>\n",
              "      <td>i don't know what dr. goldberg was like before...</td>\n",
              "      <td>211</td>\n",
              "      <td>[[7, 118, 119, 202, 61, 2, 3, 4, 140, 195, 203...</td>\n",
              "    </tr>\n",
              "    <tr>\n",
              "      <th>...</th>\n",
              "      <td>...</td>\n",
              "      <td>...</td>\n",
              "      <td>...</td>\n",
              "      <td>...</td>\n",
              "    </tr>\n",
              "    <tr>\n",
              "      <th>324995</th>\n",
              "      <td>4</td>\n",
              "      <td>i had an amazing experience with this company ...</td>\n",
              "      <td>129</td>\n",
              "      <td>[[7, 83, 106, 409, 81, 32, 115, 1062, 72, 14, ...</td>\n",
              "    </tr>\n",
              "    <tr>\n",
              "      <th>324996</th>\n",
              "      <td>4</td>\n",
              "      <td>fun beyond words!!!! my boyfriend and i went a...</td>\n",
              "      <td>90</td>\n",
              "      <td>[[1452, 1730, 6560, 441, 38, 1908, 18, 7, 282,...</td>\n",
              "    </tr>\n",
              "    <tr>\n",
              "      <th>324997</th>\n",
              "      <td>4</td>\n",
              "      <td>best part of our vegas trip.....outstanding.  ...</td>\n",
              "      <td>85</td>\n",
              "      <td>[[283, 537, 69, 539, 7728, 1153, 441, 4387, 14...</td>\n",
              "    </tr>\n",
              "    <tr>\n",
              "      <th>324998</th>\n",
              "      <td>1</td>\n",
              "      <td>unusual pizzas.  not for those die hard people...</td>\n",
              "      <td>130</td>\n",
              "      <td>[[8276, 4838, 14, 129, 9, 407, 578, 1135, 317,...</td>\n",
              "    </tr>\n",
              "    <tr>\n",
              "      <th>324999</th>\n",
              "      <td>2</td>\n",
              "      <td>we were in sun prairie for a wedding and stopp...</td>\n",
              "      <td>189</td>\n",
              "      <td>[[302, 559, 10, 6340, 10648, 9, 11, 2010, 18, ...</td>\n",
              "    </tr>\n",
              "  </tbody>\n",
              "</table>\n",
              "<p>325000 rows × 4 columns</p>\n",
              "</div>"
            ],
            "text/plain": [
              "        rating  ...                                            encoded\n",
              "0            4  ...  [[2, 3, 4, 5, 6, 7, 8, 9, 10, 11, 12, 13, 14, ...\n",
              "1            1  ...  [[76, 3, 77, 78, 69, 23, 2, 3, 4, 16, 79, 43, ...\n",
              "2            3  ...  [[136, 137, 20, 2, 3, 4, 9, 138, 89, 139, 3, 7...\n",
              "3            3  ...  [[175, 11, 176, 10, 77, 177, 178, 179, 96, 180...\n",
              "4            0  ...  [[7, 118, 119, 202, 61, 2, 3, 4, 140, 195, 203...\n",
              "...        ...  ...                                                ...\n",
              "324995       4  ...  [[7, 83, 106, 409, 81, 32, 115, 1062, 72, 14, ...\n",
              "324996       4  ...  [[1452, 1730, 6560, 441, 38, 1908, 18, 7, 282,...\n",
              "324997       4  ...  [[283, 537, 69, 539, 7728, 1153, 441, 4387, 14...\n",
              "324998       1  ...  [[8276, 4838, 14, 129, 9, 407, 578, 1135, 317,...\n",
              "324999       2  ...  [[302, 559, 10, 6340, 10648, 9, 11, 2010, 18, ...\n",
              "\n",
              "[325000 rows x 4 columns]"
            ]
          },
          "metadata": {
            "tags": []
          },
          "execution_count": 14
        }
      ]
    },
    {
      "cell_type": "code",
      "metadata": {
        "colab": {
          "base_uri": "https://localhost:8080/"
        },
        "id": "Uqt5CXFKClX3",
        "outputId": "5e88c43f-8e9c-499d-b51a-093b99214b1b"
      },
      "source": [
        "#check how balanced the dataset is\r\n",
        "Counter(training_data['rating'])"
      ],
      "execution_count": null,
      "outputs": [
        {
          "output_type": "execute_result",
          "data": {
            "text/plain": [
              "Counter({0: 130000, 1: 130000, 2: 130000, 3: 130000, 4: 130000})"
            ]
          },
          "metadata": {
            "tags": []
          },
          "execution_count": 190
        }
      ]
    },
    {
      "cell_type": "markdown",
      "metadata": {
        "id": "Hv8PVIRBGdQd"
      },
      "source": [
        "Data is balanced"
      ]
    },
    {
      "cell_type": "code",
      "metadata": {
        "id": "S2YADZgyN--f"
      },
      "source": [
        "test_data['encoded'] = test_data['text'].apply(lambda x: np.array(encode_sentence(x, vocab2index)))"
      ],
      "execution_count": null,
      "outputs": []
    },
    {
      "cell_type": "markdown",
      "metadata": {
        "id": "fnUaz85_ORgi"
      },
      "source": [
        "Spliting data"
      ]
    },
    {
      "cell_type": "code",
      "metadata": {
        "id": "bRvCmaZvClUm"
      },
      "source": [
        "#train\r\n",
        "X_train = training_data['encoded'].copy()\r\n",
        "y_train = training_data['rating'].copy()\r\n",
        "\r\n",
        "#test\r\n",
        "X_test = test_data['encoded'].copy()\r\n",
        "y_test = test_data['rating'].copy()"
      ],
      "execution_count": null,
      "outputs": []
    },
    {
      "cell_type": "markdown",
      "metadata": {
        "id": "PqMIjYApgCsP"
      },
      "source": [
        "---\n",
        "## Creating the Model"
      ]
    },
    {
      "cell_type": "code",
      "metadata": {
        "id": "I7CtRzRmIn3T"
      },
      "source": [
        "class LSTM(nn.Module) :\r\n",
        "    def __init__(self, vocab_size, embedding_dim, hidden_dim) :\r\n",
        "        super().__init__()\r\n",
        "        self.hidden_dim = hidden_dim\r\n",
        "        self.dropout = nn.Dropout(0.3)\r\n",
        "        self.embeddings = nn.Embedding(vocab_size, embedding_dim, padding_idx=0)\r\n",
        "        self.lstm = nn.LSTM(embedding_dim, hidden_dim, batch_first=True)\r\n",
        "        self.linear = nn.Linear(hidden_dim, 5)\r\n",
        "        \r\n",
        "    def forward(self, x, s):\r\n",
        "        x = self.embeddings(x)\r\n",
        "        x = self.dropout(x)\r\n",
        "        x_pack = pack_padded_sequence(x, s, batch_first=True, enforce_sorted=False)\r\n",
        "        out_pack, (ht, ct) = self.lstm(x_pack)\r\n",
        "        out = self.linear(ht[-1])\r\n",
        "        return out"
      ],
      "execution_count": null,
      "outputs": []
    },
    {
      "cell_type": "code",
      "metadata": {
        "id": "X4CHLtBPgCsS"
      },
      "source": [
        "embedding_dim = mean_text_len \n",
        "hidden_dim= mean_text_len"
      ],
      "execution_count": null,
      "outputs": []
    },
    {
      "cell_type": "code",
      "metadata": {
        "id": "Z1NMAlNAL6_X"
      },
      "source": [
        "lstm = LSTM(len(vocab2index), embedding_dim, hidden_dim).to(device)"
      ],
      "execution_count": null,
      "outputs": []
    },
    {
      "cell_type": "markdown",
      "metadata": {
        "id": "DgHCg7KmgCsQ"
      },
      "source": [
        "## Define how the model trains"
      ]
    },
    {
      "cell_type": "code",
      "metadata": {
        "id": "OJje1LiSClRm"
      },
      "source": [
        "class ReviewsDataset(Dataset):\r\n",
        "    def __init__(self, X, Y):\r\n",
        "        self.X = X\r\n",
        "        self.y = Y\r\n",
        "        \r\n",
        "    def __len__(self):\r\n",
        "        return len(self.y)\r\n",
        "    \r\n",
        "    def __getitem__(self, idx):\r\n",
        "        return torch.from_numpy(self.X.iloc[idx][0].astype(np.int32)), self.y.iloc[idx], self.X.iloc[idx][1]"
      ],
      "execution_count": null,
      "outputs": []
    },
    {
      "cell_type": "code",
      "metadata": {
        "id": "krFy1lpiFGZ1"
      },
      "source": [
        "train_ds = ReviewsDataset(X_train, y_train)\r\n",
        "test_ds = ReviewsDataset(X_test, y_test)"
      ],
      "execution_count": null,
      "outputs": []
    },
    {
      "cell_type": "code",
      "metadata": {
        "id": "YJMHYPZuFGcv"
      },
      "source": [
        "def train_model(model, criterion, optimizer, epochs=20):\r\n",
        "  parameters = filter(lambda p: p.requires_grad, model.parameters())\r\n",
        "\r\n",
        "  test_losses = []\r\n",
        "  train_losses = []\r\n",
        "  test_acces = []\r\n",
        "  train_acces = []\r\n",
        "\r\n",
        "  for i in range(epochs):\r\n",
        "    model.train()\r\n",
        "    sum_loss = 0.0\r\n",
        "    total = 0\r\n",
        "    correct = 0\r\n",
        "\r\n",
        "    for x, y, l in train_dl:\r\n",
        "      x = x.long().to(device)\r\n",
        "      y = y.long().to(device)\r\n",
        "      y_pred = model(x, l)\r\n",
        "      pred = torch.max(y_pred, 1)[1]\r\n",
        "      correct += (pred == y).float().sum()\r\n",
        "      optimizer.zero_grad()\r\n",
        "      loss = criterion(y_pred, y)\r\n",
        "      loss.backward()\r\n",
        "      optimizer.step()\r\n",
        "      sum_loss += loss.item()*y.shape[0]\r\n",
        "      total += y.shape[0]\r\n",
        "\r\n",
        "    test_loss, test_acc = test_metrics(model, test_dl)\r\n",
        "\r\n",
        "   # if scheduler:\r\n",
        "    #  scheduler.step()\r\n",
        "\r\n",
        "    train_loss = sum_loss / total\r\n",
        "    train_acc = correct / total\r\n",
        "        \r\n",
        "    test_losses.append(test_loss)\r\n",
        "    test_acces.append(test_acc)\r\n",
        "    train_losses.append(train_loss)\r\n",
        "    train_acces.append(train_acc)\r\n",
        "\r\n",
        "    print(i)\r\n",
        "    print('Train: loss {}, accuracy {}'.format(train_loss, train_acc))\r\n",
        "    print('Test: loss {}, accuracy {}'.format(test_loss, test_acc))\r\n",
        "        \r\n",
        "  return test_losses, test_acces, train_losses, train_acces"
      ],
      "execution_count": null,
      "outputs": []
    },
    {
      "cell_type": "code",
      "metadata": {
        "id": "Yn5aP6icFGgk"
      },
      "source": [
        "def test_metrics (model, test_dl):\r\n",
        "    model.eval()\r\n",
        "    correct = 0\r\n",
        "    total = 0\r\n",
        "    sum_loss = 0.0\r\n",
        "\r\n",
        "    for x, y, l in test_dl:\r\n",
        "        x = x.long().to(device)\r\n",
        "        y = y.long().to(device)\r\n",
        "        y_hat = model(x, l)\r\n",
        "        loss = F.cross_entropy(y_hat, y)\r\n",
        "        pred = torch.max(y_hat, 1)[1]\r\n",
        "        correct += (pred == y).float().sum()\r\n",
        "        total += y.shape[0]\r\n",
        "        sum_loss += loss.item()*y.shape[0]\r\n",
        "\r\n",
        "    return sum_loss/total, correct/total"
      ],
      "execution_count": null,
      "outputs": []
    },
    {
      "cell_type": "markdown",
      "metadata": {
        "id": "39UdJrQngCsU"
      },
      "source": [
        "## Train the Model"
      ]
    },
    {
      "cell_type": "code",
      "metadata": {
        "id": "1iMg_qi8L7CZ"
      },
      "source": [
        "batch_size = 64*2\r\n",
        "train_dl = DataLoader(train_ds, batch_size = batch_size, shuffle = True)\r\n",
        "test_dl = DataLoader(test_ds, batch_size = batch_size)"
      ],
      "execution_count": null,
      "outputs": []
    },
    {
      "cell_type": "code",
      "metadata": {
        "id": "Cyko7LxBcOnS"
      },
      "source": [
        "criterion = nn.CrossEntropyLoss()\r\n",
        "#optimizer = torch.optim.Adam(lstm.parameters(), lr=0.1)\r\n",
        "optimizer = optim.SGD(lstm.parameters(), lr=0.05, momentum = 0.9)\r\n",
        "#lrscheduler = optim.lr_scheduler.StepLR(optimizer, step_size = 2)"
      ],
      "execution_count": null,
      "outputs": []
    },
    {
      "cell_type": "code",
      "metadata": {
        "colab": {
          "base_uri": "https://localhost:8080/"
        },
        "id": "dDUulE2yL7FX",
        "outputId": "abfdfe7c-0ed1-4aa5-fd91-3690f3780c4e"
      },
      "source": [
        "test_losses, test_accur, train_losses, train_accur = train_model(lstm, criterion, optimizer)"
      ],
      "execution_count": null,
      "outputs": [
        {
          "output_type": "stream",
          "text": [
            "0\n",
            "Train: loss 1.093396991850046, accuracy 0.5206230878829956\n",
            "Test: loss 1.008862635936737, accuracy 0.5608800053596497\n",
            "1\n",
            "Train: loss 1.0296162904475286, accuracy 0.5470569133758545\n",
            "Test: loss 0.972380298576355, accuracy 0.5773599743843079\n",
            "2\n",
            "Train: loss 1.0016410544747574, accuracy 0.5597215294837952\n",
            "Test: loss 0.9547127171325683, accuracy 0.585159957408905\n",
            "3\n",
            "Train: loss 0.9847337997950041, accuracy 0.5674415230751038\n",
            "Test: loss 0.9432154150199891, accuracy 0.5872399806976318\n",
            "4\n",
            "Train: loss 0.9725563791597807, accuracy 0.5727661848068237\n",
            "Test: loss 0.936015645160675, accuracy 0.5921599864959717\n",
            "5\n",
            "Train: loss 0.9628326381624662, accuracy 0.5777415633201599\n",
            "Test: loss 0.9382454562568665, accuracy 0.5883399844169617\n",
            "6\n",
            "Train: loss 0.9566941316531254, accuracy 0.5794538259506226\n",
            "Test: loss 0.9257173778152465, accuracy 0.5961199998855591\n",
            "7\n",
            "Train: loss 0.9501732040346585, accuracy 0.5828692317008972\n",
            "Test: loss 0.9235172461891175, accuracy 0.5972200036048889\n",
            "8\n",
            "Train: loss 0.9441036802174495, accuracy 0.5852738618850708\n",
            "Test: loss 0.9212893039131165, accuracy 0.5996999740600586\n",
            "9\n",
            "Train: loss 0.9394899093539898, accuracy 0.5876661539077759\n",
            "Test: loss 0.9136885865783692, accuracy 0.602180004119873\n",
            "10\n",
            "Train: loss 0.935330630116096, accuracy 0.5893000364303589\n",
            "Test: loss 0.9126877406120301, accuracy 0.6023799777030945\n",
            "11\n",
            "Train: loss 0.9327091569416339, accuracy 0.590903103351593\n",
            "Test: loss 0.9194710450553895, accuracy 0.5996599793434143\n",
            "12\n",
            "Train: loss 0.9290146643462548, accuracy 0.5924323201179504\n",
            "Test: loss 0.9091417847061157, accuracy 0.602400004863739\n",
            "13\n",
            "Train: loss 0.9255848507426335, accuracy 0.5932861566543579\n",
            "Test: loss 0.9061169591522217, accuracy 0.6035999655723572\n",
            "14\n",
            "Train: loss 0.9224396300213153, accuracy 0.5952446460723877\n",
            "Test: loss 0.9065716605758667, accuracy 0.6033399701118469\n",
            "15\n",
            "Train: loss 0.9203255364124592, accuracy 0.5962907671928406\n",
            "Test: loss 0.9004364505577087, accuracy 0.6069999933242798\n",
            "16\n",
            "Train: loss 0.9182330184584397, accuracy 0.5970338582992554\n",
            "Test: loss 0.8998723008728028, accuracy 0.6061599850654602\n",
            "17\n",
            "Train: loss 0.9156462999989436, accuracy 0.5980938673019409\n",
            "Test: loss 0.9039248716735839, accuracy 0.6066200137138367\n",
            "18\n",
            "Train: loss 0.9130167366805444, accuracy 0.5991830825805664\n",
            "Test: loss 0.8999942631340027, accuracy 0.6093999743461609\n",
            "19\n",
            "Train: loss 0.9103895525990999, accuracy 0.599953830242157\n",
            "Test: loss 0.8947979476165772, accuracy 0.6097999811172485\n"
          ],
          "name": "stdout"
        }
      ]
    },
    {
      "cell_type": "code",
      "metadata": {
        "colab": {
          "base_uri": "https://localhost:8080/",
          "height": 354
        },
        "id": "GFupeLWlL7H3",
        "outputId": "cf0c6d31-b93a-442e-f0ee-47478c8d80e9"
      },
      "source": [
        "f, ax = plt.subplots(1,2, figsize = (9, 5))\r\n",
        "ax[0].set_title(\"Loss\")\r\n",
        "ax[0].plot(train_losses)\r\n",
        "ax[0].plot(test_losses)\r\n",
        "ax[1].set_title(\"Accuracy\")\r\n",
        "ax[1].plot(train_accur)\r\n",
        "ax[1].plot(test_accur)"
      ],
      "execution_count": null,
      "outputs": [
        {
          "output_type": "execute_result",
          "data": {
            "text/plain": [
              "[<matplotlib.lines.Line2D at 0x7f0dd4ba24a8>]"
            ]
          },
          "metadata": {
            "tags": []
          },
          "execution_count": 255
        },
        {
          "output_type": "display_data",
          "data": {
            "image/png": "[encoded data removed]",
            "text/plain": [
              "<Figure size 648x360 with 2 Axes>"
            ]
          },
          "metadata": {
            "tags": [],
            "needs_background": "light"
          }
        }
      ]
    },
    {
      "cell_type": "markdown",
      "metadata": {
        "id": "XfQlRUnAgCsV"
      },
      "source": [
        "## Conclusion"
      ]
    },
    {
      "cell_type": "markdown",
      "metadata": {
        "id": "Y3LqmP-UtNF-"
      },
      "source": [
        "Я взяла за основу статтю, оскільки по оригінальному завданю смогла лише підготувати данні для тренінгу, та гірше, ніж з цим справився spacy. До цієї задачі я зіштовхувалася лише з майже повністю готовими рішеннями на spacy, тому було досить цікаво спробувати розібратися з NLP.\r\n",
        "\r\n",
        "Спочатку текст переводиться в один регістр, чиститься від пунктуацій, занадто рідких слів. Також, на мою думку, в цій задачі також було б добре видалити такі слова як: int, at, on, the... Тому що навіть векторизовані вони не несуть змісту для моделі.\r\n",
        "\r\n",
        "Моя модель лише на 20 епохах долає 60% барьер на тестових данних. Більшу частину часу зайняв тюнінг моделі. Взагалі я перебрала дуже велику кількість параметрів, яка майже ніяк не покращувала точність моделі, і навіть scheduler не допоміг прискорити її. Що було для мене ще цікавого, це те, що менший batch size дае кращі результати. Нажаль, з питання, чому точніть тесту трішки вища за трейн розібратися не вдалось, я пробовала змінювати Dropout моделі та це дуже погіршувало результати. \r\n",
        "\r\n",
        "У майбутньому я хочу навчитися краще робити пропроцесс тексту, оскільки, я думаю, саме він тут, а не модель, зіграв ключову роль. \r\n",
        "Також мене дуже зацікавили RNN, я сподіваюсь, що освою їх та буду використовувати уже в роботі. \r\n",
        "\r\n"
      ]
    }
  ]
}