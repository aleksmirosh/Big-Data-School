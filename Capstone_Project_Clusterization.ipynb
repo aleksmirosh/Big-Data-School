{
  "nbformat": 4,
  "nbformat_minor": 0,
  "metadata": {
    "kernelspec": {
      "display_name": "Python 3",
      "language": "python",
      "name": "python3"
    },
    "language_info": {
      "codemirror_mode": {
        "name": "ipython",
        "version": 3
      },
      "file_extension": ".py",
      "mimetype": "text/x-python",
      "name": "python",
      "nbconvert_exporter": "python",
      "pygments_lexer": "ipython3",
      "version": "3.7.9"
    },
    "colab": {
      "name": "Capstone_Project_Clusterization.ipynb",
      "provenance": [],
      "collapsed_sections": [
        "vDywv3w-1CEe",
        "HuPfg9XTmE40"
      ],
      "toc_visible": true,
      "include_colab_link": true
    }
  },
  "cells": [
    {
      "cell_type": "markdown",
      "metadata": {
        "id": "view-in-github",
        "colab_type": "text"
      },
      "source": [
        "<a href=\"https://colab.research.google.com/github/aleksmirosh/Big-Data-School/blob/main/Capstone_Project_Clusterization.ipynb\" target=\"_parent\"><img src=\"https://colab.research.google.com/assets/colab-badge.svg\" alt=\"Open In Colab\"/></a>"
      ]
    },
    {
      "cell_type": "code",
      "metadata": {
        "colab": {
          "base_uri": "https://localhost:8080/"
        },
        "id": "IDkjG9ZBn6rV",
        "outputId": "3e48f51a-f3ab-4fbc-b8c5-a9b1f34e3687"
      },
      "source": [
        "from google.colab import drive\n",
        "drive.mount('/content/drive')"
      ],
      "execution_count": 1,
      "outputs": [
        {
          "output_type": "stream",
          "text": [
            "Mounted at /content/drive\n"
          ],
          "name": "stdout"
        }
      ]
    },
    {
      "cell_type": "markdown",
      "metadata": {
        "id": "vDywv3w-1CEe"
      },
      "source": [
        "## Instalations"
      ]
    },
    {
      "cell_type": "code",
      "metadata": {
        "id": "pNq0eBOLlwrI",
        "colab": {
          "base_uri": "https://localhost:8080/"
        },
        "outputId": "3dd8c6ad-f594-440b-c3cb-3239822484dc"
      },
      "source": [
        "!pip install geopandas"
      ],
      "execution_count": 2,
      "outputs": [
        {
          "output_type": "stream",
          "text": [
            "Collecting geopandas\n",
            "\u001b[?25l  Downloading https://files.pythonhosted.org/packages/2a/9f/e8a440a993e024c0d3d4e5c7d3346367c50c9a1a3d735caf5ee3bde0aab1/geopandas-0.8.2-py2.py3-none-any.whl (962kB)\n",
            "\u001b[K     |████████████████████████████████| 972kB 11.2MB/s \n",
            "\u001b[?25hRequirement already satisfied: shapely in /usr/local/lib/python3.6/dist-packages (from geopandas) (1.7.1)\n",
            "Collecting fiona\n",
            "\u001b[?25l  Downloading https://files.pythonhosted.org/packages/37/94/4910fd55246c1d963727b03885ead6ef1cd3748a465f7b0239ab25dfc9a3/Fiona-1.8.18-cp36-cp36m-manylinux1_x86_64.whl (14.8MB)\n",
            "\u001b[K     |████████████████████████████████| 14.8MB 295kB/s \n",
            "\u001b[?25hRequirement already satisfied: pandas>=0.23.0 in /usr/local/lib/python3.6/dist-packages (from geopandas) (1.1.5)\n",
            "Collecting pyproj>=2.2.0\n",
            "\u001b[?25l  Downloading https://files.pythonhosted.org/packages/e4/ab/280e80a67cfc109d15428c0ec56391fc03a65857b7727cf4e6e6f99a4204/pyproj-3.0.0.post1-cp36-cp36m-manylinux2010_x86_64.whl (6.4MB)\n",
            "\u001b[K     |████████████████████████████████| 6.5MB 43.4MB/s \n",
            "\u001b[?25hRequirement already satisfied: six>=1.7 in /usr/local/lib/python3.6/dist-packages (from fiona->geopandas) (1.15.0)\n",
            "Requirement already satisfied: click<8,>=4.0 in /usr/local/lib/python3.6/dist-packages (from fiona->geopandas) (7.1.2)\n",
            "Requirement already satisfied: certifi in /usr/local/lib/python3.6/dist-packages (from fiona->geopandas) (2020.12.5)\n",
            "Collecting cligj>=0.5\n",
            "  Downloading https://files.pythonhosted.org/packages/42/1e/947eadf10d6804bf276eb8a038bd5307996dceaaa41cfd21b7a15ec62f5d/cligj-0.7.1-py3-none-any.whl\n",
            "Collecting click-plugins>=1.0\n",
            "  Downloading https://files.pythonhosted.org/packages/e9/da/824b92d9942f4e472702488857914bdd50f73021efea15b4cad9aca8ecef/click_plugins-1.1.1-py2.py3-none-any.whl\n",
            "Collecting munch\n",
            "  Downloading https://files.pythonhosted.org/packages/cc/ab/85d8da5c9a45e072301beb37ad7f833cd344e04c817d97e0cc75681d248f/munch-2.5.0-py2.py3-none-any.whl\n",
            "Requirement already satisfied: attrs>=17 in /usr/local/lib/python3.6/dist-packages (from fiona->geopandas) (20.3.0)\n",
            "Requirement already satisfied: python-dateutil>=2.7.3 in /usr/local/lib/python3.6/dist-packages (from pandas>=0.23.0->geopandas) (2.8.1)\n",
            "Requirement already satisfied: pytz>=2017.2 in /usr/local/lib/python3.6/dist-packages (from pandas>=0.23.0->geopandas) (2018.9)\n",
            "Requirement already satisfied: numpy>=1.15.4 in /usr/local/lib/python3.6/dist-packages (from pandas>=0.23.0->geopandas) (1.19.5)\n",
            "Installing collected packages: cligj, click-plugins, munch, fiona, pyproj, geopandas\n",
            "Successfully installed click-plugins-1.1.1 cligj-0.7.1 fiona-1.8.18 geopandas-0.8.2 munch-2.5.0 pyproj-3.0.0.post1\n"
          ],
          "name": "stdout"
        }
      ]
    },
    {
      "cell_type": "code",
      "metadata": {
        "colab": {
          "base_uri": "https://localhost:8080/"
        },
        "id": "zXoNDoX0GnkU",
        "outputId": "403abf06-7ebf-4d10-d770-d78398c23c83"
      },
      "source": [
        "!pip install shapely"
      ],
      "execution_count": 3,
      "outputs": [
        {
          "output_type": "stream",
          "text": [
            "Requirement already satisfied: shapely in /usr/local/lib/python3.6/dist-packages (1.7.1)\n"
          ],
          "name": "stdout"
        }
      ]
    },
    {
      "cell_type": "code",
      "metadata": {
        "id": "B2sLJfO5lwrR"
      },
      "source": [
        "import geopy.distance\n",
        "import math\n",
        "import matplotlib.pyplot as plt\n",
        "import seaborn as sns\n",
        "import pandas as pd\n",
        "import geopandas\n",
        "import numpy as np\n",
        "import datetime as dt\n",
        "from shapely.geometry import Point, Polygon"
      ],
      "execution_count": 4,
      "outputs": []
    },
    {
      "cell_type": "code",
      "metadata": {
        "id": "A3ULQ3aBvj6R"
      },
      "source": [
        "# install Java8\n",
        "!apt-get install openjdk-8-jdk-headless -qq > /dev/null\n",
        "\n",
        "# install spark (change the version number if needed)\n",
        "!wget -q https://archive.apache.org/dist/spark/spark-3.0.0/spark-3.0.0-bin-hadoop3.2.tgz\n",
        "\n",
        "# unzip the spark file to the current folder\n",
        "!tar xf spark-3.0.0-bin-hadoop3.2.tgz\n",
        "\n",
        "# install findspark \n",
        "!pip install -q findspark"
      ],
      "execution_count": 5,
      "outputs": []
    },
    {
      "cell_type": "code",
      "metadata": {
        "id": "hkKrYOpxzYmA"
      },
      "source": [
        "import os\n",
        "os.environ[\"JAVA_HOME\"] = \"/usr/lib/jvm/java-8-openjdk-amd64\"\n",
        "os.environ[\"SPARK_HOME\"] = \"/content/spark-3.0.0-bin-hadoop3.2\""
      ],
      "execution_count": 6,
      "outputs": []
    },
    {
      "cell_type": "code",
      "metadata": {
        "id": "ASBw-1mq0to-"
      },
      "source": [
        "import findspark\n",
        "findspark.init()\n",
        "from pyspark.sql import SparkSession\n",
        "spark = SparkSession.builder.master(\"local[*]\").getOrCreate()"
      ],
      "execution_count": 7,
      "outputs": []
    },
    {
      "cell_type": "code",
      "metadata": {
        "colab": {
          "base_uri": "https://localhost:8080/"
        },
        "id": "Q-m0djm505f9",
        "outputId": "5e0e79d2-e36f-4875-ada3-f32164b2d87d"
      },
      "source": [
        "# Check the pyspark version\n",
        "import pyspark\n",
        "print(pyspark.__version__)"
      ],
      "execution_count": 8,
      "outputs": [
        {
          "output_type": "stream",
          "text": [
            "3.0.0\n"
          ],
          "name": "stdout"
        }
      ]
    },
    {
      "cell_type": "code",
      "metadata": {
        "id": "Z3SQEIUM3ACS"
      },
      "source": [
        "from pyspark.sql.types import *\n",
        "from pyspark.sql import SparkSession, Window\n",
        "from pyspark.sql.functions import *\n",
        "from pyspark.ml.evaluation import MulticlassClassificationEvaluator\n",
        "import geopy.distance\n",
        "\n",
        "from pyspark.ml.feature import VectorAssembler\n",
        "from pyspark.ml.classification import RandomForestClassifier\n",
        "from pyspark.ml import Pipeline\n",
        "from pyspark.ml.feature import OneHotEncoder, StringIndexer, VectorAssembler\n",
        "from pyspark.ml.tuning import ParamGridBuilder, CrossValidator\n",
        "from sklearn.model_selection import StratifiedKFold\n",
        "\n",
        "import math\n",
        "import matplotlib.pyplot as plt\n",
        "import seaborn as sns\n",
        "import pandas as pd\n",
        "import numpy as np"
      ],
      "execution_count": 9,
      "outputs": []
    },
    {
      "cell_type": "markdown",
      "metadata": {
        "id": "HuPfg9XTmE40"
      },
      "source": [
        "## Task 1 - Clusterization users upon their routes in 2019"
      ]
    },
    {
      "cell_type": "markdown",
      "metadata": {
        "id": "br5hHa7QEf15"
      },
      "source": [
        "As a part of a team I created features for future data visualization and clusterization."
      ]
    },
    {
      "cell_type": "markdown",
      "metadata": {
        "id": "1v8dLvBSBWtt"
      },
      "source": [
        "### Create Features"
      ]
    },
    {
      "cell_type": "markdown",
      "metadata": {
        "id": "Y_n30VITEwmv"
      },
      "source": [
        "**Districts Data Set**"
      ]
    },
    {
      "cell_type": "code",
      "metadata": {
        "colab": {
          "base_uri": "https://localhost:8080/",
          "height": 213
        },
        "id": "Lgc6lX-DEsA3",
        "outputId": "3faaabcb-469e-4002-9c90-8693974911d4"
      },
      "source": [
        "districts_df = pd.read_csv('/content/drive/MyDrive/Colab Notebooks/lviv/districts_info.csv.gz', sep='|', dtype={'area_id':'int'})\r\n",
        "small_district = districts_df.copy().drop(['region_name',\t'area_name', 'neighbor_area_idx'], axis = 1)\r\n",
        "print(districts_df.shape)\r\n",
        "districts_df.head()"
      ],
      "execution_count": null,
      "outputs": [
        {
          "output_type": "stream",
          "text": [
            "(536, 6)\n"
          ],
          "name": "stdout"
        },
        {
          "output_type": "execute_result",
          "data": {
            "text/html": [
              "<div>\n",
              "<style scoped>\n",
              "    .dataframe tbody tr th:only-of-type {\n",
              "        vertical-align: middle;\n",
              "    }\n",
              "\n",
              "    .dataframe tbody tr th {\n",
              "        vertical-align: top;\n",
              "    }\n",
              "\n",
              "    .dataframe thead th {\n",
              "        text-align: right;\n",
              "    }\n",
              "</style>\n",
              "<table border=\"1\" class=\"dataframe\">\n",
              "  <thead>\n",
              "    <tr style=\"text-align: right;\">\n",
              "      <th></th>\n",
              "      <th>area_id</th>\n",
              "      <th>region_name</th>\n",
              "      <th>area_name</th>\n",
              "      <th>centroid_lat</th>\n",
              "      <th>centroid_lon</th>\n",
              "      <th>neighbor_area_idx</th>\n",
              "    </tr>\n",
              "  </thead>\n",
              "  <tbody>\n",
              "    <tr>\n",
              "      <th>0</th>\n",
              "      <td>504</td>\n",
              "      <td>Ivano-Frankivska</td>\n",
              "      <td>Nadvirnianskyi raion</td>\n",
              "      <td>48.629834</td>\n",
              "      <td>24.577387</td>\n",
              "      <td>\"[\\\"529\\\", \\\"473\\\", \\\"505\\\", \\\"437\\\", \\\"506\\\",...</td>\n",
              "    </tr>\n",
              "    <tr>\n",
              "      <th>1</th>\n",
              "      <td>505</td>\n",
              "      <td>Ivano-Frankivska</td>\n",
              "      <td>Bohorodchanskyi raion</td>\n",
              "      <td>48.807555</td>\n",
              "      <td>24.543633</td>\n",
              "      <td>\"[\\\"473\\\", \\\"504\\\", \\\"503\\\", \\\"509\\\", \\\"531\\\"]\"</td>\n",
              "    </tr>\n",
              "    <tr>\n",
              "      <th>2</th>\n",
              "      <td>506</td>\n",
              "      <td>Ivano-Frankivska</td>\n",
              "      <td>Yaremchanska mis'ka rada</td>\n",
              "      <td>48.455939</td>\n",
              "      <td>24.569405</td>\n",
              "      <td>\"[\\\"471\\\", \\\"504\\\", \\\"437\\\", \\\"510\\\"]\"</td>\n",
              "    </tr>\n",
              "    <tr>\n",
              "      <th>3</th>\n",
              "      <td>507</td>\n",
              "      <td>Ivano-Frankivska</td>\n",
              "      <td>Ivano-Frankivska mis'ka rada</td>\n",
              "      <td>48.917401</td>\n",
              "      <td>24.710827</td>\n",
              "      <td>\"[\\\"473\\\"]\"</td>\n",
              "    </tr>\n",
              "    <tr>\n",
              "      <th>4</th>\n",
              "      <td>508</td>\n",
              "      <td>Zaporizka</td>\n",
              "      <td>Zaporizka mis'ka rada</td>\n",
              "      <td>47.845421</td>\n",
              "      <td>35.160531</td>\n",
              "      <td>\"[\\\"459\\\", \\\"461\\\"]\"</td>\n",
              "    </tr>\n",
              "  </tbody>\n",
              "</table>\n",
              "</div>"
            ],
            "text/plain": [
              "   area_id  ...                                  neighbor_area_idx\n",
              "0      504  ...  \"[\\\"529\\\", \\\"473\\\", \\\"505\\\", \\\"437\\\", \\\"506\\\",...\n",
              "1      505  ...    \"[\\\"473\\\", \\\"504\\\", \\\"503\\\", \\\"509\\\", \\\"531\\\"]\"\n",
              "2      506  ...             \"[\\\"471\\\", \\\"504\\\", \\\"437\\\", \\\"510\\\"]\"\n",
              "3      507  ...                                        \"[\\\"473\\\"]\"\n",
              "4      508  ...                               \"[\\\"459\\\", \\\"461\\\"]\"\n",
              "\n",
              "[5 rows x 6 columns]"
            ]
          },
          "metadata": {
            "tags": []
          },
          "execution_count": 18
        }
      ]
    },
    {
      "cell_type": "code",
      "metadata": {
        "id": "vVoSnSbbDJhT"
      },
      "source": [
        "#clean neighbor_area_idx column\r\n",
        "districts_df['neighbor_area_idx'] = districts_df['neighbor_area_idx'].str.findall('[0-9]+')\r\n",
        "\r\n",
        "#convert last column to list\r\n",
        "districts_df['neighbor_area_idx'] = districts_df['neighbor_area_idx'].apply(lambda x: [int(i) for i in x])\r\n",
        "\r\n",
        "#convert last columns from list to array\r\n",
        "districts_df['neighbor_area_idx'] = districts_df['neighbor_area_idx'].apply(lambda x: np.array(x))"
      ],
      "execution_count": null,
      "outputs": []
    },
    {
      "cell_type": "markdown",
      "metadata": {
        "id": "DSG840f8TveS"
      },
      "source": [
        "**User Routes 2019, 2020**\r\n",
        "\r\n",
        "contains data on subscribers routes between areas in 2019 and 2020. Moving means that the subscriber before the start of the trip and at the end of the trip was in acc. area more than 3 hours.\r\n"
      ]
    },
    {
      "cell_type": "code",
      "metadata": {
        "colab": {
          "base_uri": "https://localhost:8080/",
          "height": 213
        },
        "id": "31CkhoPITrEN",
        "outputId": "e402abde-655b-42f2-d656-c4705ef32ef0"
      },
      "source": [
        "#full user routes dataframe\r\n",
        "user_routes_df = pd.read_csv('/content/drive/MyDrive/Colab Notebooks/lviv/user_routes_2019_2020.csv.gz', parse_dates = [4,5], dtype={'start_area_id':'int', 'finish_area_id':'int'})\r\n",
        "print(user_routes_df.shape)     \r\n",
        "user_routes_df.head()"
      ],
      "execution_count": null,
      "outputs": [
        {
          "output_type": "stream",
          "text": [
            "(6997282, 6)\n"
          ],
          "name": "stdout"
        },
        {
          "output_type": "execute_result",
          "data": {
            "text/html": [
              "<div>\n",
              "<style scoped>\n",
              "    .dataframe tbody tr th:only-of-type {\n",
              "        vertical-align: middle;\n",
              "    }\n",
              "\n",
              "    .dataframe tbody tr th {\n",
              "        vertical-align: top;\n",
              "    }\n",
              "\n",
              "    .dataframe thead th {\n",
              "        text-align: right;\n",
              "    }\n",
              "</style>\n",
              "<table border=\"1\" class=\"dataframe\">\n",
              "  <thead>\n",
              "    <tr style=\"text-align: right;\">\n",
              "      <th></th>\n",
              "      <th>user_id</th>\n",
              "      <th>start_area_id</th>\n",
              "      <th>finish_area_id</th>\n",
              "      <th>start_time</th>\n",
              "      <th>finish_time</th>\n",
              "      <th>hmonth</th>\n",
              "    </tr>\n",
              "  </thead>\n",
              "  <tbody>\n",
              "    <tr>\n",
              "      <th>0</th>\n",
              "      <td>36453</td>\n",
              "      <td>492</td>\n",
              "      <td>417</td>\n",
              "      <td>2020-08-11 15:00:00</td>\n",
              "      <td>2020-08-11 16:00:00</td>\n",
              "      <td>2020-08-01</td>\n",
              "    </tr>\n",
              "    <tr>\n",
              "      <th>1</th>\n",
              "      <td>42921</td>\n",
              "      <td>492</td>\n",
              "      <td>417</td>\n",
              "      <td>2020-09-01 22:00:00</td>\n",
              "      <td>2020-09-01 23:00:00</td>\n",
              "      <td>2020-09-01</td>\n",
              "    </tr>\n",
              "    <tr>\n",
              "      <th>2</th>\n",
              "      <td>17307</td>\n",
              "      <td>526</td>\n",
              "      <td>435</td>\n",
              "      <td>2020-06-07 10:00:00</td>\n",
              "      <td>2020-06-07 13:00:00</td>\n",
              "      <td>2020-06-01</td>\n",
              "    </tr>\n",
              "    <tr>\n",
              "      <th>3</th>\n",
              "      <td>24129</td>\n",
              "      <td>416</td>\n",
              "      <td>49</td>\n",
              "      <td>2019-04-21 19:00:00</td>\n",
              "      <td>2019-04-21 20:00:00</td>\n",
              "      <td>2019-04-01</td>\n",
              "    </tr>\n",
              "    <tr>\n",
              "      <th>4</th>\n",
              "      <td>10139</td>\n",
              "      <td>540</td>\n",
              "      <td>539</td>\n",
              "      <td>2020-05-01 06:00:00</td>\n",
              "      <td>2020-05-01 07:00:00</td>\n",
              "      <td>2020-05-01</td>\n",
              "    </tr>\n",
              "  </tbody>\n",
              "</table>\n",
              "</div>"
            ],
            "text/plain": [
              "   user_id  start_area_id  ...         finish_time     hmonth\n",
              "0    36453            492  ... 2020-08-11 16:00:00 2020-08-01\n",
              "1    42921            492  ... 2020-09-01 23:00:00 2020-09-01\n",
              "2    17307            526  ... 2020-06-07 13:00:00 2020-06-01\n",
              "3    24129            416  ... 2019-04-21 20:00:00 2019-04-01\n",
              "4    10139            540  ... 2020-05-01 07:00:00 2020-05-01\n",
              "\n",
              "[5 rows x 6 columns]"
            ]
          },
          "metadata": {
            "tags": []
          },
          "execution_count": 7
        }
      ]
    },
    {
      "cell_type": "code",
      "metadata": {
        "id": "2wDGxjkyTrHN"
      },
      "source": [
        "#2019 year only \r\n",
        "user_routes_2019 = user_routes_df.loc[user_routes_df.hmonth < '2020']\r\n",
        "\r\n",
        "#2020 year only \r\n",
        "user_routes_2020 = user_routes_df.loc[user_routes_df.hmonth > '2019-12']"
      ],
      "execution_count": null,
      "outputs": []
    },
    {
      "cell_type": "code",
      "metadata": {
        "colab": {
          "base_uri": "https://localhost:8080/"
        },
        "id": "5KmVNvJv3VwQ",
        "outputId": "9f4d4818-c24d-4f36-d6b6-cdc43d932f22"
      },
      "source": [
        "user_routes_2019.shape"
      ],
      "execution_count": null,
      "outputs": [
        {
          "output_type": "execute_result",
          "data": {
            "text/plain": [
              "(3650287, 7)"
            ]
          },
          "metadata": {
            "tags": []
          },
          "execution_count": 11
        }
      ]
    },
    {
      "cell_type": "markdown",
      "metadata": {
        "id": "VemKvHNx_2gj"
      },
      "source": [
        "**User_routes data set conteins more then 3m examples, google colab can not work with it on python, that's why next manipulations were in pyspark.**"
      ]
    },
    {
      "cell_type": "code",
      "metadata": {
        "id": "vSoR-_U1_H31"
      },
      "source": [
        "# do not re-run\r\n",
        "def tospark(df):\r\n",
        "  #convert pandas to pyspark\r\n",
        "  temp = spark.createDataFrame(df[['user_id','start_time']])\r\n",
        "\r\n",
        "  #define the new columns with leading start time\r\n",
        "  windowSpec = Window.partitionBy(\"user_id\").orderBy('start_time')\r\n",
        "  temp = temp.withColumn('next_start_time', lead('start_time', 1).over(windowSpec))\r\n",
        "\r\n",
        "  #save temp dataframe\r\n",
        "  temp.toPandas().to_csv('/content/drive/MyDrive/Colab Notebooks/lviv/temp.csv')\r\n",
        "  del temp\r\n",
        "\r\n",
        "tospark(user_routes_2019)"
      ],
      "execution_count": null,
      "outputs": []
    },
    {
      "cell_type": "code",
      "metadata": {
        "id": "MZaH7M01hBOd"
      },
      "source": [
        "#read temp df\r\n",
        "temp = pd.read_csv('/content/drive/MyDrive/Colab Notebooks/lviv/temp.csv').drop('Unnamed: 0', axis = 1)\r\n",
        "\r\n",
        "#merge dataframes\r\n",
        "user_routes_2019 = user_routes_2019.merge(temp, on = ['user_id', 'start_time'])\\\r\n",
        "                                    .sort_values(['user_id', 'start_time'])"
      ],
      "execution_count": null,
      "outputs": []
    },
    {
      "cell_type": "markdown",
      "metadata": {
        "id": "5ROlrjyYCHPG"
      },
      "source": [
        "**Next I find time difference between user's start-finish time and finish-start time, also what the day of the week it was: weekday or weekand**"
      ]
    },
    {
      "cell_type": "code",
      "metadata": {
        "id": "aUHApIOE3lsf"
      },
      "source": [
        "def time_diff(df):\r\n",
        "  #converting str columns to datetime\r\n",
        "  df['start_time'] = df['start_time'].astype('datetime64')\r\n",
        "  df['next_start_time'] = df['next_start_time'].astype('datetime64')\r\n",
        "\r\n",
        "  #adding new column with time difference between start and finish time\r\n",
        "  df['diff_start_finish'] = df['finish_time'] - df['start_time']\r\n",
        "\r\n",
        "  #adding new column with time difference between finish and next start time\r\n",
        "  df['diff_finish_next_start'] = df['next_start_time'] - df['finish_time']\r\n",
        "\r\n",
        "  #drop unnessecary columns\r\n",
        "  df.drop('next_start_time', axis = 1, inplace = True)\r\n",
        "\r\n",
        "  #days of week\r\n",
        "  df['day'] = df['start_time'].dt.dayofweek.map({0: 'weekday', 1: 'weekday', 2: 'weekday', 3: 'weekday', 4: 'weekday', 5: 'weekend', 6: 'weekend'})\r\n",
        "\r\n",
        "  return df"
      ],
      "execution_count": null,
      "outputs": []
    },
    {
      "cell_type": "code",
      "metadata": {
        "id": "C6M7BxLEHJkK"
      },
      "source": [
        "user_routes_2019 = time_diff(user_routes_2019)"
      ],
      "execution_count": null,
      "outputs": []
    },
    {
      "cell_type": "code",
      "metadata": {
        "colab": {
          "base_uri": "https://localhost:8080/",
          "height": 402
        },
        "id": "oIsBFDosCAzO",
        "outputId": "752daa45-bde9-447d-c1d6-af15c3750461"
      },
      "source": [
        "user_routes_2019"
      ],
      "execution_count": null,
      "outputs": [
        {
          "output_type": "execute_result",
          "data": {
            "text/html": [
              "<div>\n",
              "<style scoped>\n",
              "    .dataframe tbody tr th:only-of-type {\n",
              "        vertical-align: middle;\n",
              "    }\n",
              "\n",
              "    .dataframe tbody tr th {\n",
              "        vertical-align: top;\n",
              "    }\n",
              "\n",
              "    .dataframe thead th {\n",
              "        text-align: right;\n",
              "    }\n",
              "</style>\n",
              "<table border=\"1\" class=\"dataframe\">\n",
              "  <thead>\n",
              "    <tr style=\"text-align: right;\">\n",
              "      <th></th>\n",
              "      <th>user_id</th>\n",
              "      <th>start_area_id</th>\n",
              "      <th>finish_area_id</th>\n",
              "      <th>start_time</th>\n",
              "      <th>finish_time</th>\n",
              "      <th>hmonth</th>\n",
              "      <th>diff_start_finish</th>\n",
              "      <th>diff_finish_next_start</th>\n",
              "      <th>day</th>\n",
              "    </tr>\n",
              "  </thead>\n",
              "  <tbody>\n",
              "    <tr>\n",
              "      <th>2922433</th>\n",
              "      <td>1</td>\n",
              "      <td>505</td>\n",
              "      <td>507</td>\n",
              "      <td>2019-04-01 08:00:00</td>\n",
              "      <td>2019-04-01 09:00:00</td>\n",
              "      <td>2019-04-01</td>\n",
              "      <td>0 days 01:00:00</td>\n",
              "      <td>0 days 10:00:00</td>\n",
              "      <td>weekday</td>\n",
              "    </tr>\n",
              "    <tr>\n",
              "      <th>1885447</th>\n",
              "      <td>1</td>\n",
              "      <td>507</td>\n",
              "      <td>504</td>\n",
              "      <td>2019-04-01 19:00:00</td>\n",
              "      <td>2019-04-01 20:00:00</td>\n",
              "      <td>2019-04-01</td>\n",
              "      <td>0 days 01:00:00</td>\n",
              "      <td>0 days 11:00:00</td>\n",
              "      <td>weekday</td>\n",
              "    </tr>\n",
              "    <tr>\n",
              "      <th>1842128</th>\n",
              "      <td>1</td>\n",
              "      <td>504</td>\n",
              "      <td>505</td>\n",
              "      <td>2019-04-02 07:00:00</td>\n",
              "      <td>2019-04-02 08:00:00</td>\n",
              "      <td>2019-04-01</td>\n",
              "      <td>0 days 01:00:00</td>\n",
              "      <td>1 days 22:00:00</td>\n",
              "      <td>weekday</td>\n",
              "    </tr>\n",
              "    <tr>\n",
              "      <th>3625775</th>\n",
              "      <td>1</td>\n",
              "      <td>505</td>\n",
              "      <td>507</td>\n",
              "      <td>2019-04-04 06:00:00</td>\n",
              "      <td>2019-04-04 08:00:00</td>\n",
              "      <td>2019-04-01</td>\n",
              "      <td>0 days 02:00:00</td>\n",
              "      <td>0 days 12:00:00</td>\n",
              "      <td>weekday</td>\n",
              "    </tr>\n",
              "    <tr>\n",
              "      <th>635475</th>\n",
              "      <td>1</td>\n",
              "      <td>507</td>\n",
              "      <td>505</td>\n",
              "      <td>2019-04-04 20:00:00</td>\n",
              "      <td>2019-04-04 21:00:00</td>\n",
              "      <td>2019-04-01</td>\n",
              "      <td>0 days 01:00:00</td>\n",
              "      <td>0 days 09:00:00</td>\n",
              "      <td>weekday</td>\n",
              "    </tr>\n",
              "    <tr>\n",
              "      <th>...</th>\n",
              "      <td>...</td>\n",
              "      <td>...</td>\n",
              "      <td>...</td>\n",
              "      <td>...</td>\n",
              "      <td>...</td>\n",
              "      <td>...</td>\n",
              "      <td>...</td>\n",
              "      <td>...</td>\n",
              "      <td>...</td>\n",
              "    </tr>\n",
              "    <tr>\n",
              "      <th>3045293</th>\n",
              "      <td>50000</td>\n",
              "      <td>492</td>\n",
              "      <td>179</td>\n",
              "      <td>2019-08-14 08:00:00</td>\n",
              "      <td>2019-08-14 12:00:00</td>\n",
              "      <td>2019-08-01</td>\n",
              "      <td>0 days 04:00:00</td>\n",
              "      <td>12 days 19:00:00</td>\n",
              "      <td>weekday</td>\n",
              "    </tr>\n",
              "    <tr>\n",
              "      <th>2367610</th>\n",
              "      <td>50000</td>\n",
              "      <td>179</td>\n",
              "      <td>228</td>\n",
              "      <td>2019-08-27 07:00:00</td>\n",
              "      <td>2019-08-27 09:00:00</td>\n",
              "      <td>2019-08-01</td>\n",
              "      <td>0 days 02:00:00</td>\n",
              "      <td>0 days 06:00:00</td>\n",
              "      <td>weekday</td>\n",
              "    </tr>\n",
              "    <tr>\n",
              "      <th>445058</th>\n",
              "      <td>50000</td>\n",
              "      <td>228</td>\n",
              "      <td>179</td>\n",
              "      <td>2019-08-27 15:00:00</td>\n",
              "      <td>2019-08-27 18:00:00</td>\n",
              "      <td>2019-08-01</td>\n",
              "      <td>0 days 03:00:00</td>\n",
              "      <td>1 days 12:00:00</td>\n",
              "      <td>weekday</td>\n",
              "    </tr>\n",
              "    <tr>\n",
              "      <th>801298</th>\n",
              "      <td>50000</td>\n",
              "      <td>179</td>\n",
              "      <td>492</td>\n",
              "      <td>2019-08-29 06:00:00</td>\n",
              "      <td>2019-08-29 10:00:00</td>\n",
              "      <td>2019-08-01</td>\n",
              "      <td>0 days 04:00:00</td>\n",
              "      <td>5 days 06:00:00</td>\n",
              "      <td>weekday</td>\n",
              "    </tr>\n",
              "    <tr>\n",
              "      <th>3538641</th>\n",
              "      <td>50000</td>\n",
              "      <td>492</td>\n",
              "      <td>179</td>\n",
              "      <td>2019-09-03 16:00:00</td>\n",
              "      <td>2019-09-03 21:00:00</td>\n",
              "      <td>2019-09-01</td>\n",
              "      <td>0 days 05:00:00</td>\n",
              "      <td>NaT</td>\n",
              "      <td>weekday</td>\n",
              "    </tr>\n",
              "  </tbody>\n",
              "</table>\n",
              "<p>3650287 rows × 9 columns</p>\n",
              "</div>"
            ],
            "text/plain": [
              "         user_id  start_area_id  ...  diff_finish_next_start      day\n",
              "2922433        1            505  ...         0 days 10:00:00  weekday\n",
              "1885447        1            507  ...         0 days 11:00:00  weekday\n",
              "1842128        1            504  ...         1 days 22:00:00  weekday\n",
              "3625775        1            505  ...         0 days 12:00:00  weekday\n",
              "635475         1            507  ...         0 days 09:00:00  weekday\n",
              "...          ...            ...  ...                     ...      ...\n",
              "3045293    50000            492  ...        12 days 19:00:00  weekday\n",
              "2367610    50000            179  ...         0 days 06:00:00  weekday\n",
              "445058     50000            228  ...         1 days 12:00:00  weekday\n",
              "801298     50000            179  ...         5 days 06:00:00  weekday\n",
              "3538641    50000            492  ...                     NaT  weekday\n",
              "\n",
              "[3650287 rows x 9 columns]"
            ]
          },
          "metadata": {
            "tags": []
          },
          "execution_count": 38
        }
      ]
    },
    {
      "cell_type": "markdown",
      "metadata": {
        "id": "2tUiV3-FCsCO"
      },
      "source": [
        "**Next using Vincenty formula I calculate distance between areas user visited**"
      ]
    },
    {
      "cell_type": "code",
      "metadata": {
        "id": "-INV7Cg4HOUh"
      },
      "source": [
        "#distance between areas\r\n",
        "from geopy.distance import vincenty\r\n",
        "def dist(lat1, lon1, lat2, lon2):\r\n",
        "  ans = vincenty([lat1, lon1], [lat2, lon2]).km\r\n",
        "  return ans\r\n",
        "\r\n",
        "def distance(df):\r\n",
        "  df = df.merge(small_district, right_on = 'area_id', left_on = 'start_area_id', suffixes = ['_1', '_2']).drop('area_id', axis = 1)\r\n",
        "  df = df.merge(small_district, right_on = 'area_id', left_on = 'finish_area_id', suffixes = ['_1', '_2']).drop('area_id', axis = 1)\r\n",
        "\r\n",
        "  df['distance'] = df[['centroid_lat_1',\t'centroid_lon_1',\t'centroid_lat_2',\t'centroid_lon_2']]\\\r\n",
        "                              .apply(lambda row: dist(row['centroid_lat_1'],row['centroid_lon_1'],row['centroid_lat_2'],row['centroid_lon_2']),axis=1) \r\n",
        "\r\n",
        "  df.drop(['centroid_lat_1', 'centroid_lon_1', 'centroid_lat_2', 'centroid_lon_2'], axis = 1, inplace = True)        \r\n",
        "  \r\n",
        "  return df"
      ],
      "execution_count": null,
      "outputs": []
    },
    {
      "cell_type": "code",
      "metadata": {
        "id": "h4eGY-l_IFz4"
      },
      "source": [
        "user_routes_2019 = distance(user_routes_2019)"
      ],
      "execution_count": null,
      "outputs": []
    },
    {
      "cell_type": "code",
      "metadata": {
        "colab": {
          "base_uri": "https://localhost:8080/",
          "height": 402
        },
        "id": "9IkkdyFTV_PY",
        "outputId": "0523c88c-6f3c-4bb1-f93a-93edeb1576b1"
      },
      "source": [
        "user_routes_2019"
      ],
      "execution_count": null,
      "outputs": [
        {
          "output_type": "execute_result",
          "data": {
            "text/html": [
              "<div>\n",
              "<style scoped>\n",
              "    .dataframe tbody tr th:only-of-type {\n",
              "        vertical-align: middle;\n",
              "    }\n",
              "\n",
              "    .dataframe tbody tr th {\n",
              "        vertical-align: top;\n",
              "    }\n",
              "\n",
              "    .dataframe thead th {\n",
              "        text-align: right;\n",
              "    }\n",
              "</style>\n",
              "<table border=\"1\" class=\"dataframe\">\n",
              "  <thead>\n",
              "    <tr style=\"text-align: right;\">\n",
              "      <th></th>\n",
              "      <th>user_id</th>\n",
              "      <th>start_area_id</th>\n",
              "      <th>finish_area_id</th>\n",
              "      <th>start_time</th>\n",
              "      <th>finish_time</th>\n",
              "      <th>hmonth</th>\n",
              "      <th>diff_start_finish</th>\n",
              "      <th>diff_finish_next_start</th>\n",
              "      <th>day</th>\n",
              "      <th>distance</th>\n",
              "    </tr>\n",
              "  </thead>\n",
              "  <tbody>\n",
              "    <tr>\n",
              "      <th>0</th>\n",
              "      <td>1</td>\n",
              "      <td>505</td>\n",
              "      <td>507</td>\n",
              "      <td>2019-04-01 08:00:00</td>\n",
              "      <td>2019-04-01 09:00:00</td>\n",
              "      <td>2019-04-01</td>\n",
              "      <td>0 days 01:00:00</td>\n",
              "      <td>0 days 10:00:00</td>\n",
              "      <td>weekday</td>\n",
              "      <td>17.312255</td>\n",
              "    </tr>\n",
              "    <tr>\n",
              "      <th>1</th>\n",
              "      <td>1</td>\n",
              "      <td>505</td>\n",
              "      <td>507</td>\n",
              "      <td>2019-04-04 06:00:00</td>\n",
              "      <td>2019-04-04 08:00:00</td>\n",
              "      <td>2019-04-01</td>\n",
              "      <td>0 days 02:00:00</td>\n",
              "      <td>0 days 12:00:00</td>\n",
              "      <td>weekday</td>\n",
              "      <td>17.312255</td>\n",
              "    </tr>\n",
              "    <tr>\n",
              "      <th>2</th>\n",
              "      <td>1</td>\n",
              "      <td>505</td>\n",
              "      <td>507</td>\n",
              "      <td>2019-04-05 06:00:00</td>\n",
              "      <td>2019-04-05 07:00:00</td>\n",
              "      <td>2019-04-01</td>\n",
              "      <td>0 days 01:00:00</td>\n",
              "      <td>0 days 13:00:00</td>\n",
              "      <td>weekday</td>\n",
              "      <td>17.312255</td>\n",
              "    </tr>\n",
              "    <tr>\n",
              "      <th>3</th>\n",
              "      <td>1</td>\n",
              "      <td>505</td>\n",
              "      <td>507</td>\n",
              "      <td>2019-04-09 06:00:00</td>\n",
              "      <td>2019-04-09 07:00:00</td>\n",
              "      <td>2019-04-01</td>\n",
              "      <td>0 days 01:00:00</td>\n",
              "      <td>0 days 13:00:00</td>\n",
              "      <td>weekday</td>\n",
              "      <td>17.312255</td>\n",
              "    </tr>\n",
              "    <tr>\n",
              "      <th>4</th>\n",
              "      <td>1</td>\n",
              "      <td>505</td>\n",
              "      <td>507</td>\n",
              "      <td>2019-04-12 06:00:00</td>\n",
              "      <td>2019-04-12 08:00:00</td>\n",
              "      <td>2019-04-01</td>\n",
              "      <td>0 days 02:00:00</td>\n",
              "      <td>0 days 11:00:00</td>\n",
              "      <td>weekday</td>\n",
              "      <td>17.312255</td>\n",
              "    </tr>\n",
              "    <tr>\n",
              "      <th>...</th>\n",
              "      <td>...</td>\n",
              "      <td>...</td>\n",
              "      <td>...</td>\n",
              "      <td>...</td>\n",
              "      <td>...</td>\n",
              "      <td>...</td>\n",
              "      <td>...</td>\n",
              "      <td>...</td>\n",
              "      <td>...</td>\n",
              "      <td>...</td>\n",
              "    </tr>\n",
              "    <tr>\n",
              "      <th>3650060</th>\n",
              "      <td>44139</td>\n",
              "      <td>487</td>\n",
              "      <td>485</td>\n",
              "      <td>2019-06-19 08:00:00</td>\n",
              "      <td>2019-06-19 09:00:00</td>\n",
              "      <td>2019-06-01</td>\n",
              "      <td>0 days 01:00:00</td>\n",
              "      <td>3 days 02:00:00</td>\n",
              "      <td>weekday</td>\n",
              "      <td>34.722499</td>\n",
              "    </tr>\n",
              "    <tr>\n",
              "      <th>3650061</th>\n",
              "      <td>44139</td>\n",
              "      <td>487</td>\n",
              "      <td>485</td>\n",
              "      <td>2019-06-30 10:00:00</td>\n",
              "      <td>2019-06-30 11:00:00</td>\n",
              "      <td>2019-06-01</td>\n",
              "      <td>0 days 01:00:00</td>\n",
              "      <td>57 days 01:00:00</td>\n",
              "      <td>weekend</td>\n",
              "      <td>34.722499</td>\n",
              "    </tr>\n",
              "    <tr>\n",
              "      <th>3650062</th>\n",
              "      <td>44139</td>\n",
              "      <td>487</td>\n",
              "      <td>485</td>\n",
              "      <td>2019-08-29 12:00:00</td>\n",
              "      <td>2019-08-29 13:00:00</td>\n",
              "      <td>2019-08-01</td>\n",
              "      <td>0 days 01:00:00</td>\n",
              "      <td>29 days 00:00:00</td>\n",
              "      <td>weekday</td>\n",
              "      <td>34.722499</td>\n",
              "    </tr>\n",
              "    <tr>\n",
              "      <th>3650063</th>\n",
              "      <td>44139</td>\n",
              "      <td>487</td>\n",
              "      <td>485</td>\n",
              "      <td>2019-09-30 10:00:00</td>\n",
              "      <td>2019-09-30 11:00:00</td>\n",
              "      <td>2019-09-01</td>\n",
              "      <td>0 days 01:00:00</td>\n",
              "      <td>NaT</td>\n",
              "      <td>weekday</td>\n",
              "      <td>34.722499</td>\n",
              "    </tr>\n",
              "    <tr>\n",
              "      <th>3650064</th>\n",
              "      <td>47462</td>\n",
              "      <td>487</td>\n",
              "      <td>485</td>\n",
              "      <td>2019-09-24 10:00:00</td>\n",
              "      <td>2019-09-24 11:00:00</td>\n",
              "      <td>2019-09-01</td>\n",
              "      <td>0 days 01:00:00</td>\n",
              "      <td>0 days 03:00:00</td>\n",
              "      <td>weekday</td>\n",
              "      <td>34.722499</td>\n",
              "    </tr>\n",
              "  </tbody>\n",
              "</table>\n",
              "<p>3650065 rows × 10 columns</p>\n",
              "</div>"
            ],
            "text/plain": [
              "         user_id  start_area_id  ...      day   distance\n",
              "0              1            505  ...  weekday  17.312255\n",
              "1              1            505  ...  weekday  17.312255\n",
              "2              1            505  ...  weekday  17.312255\n",
              "3              1            505  ...  weekday  17.312255\n",
              "4              1            505  ...  weekday  17.312255\n",
              "...          ...            ...  ...      ...        ...\n",
              "3650060    44139            487  ...  weekday  34.722499\n",
              "3650061    44139            487  ...  weekend  34.722499\n",
              "3650062    44139            487  ...  weekday  34.722499\n",
              "3650063    44139            487  ...  weekday  34.722499\n",
              "3650064    47462            487  ...  weekday  34.722499\n",
              "\n",
              "[3650065 rows x 10 columns]"
            ]
          },
          "metadata": {
            "tags": []
          },
          "execution_count": 41
        }
      ]
    },
    {
      "cell_type": "code",
      "metadata": {
        "id": "wXffRs8YKCzF"
      },
      "source": [
        "#convert time to integer\r\n",
        "user_routes_2019['diff_start_finish'] = user_routes_2019.diff_start_finish.astype('int64')\r\n",
        "\r\n",
        "#statistics per weekdays\r\n",
        "weekdays_df = user_routes_2019.loc[(user_routes_2019['day'] == 'weekday')]\\\r\n",
        "                .groupby('user_id').agg({'diff_start_finish':'mean', 'distance':'mean', 'start_time':'count'})\r\n",
        "\r\n",
        "#statistics per weekends\r\n",
        "weekends_df = user_routes_2019.loc[(user_routes_2019['day'] == 'weekend')]\\\r\n",
        "                .groupby('user_id').agg({'diff_start_finish':'mean', 'distance':'mean', 'start_time':'count'})"
      ],
      "execution_count": null,
      "outputs": []
    },
    {
      "cell_type": "code",
      "metadata": {
        "colab": {
          "base_uri": "https://localhost:8080/",
          "height": 431
        },
        "id": "3njUhDBbD9vG",
        "outputId": "d93bdc88-4742-4ba3-f2bc-1fd5b8ed0ee1"
      },
      "source": [
        "weekdays_df "
      ],
      "execution_count": null,
      "outputs": [
        {
          "output_type": "execute_result",
          "data": {
            "text/html": [
              "<div>\n",
              "<style scoped>\n",
              "    .dataframe tbody tr th:only-of-type {\n",
              "        vertical-align: middle;\n",
              "    }\n",
              "\n",
              "    .dataframe tbody tr th {\n",
              "        vertical-align: top;\n",
              "    }\n",
              "\n",
              "    .dataframe thead th {\n",
              "        text-align: right;\n",
              "    }\n",
              "</style>\n",
              "<table border=\"1\" class=\"dataframe\">\n",
              "  <thead>\n",
              "    <tr style=\"text-align: right;\">\n",
              "      <th></th>\n",
              "      <th>diff_start_finish</th>\n",
              "      <th>distance</th>\n",
              "      <th>start_time</th>\n",
              "    </tr>\n",
              "    <tr>\n",
              "      <th>user_id</th>\n",
              "      <th></th>\n",
              "      <th></th>\n",
              "      <th></th>\n",
              "    </tr>\n",
              "  </thead>\n",
              "  <tbody>\n",
              "    <tr>\n",
              "      <th>1</th>\n",
              "      <td>4.133333e+12</td>\n",
              "      <td>22.818568</td>\n",
              "      <td>135</td>\n",
              "    </tr>\n",
              "    <tr>\n",
              "      <th>2</th>\n",
              "      <td>4.685714e+12</td>\n",
              "      <td>30.407771</td>\n",
              "      <td>63</td>\n",
              "    </tr>\n",
              "    <tr>\n",
              "      <th>3</th>\n",
              "      <td>5.552113e+12</td>\n",
              "      <td>25.720384</td>\n",
              "      <td>142</td>\n",
              "    </tr>\n",
              "    <tr>\n",
              "      <th>4</th>\n",
              "      <td>4.153846e+12</td>\n",
              "      <td>113.689730</td>\n",
              "      <td>39</td>\n",
              "    </tr>\n",
              "    <tr>\n",
              "      <th>5</th>\n",
              "      <td>3.744000e+12</td>\n",
              "      <td>22.662927</td>\n",
              "      <td>50</td>\n",
              "    </tr>\n",
              "    <tr>\n",
              "      <th>...</th>\n",
              "      <td>...</td>\n",
              "      <td>...</td>\n",
              "      <td>...</td>\n",
              "    </tr>\n",
              "    <tr>\n",
              "      <th>49996</th>\n",
              "      <td>4.430769e+12</td>\n",
              "      <td>20.559820</td>\n",
              "      <td>13</td>\n",
              "    </tr>\n",
              "    <tr>\n",
              "      <th>49997</th>\n",
              "      <td>4.200000e+12</td>\n",
              "      <td>27.896989</td>\n",
              "      <td>18</td>\n",
              "    </tr>\n",
              "    <tr>\n",
              "      <th>49998</th>\n",
              "      <td>4.320000e+12</td>\n",
              "      <td>98.335410</td>\n",
              "      <td>5</td>\n",
              "    </tr>\n",
              "    <tr>\n",
              "      <th>49999</th>\n",
              "      <td>3.600000e+12</td>\n",
              "      <td>34.244420</td>\n",
              "      <td>4</td>\n",
              "    </tr>\n",
              "    <tr>\n",
              "      <th>50000</th>\n",
              "      <td>1.190769e+13</td>\n",
              "      <td>123.832972</td>\n",
              "      <td>13</td>\n",
              "    </tr>\n",
              "  </tbody>\n",
              "</table>\n",
              "<p>49922 rows × 3 columns</p>\n",
              "</div>"
            ],
            "text/plain": [
              "         diff_start_finish    distance  start_time\n",
              "user_id                                           \n",
              "1             4.133333e+12   22.818568         135\n",
              "2             4.685714e+12   30.407771          63\n",
              "3             5.552113e+12   25.720384         142\n",
              "4             4.153846e+12  113.689730          39\n",
              "5             3.744000e+12   22.662927          50\n",
              "...                    ...         ...         ...\n",
              "49996         4.430769e+12   20.559820          13\n",
              "49997         4.200000e+12   27.896989          18\n",
              "49998         4.320000e+12   98.335410           5\n",
              "49999         3.600000e+12   34.244420           4\n",
              "50000         1.190769e+13  123.832972          13\n",
              "\n",
              "[49922 rows x 3 columns]"
            ]
          },
          "metadata": {
            "tags": []
          },
          "execution_count": 45
        }
      ]
    },
    {
      "cell_type": "markdown",
      "metadata": {
        "id": "qYIt1m7dfi0F"
      },
      "source": [
        "**Count trips**"
      ]
    },
    {
      "cell_type": "markdown",
      "metadata": {
        "id": "Ohb6LeLNHUIp"
      },
      "source": [
        "It sounds like a good idea - to have number of trips for each user per month and per day, so it would help with some statictics."
      ]
    },
    {
      "cell_type": "code",
      "metadata": {
        "id": "8LKKuV6NfhcI"
      },
      "source": [
        "def count_trips(df, year):\r\n",
        "  #for all time\r\n",
        "  temp = df.groupby('user_id')[['start_time']].agg('count')\r\n",
        "  temp.to_csv('/content/drive/MyDrive/Colab Notebooks/lviv/final/count_trip_all_{}.csv'.format(year))\r\n",
        "\r\n",
        "  #per month\r\n",
        "  temp = df.groupby(['user_id',df['hmonth'].dt.month])[['start_time']].agg('count')\r\n",
        "  temp.to_csv('/content/drive/MyDrive/Colab Notebooks/lviv/final/count_trip_month_{}.csv'.format(year))\r\n",
        "\r\n",
        "  #per day\r\n",
        "  temp = df.groupby(['user_id',df['start_time'].dt.day])[['finish_time']].agg('count')\r\n",
        "  temp.to_csv('/content/drive/MyDrive/Colab Notebooks/lviv/final/count_trip_day_{}.csv'.format(year))"
      ],
      "execution_count": null,
      "outputs": []
    },
    {
      "cell_type": "code",
      "metadata": {
        "id": "oo4f6PgXP5FR"
      },
      "source": [
        "count_trips(user_routes_2019, '2019')"
      ],
      "execution_count": null,
      "outputs": []
    },
    {
      "cell_type": "markdown",
      "metadata": {
        "id": "D5yQpPU734bd"
      },
      "source": [
        "**Day/Night Activity**"
      ]
    },
    {
      "cell_type": "markdown",
      "metadata": {
        "id": "ZUBd-5EHHqwk"
      },
      "source": [
        "I divided a day to four zone upon working routine - morning(6:00-10:00), day(10:00-16:00), ev(16:00-20:00), night(20:00-06:00)."
      ]
    },
    {
      "cell_type": "code",
      "metadata": {
        "id": "DH6yiTomF4Nm"
      },
      "source": [
        "import datetime as dt"
      ],
      "execution_count": null,
      "outputs": []
    },
    {
      "cell_type": "code",
      "metadata": {
        "id": "9A9TgIc_5KZF"
      },
      "source": [
        "user_routes_2019['time'] = user_routes_2019['finish_time'].dt.time"
      ],
      "execution_count": null,
      "outputs": []
    },
    {
      "cell_type": "code",
      "metadata": {
        "id": "AVX881TLCFfj"
      },
      "source": [
        "six_h = dt.datetime.strptime('06:00:00', '%H:%M:%S').time()\r\n",
        "ten_h = dt.datetime.strptime('10:00:00', '%H:%M:%S').time()\r\n",
        "four_h = dt.datetime.strptime('16:00:00', '%H:%M:%S').time()\r\n",
        "eight_h = dt.datetime.strptime('20:00:00', '%H:%M:%S').time()"
      ],
      "execution_count": null,
      "outputs": []
    },
    {
      "cell_type": "code",
      "metadata": {
        "id": "SLz1zcWr4NEx"
      },
      "source": [
        "user_routes_2019['time_of_day'] = user_routes_2019['time'].apply(lambda x: 0 if (x >= six_h)&(x <= ten_h) else (1 if (x > ten_h)&(x <= four_h) else (2 if (x > four_h)&(x <= eight_h) else 3)))"
      ],
      "execution_count": null,
      "outputs": []
    },
    {
      "cell_type": "code",
      "metadata": {
        "colab": {
          "base_uri": "https://localhost:8080/"
        },
        "id": "M8Ba-Zb64NGj",
        "outputId": "dd793483-6505-48b2-88bd-6597df373bf7"
      },
      "source": [
        "user_routes_2019['time_of_day'].value_counts()"
      ],
      "execution_count": null,
      "outputs": [
        {
          "output_type": "execute_result",
          "data": {
            "text/plain": [
              "1    1185054\n",
              "0    1037296\n",
              "2     907534\n",
              "3     520181\n",
              "Name: time_of_day, dtype: int64"
            ]
          },
          "metadata": {
            "tags": []
          },
          "execution_count": 53
        }
      ]
    },
    {
      "cell_type": "code",
      "metadata": {
        "colab": {
          "base_uri": "https://localhost:8080/",
          "height": 402
        },
        "id": "60tJdO8_Ib9E",
        "outputId": "42c5544c-2b89-4d5f-a0ae-b04422cc9f22"
      },
      "source": [
        "user_routes_2019"
      ],
      "execution_count": null,
      "outputs": [
        {
          "output_type": "execute_result",
          "data": {
            "text/html": [
              "<div>\n",
              "<style scoped>\n",
              "    .dataframe tbody tr th:only-of-type {\n",
              "        vertical-align: middle;\n",
              "    }\n",
              "\n",
              "    .dataframe tbody tr th {\n",
              "        vertical-align: top;\n",
              "    }\n",
              "\n",
              "    .dataframe thead th {\n",
              "        text-align: right;\n",
              "    }\n",
              "</style>\n",
              "<table border=\"1\" class=\"dataframe\">\n",
              "  <thead>\n",
              "    <tr style=\"text-align: right;\">\n",
              "      <th></th>\n",
              "      <th>user_id</th>\n",
              "      <th>start_area_id</th>\n",
              "      <th>finish_area_id</th>\n",
              "      <th>start_time</th>\n",
              "      <th>finish_time</th>\n",
              "      <th>hmonth</th>\n",
              "      <th>diff_start_finish</th>\n",
              "      <th>diff_finish_next_start</th>\n",
              "      <th>day</th>\n",
              "      <th>distance</th>\n",
              "      <th>time</th>\n",
              "      <th>time_of_day</th>\n",
              "    </tr>\n",
              "  </thead>\n",
              "  <tbody>\n",
              "    <tr>\n",
              "      <th>0</th>\n",
              "      <td>1</td>\n",
              "      <td>505</td>\n",
              "      <td>507</td>\n",
              "      <td>2019-04-01 08:00:00</td>\n",
              "      <td>2019-04-01 09:00:00</td>\n",
              "      <td>2019-04-01</td>\n",
              "      <td>3600000000000</td>\n",
              "      <td>0 days 10:00:00</td>\n",
              "      <td>weekday</td>\n",
              "      <td>17.312255</td>\n",
              "      <td>09:00:00</td>\n",
              "      <td>0</td>\n",
              "    </tr>\n",
              "    <tr>\n",
              "      <th>1</th>\n",
              "      <td>1</td>\n",
              "      <td>505</td>\n",
              "      <td>507</td>\n",
              "      <td>2019-04-04 06:00:00</td>\n",
              "      <td>2019-04-04 08:00:00</td>\n",
              "      <td>2019-04-01</td>\n",
              "      <td>7200000000000</td>\n",
              "      <td>0 days 12:00:00</td>\n",
              "      <td>weekday</td>\n",
              "      <td>17.312255</td>\n",
              "      <td>08:00:00</td>\n",
              "      <td>0</td>\n",
              "    </tr>\n",
              "    <tr>\n",
              "      <th>2</th>\n",
              "      <td>1</td>\n",
              "      <td>505</td>\n",
              "      <td>507</td>\n",
              "      <td>2019-04-05 06:00:00</td>\n",
              "      <td>2019-04-05 07:00:00</td>\n",
              "      <td>2019-04-01</td>\n",
              "      <td>3600000000000</td>\n",
              "      <td>0 days 13:00:00</td>\n",
              "      <td>weekday</td>\n",
              "      <td>17.312255</td>\n",
              "      <td>07:00:00</td>\n",
              "      <td>0</td>\n",
              "    </tr>\n",
              "    <tr>\n",
              "      <th>3</th>\n",
              "      <td>1</td>\n",
              "      <td>505</td>\n",
              "      <td>507</td>\n",
              "      <td>2019-04-09 06:00:00</td>\n",
              "      <td>2019-04-09 07:00:00</td>\n",
              "      <td>2019-04-01</td>\n",
              "      <td>3600000000000</td>\n",
              "      <td>0 days 13:00:00</td>\n",
              "      <td>weekday</td>\n",
              "      <td>17.312255</td>\n",
              "      <td>07:00:00</td>\n",
              "      <td>0</td>\n",
              "    </tr>\n",
              "    <tr>\n",
              "      <th>4</th>\n",
              "      <td>1</td>\n",
              "      <td>505</td>\n",
              "      <td>507</td>\n",
              "      <td>2019-04-12 06:00:00</td>\n",
              "      <td>2019-04-12 08:00:00</td>\n",
              "      <td>2019-04-01</td>\n",
              "      <td>7200000000000</td>\n",
              "      <td>0 days 11:00:00</td>\n",
              "      <td>weekday</td>\n",
              "      <td>17.312255</td>\n",
              "      <td>08:00:00</td>\n",
              "      <td>0</td>\n",
              "    </tr>\n",
              "    <tr>\n",
              "      <th>...</th>\n",
              "      <td>...</td>\n",
              "      <td>...</td>\n",
              "      <td>...</td>\n",
              "      <td>...</td>\n",
              "      <td>...</td>\n",
              "      <td>...</td>\n",
              "      <td>...</td>\n",
              "      <td>...</td>\n",
              "      <td>...</td>\n",
              "      <td>...</td>\n",
              "      <td>...</td>\n",
              "      <td>...</td>\n",
              "    </tr>\n",
              "    <tr>\n",
              "      <th>3650060</th>\n",
              "      <td>44139</td>\n",
              "      <td>487</td>\n",
              "      <td>485</td>\n",
              "      <td>2019-06-19 08:00:00</td>\n",
              "      <td>2019-06-19 09:00:00</td>\n",
              "      <td>2019-06-01</td>\n",
              "      <td>3600000000000</td>\n",
              "      <td>3 days 02:00:00</td>\n",
              "      <td>weekday</td>\n",
              "      <td>34.722499</td>\n",
              "      <td>09:00:00</td>\n",
              "      <td>0</td>\n",
              "    </tr>\n",
              "    <tr>\n",
              "      <th>3650061</th>\n",
              "      <td>44139</td>\n",
              "      <td>487</td>\n",
              "      <td>485</td>\n",
              "      <td>2019-06-30 10:00:00</td>\n",
              "      <td>2019-06-30 11:00:00</td>\n",
              "      <td>2019-06-01</td>\n",
              "      <td>3600000000000</td>\n",
              "      <td>57 days 01:00:00</td>\n",
              "      <td>weekend</td>\n",
              "      <td>34.722499</td>\n",
              "      <td>11:00:00</td>\n",
              "      <td>1</td>\n",
              "    </tr>\n",
              "    <tr>\n",
              "      <th>3650062</th>\n",
              "      <td>44139</td>\n",
              "      <td>487</td>\n",
              "      <td>485</td>\n",
              "      <td>2019-08-29 12:00:00</td>\n",
              "      <td>2019-08-29 13:00:00</td>\n",
              "      <td>2019-08-01</td>\n",
              "      <td>3600000000000</td>\n",
              "      <td>29 days 00:00:00</td>\n",
              "      <td>weekday</td>\n",
              "      <td>34.722499</td>\n",
              "      <td>13:00:00</td>\n",
              "      <td>1</td>\n",
              "    </tr>\n",
              "    <tr>\n",
              "      <th>3650063</th>\n",
              "      <td>44139</td>\n",
              "      <td>487</td>\n",
              "      <td>485</td>\n",
              "      <td>2019-09-30 10:00:00</td>\n",
              "      <td>2019-09-30 11:00:00</td>\n",
              "      <td>2019-09-01</td>\n",
              "      <td>3600000000000</td>\n",
              "      <td>NaT</td>\n",
              "      <td>weekday</td>\n",
              "      <td>34.722499</td>\n",
              "      <td>11:00:00</td>\n",
              "      <td>1</td>\n",
              "    </tr>\n",
              "    <tr>\n",
              "      <th>3650064</th>\n",
              "      <td>47462</td>\n",
              "      <td>487</td>\n",
              "      <td>485</td>\n",
              "      <td>2019-09-24 10:00:00</td>\n",
              "      <td>2019-09-24 11:00:00</td>\n",
              "      <td>2019-09-01</td>\n",
              "      <td>3600000000000</td>\n",
              "      <td>0 days 03:00:00</td>\n",
              "      <td>weekday</td>\n",
              "      <td>34.722499</td>\n",
              "      <td>11:00:00</td>\n",
              "      <td>1</td>\n",
              "    </tr>\n",
              "  </tbody>\n",
              "</table>\n",
              "<p>3650065 rows × 12 columns</p>\n",
              "</div>"
            ],
            "text/plain": [
              "         user_id  start_area_id  ...      time time_of_day\n",
              "0              1            505  ...  09:00:00           0\n",
              "1              1            505  ...  08:00:00           0\n",
              "2              1            505  ...  07:00:00           0\n",
              "3              1            505  ...  07:00:00           0\n",
              "4              1            505  ...  08:00:00           0\n",
              "...          ...            ...  ...       ...         ...\n",
              "3650060    44139            487  ...  09:00:00           0\n",
              "3650061    44139            487  ...  11:00:00           1\n",
              "3650062    44139            487  ...  13:00:00           1\n",
              "3650063    44139            487  ...  11:00:00           1\n",
              "3650064    47462            487  ...  11:00:00           1\n",
              "\n",
              "[3650065 rows x 12 columns]"
            ]
          },
          "metadata": {
            "tags": []
          },
          "execution_count": 56
        }
      ]
    },
    {
      "cell_type": "markdown",
      "metadata": {
        "id": "iIpxJYDvIxcn"
      },
      "source": [
        "**Gather everything to one dataframe**"
      ]
    },
    {
      "cell_type": "code",
      "metadata": {
        "id": "dakCsqPwLPee",
        "colab": {
          "base_uri": "https://localhost:8080/",
          "height": 467
        },
        "outputId": "579de236-33a2-4ba8-87c3-d54facf49efa"
      },
      "source": [
        "user_day_time = user_routes_2019.merge(districts_df, right_on = 'area_id', left_on = 'finish_area_id').drop('area_id', axis = 1)\r\n",
        "user_day_time.head()"
      ],
      "execution_count": null,
      "outputs": [
        {
          "output_type": "execute_result",
          "data": {
            "text/html": [
              "<div>\n",
              "<style scoped>\n",
              "    .dataframe tbody tr th:only-of-type {\n",
              "        vertical-align: middle;\n",
              "    }\n",
              "\n",
              "    .dataframe tbody tr th {\n",
              "        vertical-align: top;\n",
              "    }\n",
              "\n",
              "    .dataframe thead th {\n",
              "        text-align: right;\n",
              "    }\n",
              "</style>\n",
              "<table border=\"1\" class=\"dataframe\">\n",
              "  <thead>\n",
              "    <tr style=\"text-align: right;\">\n",
              "      <th></th>\n",
              "      <th>user_id</th>\n",
              "      <th>start_area_id</th>\n",
              "      <th>finish_area_id</th>\n",
              "      <th>start_time</th>\n",
              "      <th>finish_time</th>\n",
              "      <th>hmonth</th>\n",
              "      <th>diff_start_finish</th>\n",
              "      <th>diff_finish_next_start</th>\n",
              "      <th>day</th>\n",
              "      <th>distance</th>\n",
              "      <th>time</th>\n",
              "      <th>time_of_day</th>\n",
              "      <th>region_name</th>\n",
              "      <th>area_name</th>\n",
              "      <th>centroid_lat</th>\n",
              "      <th>centroid_lon</th>\n",
              "      <th>neighbor_area_idx</th>\n",
              "    </tr>\n",
              "  </thead>\n",
              "  <tbody>\n",
              "    <tr>\n",
              "      <th>0</th>\n",
              "      <td>1</td>\n",
              "      <td>505</td>\n",
              "      <td>507</td>\n",
              "      <td>2019-04-01 08:00:00</td>\n",
              "      <td>2019-04-01 09:00:00</td>\n",
              "      <td>2019-04-01</td>\n",
              "      <td>3600000000000</td>\n",
              "      <td>0 days 10:00:00</td>\n",
              "      <td>weekday</td>\n",
              "      <td>17.312255</td>\n",
              "      <td>09:00:00</td>\n",
              "      <td>0</td>\n",
              "      <td>Ivano-Frankivska</td>\n",
              "      <td>Ivano-Frankivska mis'ka rada</td>\n",
              "      <td>48.917401</td>\n",
              "      <td>24.710827</td>\n",
              "      <td>[473]</td>\n",
              "    </tr>\n",
              "    <tr>\n",
              "      <th>1</th>\n",
              "      <td>1</td>\n",
              "      <td>505</td>\n",
              "      <td>507</td>\n",
              "      <td>2019-04-04 06:00:00</td>\n",
              "      <td>2019-04-04 08:00:00</td>\n",
              "      <td>2019-04-01</td>\n",
              "      <td>7200000000000</td>\n",
              "      <td>0 days 12:00:00</td>\n",
              "      <td>weekday</td>\n",
              "      <td>17.312255</td>\n",
              "      <td>08:00:00</td>\n",
              "      <td>0</td>\n",
              "      <td>Ivano-Frankivska</td>\n",
              "      <td>Ivano-Frankivska mis'ka rada</td>\n",
              "      <td>48.917401</td>\n",
              "      <td>24.710827</td>\n",
              "      <td>[473]</td>\n",
              "    </tr>\n",
              "    <tr>\n",
              "      <th>2</th>\n",
              "      <td>1</td>\n",
              "      <td>505</td>\n",
              "      <td>507</td>\n",
              "      <td>2019-04-05 06:00:00</td>\n",
              "      <td>2019-04-05 07:00:00</td>\n",
              "      <td>2019-04-01</td>\n",
              "      <td>3600000000000</td>\n",
              "      <td>0 days 13:00:00</td>\n",
              "      <td>weekday</td>\n",
              "      <td>17.312255</td>\n",
              "      <td>07:00:00</td>\n",
              "      <td>0</td>\n",
              "      <td>Ivano-Frankivska</td>\n",
              "      <td>Ivano-Frankivska mis'ka rada</td>\n",
              "      <td>48.917401</td>\n",
              "      <td>24.710827</td>\n",
              "      <td>[473]</td>\n",
              "    </tr>\n",
              "    <tr>\n",
              "      <th>3</th>\n",
              "      <td>1</td>\n",
              "      <td>505</td>\n",
              "      <td>507</td>\n",
              "      <td>2019-04-09 06:00:00</td>\n",
              "      <td>2019-04-09 07:00:00</td>\n",
              "      <td>2019-04-01</td>\n",
              "      <td>3600000000000</td>\n",
              "      <td>0 days 13:00:00</td>\n",
              "      <td>weekday</td>\n",
              "      <td>17.312255</td>\n",
              "      <td>07:00:00</td>\n",
              "      <td>0</td>\n",
              "      <td>Ivano-Frankivska</td>\n",
              "      <td>Ivano-Frankivska mis'ka rada</td>\n",
              "      <td>48.917401</td>\n",
              "      <td>24.710827</td>\n",
              "      <td>[473]</td>\n",
              "    </tr>\n",
              "    <tr>\n",
              "      <th>4</th>\n",
              "      <td>1</td>\n",
              "      <td>505</td>\n",
              "      <td>507</td>\n",
              "      <td>2019-04-12 06:00:00</td>\n",
              "      <td>2019-04-12 08:00:00</td>\n",
              "      <td>2019-04-01</td>\n",
              "      <td>7200000000000</td>\n",
              "      <td>0 days 11:00:00</td>\n",
              "      <td>weekday</td>\n",
              "      <td>17.312255</td>\n",
              "      <td>08:00:00</td>\n",
              "      <td>0</td>\n",
              "      <td>Ivano-Frankivska</td>\n",
              "      <td>Ivano-Frankivska mis'ka rada</td>\n",
              "      <td>48.917401</td>\n",
              "      <td>24.710827</td>\n",
              "      <td>[473]</td>\n",
              "    </tr>\n",
              "  </tbody>\n",
              "</table>\n",
              "</div>"
            ],
            "text/plain": [
              "   user_id  start_area_id  ...  centroid_lon neighbor_area_idx\n",
              "0        1            505  ...     24.710827             [473]\n",
              "1        1            505  ...     24.710827             [473]\n",
              "2        1            505  ...     24.710827             [473]\n",
              "3        1            505  ...     24.710827             [473]\n",
              "4        1            505  ...     24.710827             [473]\n",
              "\n",
              "[5 rows x 17 columns]"
            ]
          },
          "metadata": {
            "tags": []
          },
          "execution_count": 67
        }
      ]
    },
    {
      "cell_type": "markdown",
      "metadata": {
        "id": "ITN3zATdJEmd"
      },
      "source": [
        "**Pivot table to see distance per daytime and day of the week and the number of trips.**"
      ]
    },
    {
      "cell_type": "code",
      "metadata": {
        "id": "qWTcZK791jYD"
      },
      "source": [
        "pivot_table_2019 = user_day_time.pivot_table(index = 'user_id', columns = ['day','time_of_day'], aggfunc={'distance':'mean', 'start_time':'count'})\r\n",
        "\r\n",
        "pivot_table_2019.columns = pivot_table_2019.columns.droplevel([0,1])\r\n",
        "pivot_table_2019.columns = ['0_dist_weekday','1_dist_weekday','2_dist_weekday','3_dist_weekday',\r\n",
        "                              '0_dist_weekend','1_dist_weekend','2_dist_weekend','3_dist_weekend',\r\n",
        "                              '0_count_weekday','1_count_weekday','2_count_weekday','3_count_weekday',\r\n",
        "                              '0_count_weekend','1_count_weekend','2_count_weekend','3_count_weekend']\r\n",
        "#pivot_table_2019.to_csv('/content/drive/MyDrive/Colab Notebooks/lviv/final/pivot_2019.csv')"
      ],
      "execution_count": null,
      "outputs": []
    },
    {
      "cell_type": "code",
      "metadata": {
        "colab": {
          "base_uri": "https://localhost:8080/",
          "height": 451
        },
        "id": "K1TTgfCe6CgB",
        "outputId": "1055802d-84d6-4eeb-9dcc-8d3fb7a0d27d"
      },
      "source": [
        "pivot_table_2019"
      ],
      "execution_count": null,
      "outputs": [
        {
          "output_type": "execute_result",
          "data": {
            "text/html": [
              "<div>\n",
              "<style scoped>\n",
              "    .dataframe tbody tr th:only-of-type {\n",
              "        vertical-align: middle;\n",
              "    }\n",
              "\n",
              "    .dataframe tbody tr th {\n",
              "        vertical-align: top;\n",
              "    }\n",
              "\n",
              "    .dataframe thead th {\n",
              "        text-align: right;\n",
              "    }\n",
              "</style>\n",
              "<table border=\"1\" class=\"dataframe\">\n",
              "  <thead>\n",
              "    <tr style=\"text-align: right;\">\n",
              "      <th></th>\n",
              "      <th>0_dist_weekday</th>\n",
              "      <th>1_dist_weekday</th>\n",
              "      <th>2_dist_weekday</th>\n",
              "      <th>3_dist_weekday</th>\n",
              "      <th>0_dist_weekend</th>\n",
              "      <th>1_dist_weekend</th>\n",
              "      <th>2_dist_weekend</th>\n",
              "      <th>3_dist_weekend</th>\n",
              "      <th>0_count_weekday</th>\n",
              "      <th>1_count_weekday</th>\n",
              "      <th>2_count_weekday</th>\n",
              "      <th>3_count_weekday</th>\n",
              "      <th>0_count_weekend</th>\n",
              "      <th>1_count_weekend</th>\n",
              "      <th>2_count_weekend</th>\n",
              "      <th>3_count_weekend</th>\n",
              "    </tr>\n",
              "    <tr>\n",
              "      <th>user_id</th>\n",
              "      <th></th>\n",
              "      <th></th>\n",
              "      <th></th>\n",
              "      <th></th>\n",
              "      <th></th>\n",
              "      <th></th>\n",
              "      <th></th>\n",
              "      <th></th>\n",
              "      <th></th>\n",
              "      <th></th>\n",
              "      <th></th>\n",
              "      <th></th>\n",
              "      <th></th>\n",
              "      <th></th>\n",
              "      <th></th>\n",
              "      <th></th>\n",
              "    </tr>\n",
              "  </thead>\n",
              "  <tbody>\n",
              "    <tr>\n",
              "      <th>1</th>\n",
              "      <td>20.311198</td>\n",
              "      <td>22.260407</td>\n",
              "      <td>27.123348</td>\n",
              "      <td>25.248549</td>\n",
              "      <td>20.585974</td>\n",
              "      <td>52.796969</td>\n",
              "      <td>24.254330</td>\n",
              "      <td>21.350247</td>\n",
              "      <td>63.0</td>\n",
              "      <td>22.0</td>\n",
              "      <td>26.0</td>\n",
              "      <td>24.0</td>\n",
              "      <td>26.0</td>\n",
              "      <td>3.0</td>\n",
              "      <td>11.0</td>\n",
              "      <td>15.0</td>\n",
              "    </tr>\n",
              "    <tr>\n",
              "      <th>2</th>\n",
              "      <td>24.920316</td>\n",
              "      <td>34.471080</td>\n",
              "      <td>39.215212</td>\n",
              "      <td>27.552472</td>\n",
              "      <td>23.384891</td>\n",
              "      <td>33.273242</td>\n",
              "      <td>26.361735</td>\n",
              "      <td>34.144706</td>\n",
              "      <td>19.0</td>\n",
              "      <td>13.0</td>\n",
              "      <td>12.0</td>\n",
              "      <td>19.0</td>\n",
              "      <td>4.0</td>\n",
              "      <td>6.0</td>\n",
              "      <td>7.0</td>\n",
              "      <td>9.0</td>\n",
              "    </tr>\n",
              "    <tr>\n",
              "      <th>3</th>\n",
              "      <td>27.814873</td>\n",
              "      <td>26.941040</td>\n",
              "      <td>22.360293</td>\n",
              "      <td>18.463876</td>\n",
              "      <td>28.647317</td>\n",
              "      <td>38.972378</td>\n",
              "      <td>91.539834</td>\n",
              "      <td>11.889746</td>\n",
              "      <td>52.0</td>\n",
              "      <td>55.0</td>\n",
              "      <td>20.0</td>\n",
              "      <td>15.0</td>\n",
              "      <td>16.0</td>\n",
              "      <td>24.0</td>\n",
              "      <td>7.0</td>\n",
              "      <td>4.0</td>\n",
              "    </tr>\n",
              "    <tr>\n",
              "      <th>4</th>\n",
              "      <td>109.833090</td>\n",
              "      <td>154.860980</td>\n",
              "      <td>72.882096</td>\n",
              "      <td>15.664343</td>\n",
              "      <td>154.167324</td>\n",
              "      <td>94.112215</td>\n",
              "      <td>7.346794</td>\n",
              "      <td>NaN</td>\n",
              "      <td>10.0</td>\n",
              "      <td>17.0</td>\n",
              "      <td>9.0</td>\n",
              "      <td>3.0</td>\n",
              "      <td>2.0</td>\n",
              "      <td>6.0</td>\n",
              "      <td>2.0</td>\n",
              "      <td>NaN</td>\n",
              "    </tr>\n",
              "    <tr>\n",
              "      <th>5</th>\n",
              "      <td>22.662927</td>\n",
              "      <td>22.662927</td>\n",
              "      <td>22.662927</td>\n",
              "      <td>22.662927</td>\n",
              "      <td>22.662927</td>\n",
              "      <td>22.662927</td>\n",
              "      <td>22.662927</td>\n",
              "      <td>22.662927</td>\n",
              "      <td>10.0</td>\n",
              "      <td>25.0</td>\n",
              "      <td>13.0</td>\n",
              "      <td>2.0</td>\n",
              "      <td>5.0</td>\n",
              "      <td>9.0</td>\n",
              "      <td>5.0</td>\n",
              "      <td>1.0</td>\n",
              "    </tr>\n",
              "    <tr>\n",
              "      <th>...</th>\n",
              "      <td>...</td>\n",
              "      <td>...</td>\n",
              "      <td>...</td>\n",
              "      <td>...</td>\n",
              "      <td>...</td>\n",
              "      <td>...</td>\n",
              "      <td>...</td>\n",
              "      <td>...</td>\n",
              "      <td>...</td>\n",
              "      <td>...</td>\n",
              "      <td>...</td>\n",
              "      <td>...</td>\n",
              "      <td>...</td>\n",
              "      <td>...</td>\n",
              "      <td>...</td>\n",
              "      <td>...</td>\n",
              "    </tr>\n",
              "    <tr>\n",
              "      <th>49996</th>\n",
              "      <td>43.755871</td>\n",
              "      <td>6.062287</td>\n",
              "      <td>6.062287</td>\n",
              "      <td>NaN</td>\n",
              "      <td>6.062287</td>\n",
              "      <td>6.062287</td>\n",
              "      <td>194.530207</td>\n",
              "      <td>NaN</td>\n",
              "      <td>5.0</td>\n",
              "      <td>7.0</td>\n",
              "      <td>1.0</td>\n",
              "      <td>NaN</td>\n",
              "      <td>1.0</td>\n",
              "      <td>1.0</td>\n",
              "      <td>1.0</td>\n",
              "      <td>NaN</td>\n",
              "    </tr>\n",
              "    <tr>\n",
              "      <th>49997</th>\n",
              "      <td>29.699965</td>\n",
              "      <td>26.454607</td>\n",
              "      <td>NaN</td>\n",
              "      <td>NaN</td>\n",
              "      <td>13.473174</td>\n",
              "      <td>NaN</td>\n",
              "      <td>13.473174</td>\n",
              "      <td>NaN</td>\n",
              "      <td>8.0</td>\n",
              "      <td>10.0</td>\n",
              "      <td>NaN</td>\n",
              "      <td>NaN</td>\n",
              "      <td>1.0</td>\n",
              "      <td>NaN</td>\n",
              "      <td>1.0</td>\n",
              "      <td>NaN</td>\n",
              "    </tr>\n",
              "    <tr>\n",
              "      <th>49998</th>\n",
              "      <td>59.896251</td>\n",
              "      <td>82.238946</td>\n",
              "      <td>207.406657</td>\n",
              "      <td>NaN</td>\n",
              "      <td>84.628500</td>\n",
              "      <td>7.346794</td>\n",
              "      <td>NaN</td>\n",
              "      <td>NaN</td>\n",
              "      <td>2.0</td>\n",
              "      <td>2.0</td>\n",
              "      <td>1.0</td>\n",
              "      <td>NaN</td>\n",
              "      <td>2.0</td>\n",
              "      <td>3.0</td>\n",
              "      <td>NaN</td>\n",
              "      <td>NaN</td>\n",
              "    </tr>\n",
              "    <tr>\n",
              "      <th>49999</th>\n",
              "      <td>34.244420</td>\n",
              "      <td>34.244420</td>\n",
              "      <td>NaN</td>\n",
              "      <td>NaN</td>\n",
              "      <td>34.244420</td>\n",
              "      <td>NaN</td>\n",
              "      <td>34.244420</td>\n",
              "      <td>NaN</td>\n",
              "      <td>2.0</td>\n",
              "      <td>2.0</td>\n",
              "      <td>NaN</td>\n",
              "      <td>NaN</td>\n",
              "      <td>1.0</td>\n",
              "      <td>NaN</td>\n",
              "      <td>1.0</td>\n",
              "      <td>NaN</td>\n",
              "    </tr>\n",
              "    <tr>\n",
              "      <th>50000</th>\n",
              "      <td>127.302005</td>\n",
              "      <td>172.399443</td>\n",
              "      <td>93.478927</td>\n",
              "      <td>172.399443</td>\n",
              "      <td>NaN</td>\n",
              "      <td>172.399443</td>\n",
              "      <td>NaN</td>\n",
              "      <td>NaN</td>\n",
              "      <td>7.0</td>\n",
              "      <td>1.0</td>\n",
              "      <td>4.0</td>\n",
              "      <td>1.0</td>\n",
              "      <td>NaN</td>\n",
              "      <td>1.0</td>\n",
              "      <td>NaN</td>\n",
              "      <td>NaN</td>\n",
              "    </tr>\n",
              "  </tbody>\n",
              "</table>\n",
              "<p>50000 rows × 16 columns</p>\n",
              "</div>"
            ],
            "text/plain": [
              "         0_dist_weekday  1_dist_weekday  ...  2_count_weekend  3_count_weekend\n",
              "user_id                                  ...                                  \n",
              "1             20.311198       22.260407  ...             11.0             15.0\n",
              "2             24.920316       34.471080  ...              7.0              9.0\n",
              "3             27.814873       26.941040  ...              7.0              4.0\n",
              "4            109.833090      154.860980  ...              2.0              NaN\n",
              "5             22.662927       22.662927  ...              5.0              1.0\n",
              "...                 ...             ...  ...              ...              ...\n",
              "49996         43.755871        6.062287  ...              1.0              NaN\n",
              "49997         29.699965       26.454607  ...              1.0              NaN\n",
              "49998         59.896251       82.238946  ...              NaN              NaN\n",
              "49999         34.244420       34.244420  ...              1.0              NaN\n",
              "50000        127.302005      172.399443  ...              NaN              NaN\n",
              "\n",
              "[50000 rows x 16 columns]"
            ]
          },
          "metadata": {
            "tags": []
          },
          "execution_count": 59
        }
      ]
    },
    {
      "cell_type": "code",
      "metadata": {
        "id": "F9AeaUWHLPbT"
      },
      "source": [
        "user_day_time_grouped = user_day_time.groupby(['user_id', 'day', 'time_of_day']).agg({'start_area_id':'count', 'distance':['min', 'mean', 'max'], 'finish_area_id':lambda x: set(x)})"
      ],
      "execution_count": null,
      "outputs": []
    },
    {
      "cell_type": "code",
      "metadata": {
        "id": "qYQwtRtxS_2w"
      },
      "source": [
        "user_day_time_grouped.columns = user_day_time_grouped.columns.droplevel(0)\r\n",
        "user_day_time_grouped.rename({'count':'count_trips', 'min': 'min_distance', 'mean':'mean_distance', 'max':'max_distance', '<lambda>':'final_areas'}, axis = 1, inplace = True)"
      ],
      "execution_count": null,
      "outputs": []
    },
    {
      "cell_type": "code",
      "metadata": {
        "id": "CHQmdogDzavq"
      },
      "source": [
        "#user_day_time_grouped.to_csv('/content/drive/MyDrive/Colab Notebooks/lviv/final/full_2019.csv')"
      ],
      "execution_count": null,
      "outputs": []
    },
    {
      "cell_type": "code",
      "metadata": {
        "id": "lMbRdRjxZF4n",
        "colab": {
          "base_uri": "https://localhost:8080/",
          "height": 431
        },
        "outputId": "eb927824-dd78-481b-a28c-53a8c75fc286"
      },
      "source": [
        "user_day_time_grouped"
      ],
      "execution_count": null,
      "outputs": [
        {
          "output_type": "execute_result",
          "data": {
            "text/html": [
              "<div>\n",
              "<style scoped>\n",
              "    .dataframe tbody tr th:only-of-type {\n",
              "        vertical-align: middle;\n",
              "    }\n",
              "\n",
              "    .dataframe tbody tr th {\n",
              "        vertical-align: top;\n",
              "    }\n",
              "\n",
              "    .dataframe thead th {\n",
              "        text-align: right;\n",
              "    }\n",
              "</style>\n",
              "<table border=\"1\" class=\"dataframe\">\n",
              "  <thead>\n",
              "    <tr style=\"text-align: right;\">\n",
              "      <th></th>\n",
              "      <th></th>\n",
              "      <th></th>\n",
              "      <th>count_trips</th>\n",
              "      <th>min_distance</th>\n",
              "      <th>mean_distance</th>\n",
              "      <th>max_distance</th>\n",
              "      <th>final_areas</th>\n",
              "    </tr>\n",
              "    <tr>\n",
              "      <th>user_id</th>\n",
              "      <th>day</th>\n",
              "      <th>time_of_day</th>\n",
              "      <th></th>\n",
              "      <th></th>\n",
              "      <th></th>\n",
              "      <th></th>\n",
              "      <th></th>\n",
              "    </tr>\n",
              "  </thead>\n",
              "  <tbody>\n",
              "    <tr>\n",
              "      <th rowspan=\"5\" valign=\"top\">1</th>\n",
              "      <th rowspan=\"4\" valign=\"top\">weekday</th>\n",
              "      <th>0</th>\n",
              "      <td>63</td>\n",
              "      <td>10.383302</td>\n",
              "      <td>20.311198</td>\n",
              "      <td>33.449303</td>\n",
              "      <td>{504, 473, 507, 505}</td>\n",
              "    </tr>\n",
              "    <tr>\n",
              "      <th>1</th>\n",
              "      <td>22</td>\n",
              "      <td>17.312255</td>\n",
              "      <td>22.260407</td>\n",
              "      <td>33.449303</td>\n",
              "      <td>{504, 505}</td>\n",
              "    </tr>\n",
              "    <tr>\n",
              "      <th>2</th>\n",
              "      <td>26</td>\n",
              "      <td>17.312255</td>\n",
              "      <td>27.123348</td>\n",
              "      <td>33.449303</td>\n",
              "      <td>{504, 505}</td>\n",
              "    </tr>\n",
              "    <tr>\n",
              "      <th>3</th>\n",
              "      <td>24</td>\n",
              "      <td>10.383302</td>\n",
              "      <td>25.248549</td>\n",
              "      <td>144.950994</td>\n",
              "      <td>{504, 473, 505}</td>\n",
              "    </tr>\n",
              "    <tr>\n",
              "      <th>weekend</th>\n",
              "      <th>0</th>\n",
              "      <td>26</td>\n",
              "      <td>17.312255</td>\n",
              "      <td>20.585974</td>\n",
              "      <td>33.449303</td>\n",
              "      <td>{504, 505, 507}</td>\n",
              "    </tr>\n",
              "    <tr>\n",
              "      <th>...</th>\n",
              "      <th>...</th>\n",
              "      <th>...</th>\n",
              "      <td>...</td>\n",
              "      <td>...</td>\n",
              "      <td>...</td>\n",
              "      <td>...</td>\n",
              "      <td>...</td>\n",
              "    </tr>\n",
              "    <tr>\n",
              "      <th rowspan=\"5\" valign=\"top\">50000</th>\n",
              "      <th rowspan=\"4\" valign=\"top\">weekday</th>\n",
              "      <th>0</th>\n",
              "      <td>7</td>\n",
              "      <td>67.172088</td>\n",
              "      <td>127.302005</td>\n",
              "      <td>172.399443</td>\n",
              "      <td>{228, 492}</td>\n",
              "    </tr>\n",
              "    <tr>\n",
              "      <th>1</th>\n",
              "      <td>1</td>\n",
              "      <td>172.399443</td>\n",
              "      <td>172.399443</td>\n",
              "      <td>172.399443</td>\n",
              "      <td>{179}</td>\n",
              "    </tr>\n",
              "    <tr>\n",
              "      <th>2</th>\n",
              "      <td>4</td>\n",
              "      <td>67.172088</td>\n",
              "      <td>93.478927</td>\n",
              "      <td>172.399443</td>\n",
              "      <td>{179}</td>\n",
              "    </tr>\n",
              "    <tr>\n",
              "      <th>3</th>\n",
              "      <td>1</td>\n",
              "      <td>172.399443</td>\n",
              "      <td>172.399443</td>\n",
              "      <td>172.399443</td>\n",
              "      <td>{179}</td>\n",
              "    </tr>\n",
              "    <tr>\n",
              "      <th>weekend</th>\n",
              "      <th>1</th>\n",
              "      <td>1</td>\n",
              "      <td>172.399443</td>\n",
              "      <td>172.399443</td>\n",
              "      <td>172.399443</td>\n",
              "      <td>{179}</td>\n",
              "    </tr>\n",
              "  </tbody>\n",
              "</table>\n",
              "<p>352013 rows × 5 columns</p>\n",
              "</div>"
            ],
            "text/plain": [
              "                             count_trips  ...           final_areas\n",
              "user_id day     time_of_day               ...                      \n",
              "1       weekday 0                     63  ...  {504, 473, 507, 505}\n",
              "                1                     22  ...            {504, 505}\n",
              "                2                     26  ...            {504, 505}\n",
              "                3                     24  ...       {504, 473, 505}\n",
              "        weekend 0                     26  ...       {504, 505, 507}\n",
              "...                                  ...  ...                   ...\n",
              "50000   weekday 0                      7  ...            {228, 492}\n",
              "                1                      1  ...                 {179}\n",
              "                2                      4  ...                 {179}\n",
              "                3                      1  ...                 {179}\n",
              "        weekend 1                      1  ...                 {179}\n",
              "\n",
              "[352013 rows x 5 columns]"
            ]
          },
          "metadata": {
            "tags": []
          },
          "execution_count": 70
        }
      ]
    },
    {
      "cell_type": "markdown",
      "metadata": {
        "id": "Ov45Z5QUWTBg"
      },
      "source": [
        "**Users living area**"
      ]
    },
    {
      "cell_type": "markdown",
      "metadata": {
        "id": "YyW4JENcDyPq"
      },
      "source": [
        "I define the area where the user may live, its frequency in his routes, region and neighbour areas"
      ]
    },
    {
      "cell_type": "code",
      "metadata": {
        "id": "CazLSj1pTrf7"
      },
      "source": [
        "#adding mode and frequancy for start area\r\n",
        "from scipy.stats import mode\r\n",
        "\r\n",
        "def living_area(df):\r\n",
        "  temp_df = df\\\r\n",
        "          .groupby('user_id', as_index=False)[['start_area_id']]\\\r\n",
        "          .agg(mode)\r\n",
        "\r\n",
        "  #separete columns\r\n",
        "  temp_df['area_freq'] = temp_df['start_area_id'].apply(lambda x: x[1][0])\r\n",
        "  temp_df['start_area_id'] = temp_df['start_area_id'].apply(lambda x: x[0][0])\r\n",
        "\r\n",
        "  temp_df = temp_df.merge(districts_df, right_on = 'area_id', left_on = 'start_area_id').drop('area_id', axis = 1)\r\n",
        "  temp_df = temp_df.rename({'start_area_id':'living_area'}, axis = 1).drop('area_name', axis = 1)\r\n",
        "\r\n",
        "  return temp_df"
      ],
      "execution_count": null,
      "outputs": []
    },
    {
      "cell_type": "code",
      "metadata": {
        "id": "ClPO0rIAJA6g"
      },
      "source": [
        "user_living_area = living_area(user_routes_2019)"
      ],
      "execution_count": null,
      "outputs": []
    },
    {
      "cell_type": "code",
      "metadata": {
        "colab": {
          "base_uri": "https://localhost:8080/",
          "height": 195
        },
        "id": "gErhYhmJBgTC",
        "outputId": "5bc77805-aa95-4408-adbd-66adb617d01f"
      },
      "source": [
        "user_living_area.head()"
      ],
      "execution_count": null,
      "outputs": [
        {
          "output_type": "execute_result",
          "data": {
            "text/html": [
              "<div>\n",
              "<style scoped>\n",
              "    .dataframe tbody tr th:only-of-type {\n",
              "        vertical-align: middle;\n",
              "    }\n",
              "\n",
              "    .dataframe tbody tr th {\n",
              "        vertical-align: top;\n",
              "    }\n",
              "\n",
              "    .dataframe thead th {\n",
              "        text-align: right;\n",
              "    }\n",
              "</style>\n",
              "<table border=\"1\" class=\"dataframe\">\n",
              "  <thead>\n",
              "    <tr style=\"text-align: right;\">\n",
              "      <th></th>\n",
              "      <th>user_id</th>\n",
              "      <th>living_area</th>\n",
              "      <th>area_freq</th>\n",
              "      <th>region_name</th>\n",
              "      <th>centroid_lat</th>\n",
              "      <th>centroid_lon</th>\n",
              "      <th>neighbor_area_idx</th>\n",
              "    </tr>\n",
              "  </thead>\n",
              "  <tbody>\n",
              "    <tr>\n",
              "      <th>0</th>\n",
              "      <td>1</td>\n",
              "      <td>505</td>\n",
              "      <td>70</td>\n",
              "      <td>Ivano-Frankivska</td>\n",
              "      <td>48.807555</td>\n",
              "      <td>24.543633</td>\n",
              "      <td>[473, 504, 503, 509, 531]</td>\n",
              "    </tr>\n",
              "    <tr>\n",
              "      <th>1</th>\n",
              "      <td>500</td>\n",
              "      <td>505</td>\n",
              "      <td>10</td>\n",
              "      <td>Ivano-Frankivska</td>\n",
              "      <td>48.807555</td>\n",
              "      <td>24.543633</td>\n",
              "      <td>[473, 504, 503, 509, 531]</td>\n",
              "    </tr>\n",
              "    <tr>\n",
              "      <th>2</th>\n",
              "      <td>1798</td>\n",
              "      <td>505</td>\n",
              "      <td>20</td>\n",
              "      <td>Ivano-Frankivska</td>\n",
              "      <td>48.807555</td>\n",
              "      <td>24.543633</td>\n",
              "      <td>[473, 504, 503, 509, 531]</td>\n",
              "    </tr>\n",
              "    <tr>\n",
              "      <th>3</th>\n",
              "      <td>1844</td>\n",
              "      <td>505</td>\n",
              "      <td>14</td>\n",
              "      <td>Ivano-Frankivska</td>\n",
              "      <td>48.807555</td>\n",
              "      <td>24.543633</td>\n",
              "      <td>[473, 504, 503, 509, 531]</td>\n",
              "    </tr>\n",
              "    <tr>\n",
              "      <th>4</th>\n",
              "      <td>2112</td>\n",
              "      <td>505</td>\n",
              "      <td>18</td>\n",
              "      <td>Ivano-Frankivska</td>\n",
              "      <td>48.807555</td>\n",
              "      <td>24.543633</td>\n",
              "      <td>[473, 504, 503, 509, 531]</td>\n",
              "    </tr>\n",
              "  </tbody>\n",
              "</table>\n",
              "</div>"
            ],
            "text/plain": [
              "   user_id  living_area  ...  centroid_lon          neighbor_area_idx\n",
              "0        1          505  ...     24.543633  [473, 504, 503, 509, 531]\n",
              "1      500          505  ...     24.543633  [473, 504, 503, 509, 531]\n",
              "2     1798          505  ...     24.543633  [473, 504, 503, 509, 531]\n",
              "3     1844          505  ...     24.543633  [473, 504, 503, 509, 531]\n",
              "4     2112          505  ...     24.543633  [473, 504, 503, 509, 531]\n",
              "\n",
              "[5 rows x 7 columns]"
            ]
          },
          "metadata": {
            "tags": []
          },
          "execution_count": 73
        }
      ]
    },
    {
      "cell_type": "markdown",
      "metadata": {
        "id": "GYCZpy3Ngn1W"
      },
      "source": [
        "**Popular trips per weekdays and weekends**"
      ]
    },
    {
      "cell_type": "markdown",
      "metadata": {
        "id": "ffawd5BOKlV4"
      },
      "source": [
        "I find most popular areas per weekdays and weekends for each user"
      ]
    },
    {
      "cell_type": "code",
      "metadata": {
        "id": "6HjIMFusJeWj"
      },
      "source": [
        "def popular_trips_weekdays(df):\r\n",
        "  #weekdays\r\n",
        "  weekdays_exp = (df['day'] == 'weekday')\r\n",
        "\r\n",
        "  #count area frequency per weekdays\r\n",
        "  weekdays_temp = df.loc[weekdays_exp]\\\r\n",
        "                .groupby('user_id')['start_area_id'].value_counts()\\\r\n",
        "                .to_frame().rename({'start_area_id':'count'}, axis = 1)\r\n",
        "\r\n",
        "  #select 3 most frequency area per weekdays\r\n",
        "  weekdays_temp = weekdays_temp.groupby('user_id').head(3).reset_index().groupby('user_id')['start_area_id'].apply(list)\r\n",
        "\r\n",
        "  return weekdays_temp"
      ],
      "execution_count": null,
      "outputs": []
    },
    {
      "cell_type": "code",
      "metadata": {
        "id": "RppAOYpdRPzt"
      },
      "source": [
        "def popular_trips_weekends(df):\r\n",
        "  #weekends\r\n",
        "  weekends_exp = (df['day'] == 'weekend')\r\n",
        "\r\n",
        "  #count area frequency per weekends\r\n",
        "  weekends_temp = df.loc[weekends_exp]\\\r\n",
        "                .groupby('user_id')['start_area_id'].value_counts()\\\r\n",
        "                .to_frame().rename({'start_area_id':'count'}, axis = 1)\r\n",
        "\r\n",
        "  #select 3 most frequency area per weekends\r\n",
        "  weekends_temp = weekends_temp.groupby('user_id').head(3).reset_index().groupby('user_id')['start_area_id'].apply(list)\r\n",
        "\r\n",
        "  return weekends_temp"
      ],
      "execution_count": null,
      "outputs": []
    },
    {
      "cell_type": "code",
      "metadata": {
        "id": "bg9JnevhRhDs"
      },
      "source": [
        "user_living_area = user_living_area.merge(popular_trips_weekdays(user_routes_2019), right_index = True, left_on = 'user_id')\\\r\n",
        "                .rename({'start_area_id':'areas_weekdays'}, axis = 1)\r\n",
        "\r\n",
        "user_living_area = user_living_area.merge(popular_trips_weekends(user_routes_2019), right_index = True, left_on = 'user_id')\\\r\n",
        "                .rename({'start_area_id':'areas_weekends'}, axis = 1)"
      ],
      "execution_count": null,
      "outputs": []
    },
    {
      "cell_type": "code",
      "metadata": {
        "id": "SAusJMXASq-3"
      },
      "source": [
        "user_living_area = user_living_area.merge(weekdays_df, right_index = True, left_on = 'user_id').rename({'diff_start_finish':'mean_time_weekdays', 'distance':'mean_dist_weekdays', 'start_time':'count_trips_weekdays'}, axis = 1)\r\n",
        "user_stat_2019 = user_living_area.merge(weekends_df, right_index = True, left_on = 'user_id').rename({'diff_start_finish':'mean_time_weekends', 'distance':'mean_dist_weekends', 'start_time':'count_trips_weekends'}, axis = 1)"
      ],
      "execution_count": null,
      "outputs": []
    },
    {
      "cell_type": "code",
      "metadata": {
        "id": "RJGRRlRfJuyO"
      },
      "source": [
        "#user_stat_2019.to_csv('/content/drive/MyDrive/Colab Notebooks/lviv/final/user_stat_2019.csv')"
      ],
      "execution_count": null,
      "outputs": []
    },
    {
      "cell_type": "code",
      "metadata": {
        "colab": {
          "base_uri": "https://localhost:8080/",
          "height": 539
        },
        "id": "LgMCiXsEUTWx",
        "outputId": "6914c058-97fc-4a31-c42a-5a6fa692f17e"
      },
      "source": [
        "user_stat_2019"
      ],
      "execution_count": null,
      "outputs": [
        {
          "output_type": "execute_result",
          "data": {
            "text/html": [
              "<div>\n",
              "<style scoped>\n",
              "    .dataframe tbody tr th:only-of-type {\n",
              "        vertical-align: middle;\n",
              "    }\n",
              "\n",
              "    .dataframe tbody tr th {\n",
              "        vertical-align: top;\n",
              "    }\n",
              "\n",
              "    .dataframe thead th {\n",
              "        text-align: right;\n",
              "    }\n",
              "</style>\n",
              "<table border=\"1\" class=\"dataframe\">\n",
              "  <thead>\n",
              "    <tr style=\"text-align: right;\">\n",
              "      <th></th>\n",
              "      <th>user_id</th>\n",
              "      <th>living_area</th>\n",
              "      <th>area_freq</th>\n",
              "      <th>region_name</th>\n",
              "      <th>centroid_lat</th>\n",
              "      <th>centroid_lon</th>\n",
              "      <th>neighbor_area_idx</th>\n",
              "      <th>areas_weekdays</th>\n",
              "      <th>areas_weekends</th>\n",
              "      <th>mean_time_weekdays</th>\n",
              "      <th>mean_dist_weekdays</th>\n",
              "      <th>count_trips_weekdays</th>\n",
              "      <th>mean_time_weekends</th>\n",
              "      <th>mean_dist_weekends</th>\n",
              "      <th>count_trips_weekends</th>\n",
              "    </tr>\n",
              "  </thead>\n",
              "  <tbody>\n",
              "    <tr>\n",
              "      <th>0</th>\n",
              "      <td>1</td>\n",
              "      <td>505</td>\n",
              "      <td>70</td>\n",
              "      <td>Ivano-Frankivska</td>\n",
              "      <td>48.807555</td>\n",
              "      <td>24.543633</td>\n",
              "      <td>[473, 504, 503, 509, 531]</td>\n",
              "      <td>[505, 507, 504]</td>\n",
              "      <td>[505, 507, 504]</td>\n",
              "      <td>4.133333e+12</td>\n",
              "      <td>22.818568</td>\n",
              "      <td>135</td>\n",
              "      <td>4.581818e+12</td>\n",
              "      <td>23.285047</td>\n",
              "      <td>55</td>\n",
              "    </tr>\n",
              "    <tr>\n",
              "      <th>1</th>\n",
              "      <td>500</td>\n",
              "      <td>505</td>\n",
              "      <td>10</td>\n",
              "      <td>Ivano-Frankivska</td>\n",
              "      <td>48.807555</td>\n",
              "      <td>24.543633</td>\n",
              "      <td>[473, 504, 503, 509, 531]</td>\n",
              "      <td>[354, 505, 492]</td>\n",
              "      <td>[505, 507, 336]</td>\n",
              "      <td>7.200000e+12</td>\n",
              "      <td>219.874633</td>\n",
              "      <td>53</td>\n",
              "      <td>3.600000e+12</td>\n",
              "      <td>27.523671</td>\n",
              "      <td>8</td>\n",
              "    </tr>\n",
              "    <tr>\n",
              "      <th>2</th>\n",
              "      <td>1798</td>\n",
              "      <td>505</td>\n",
              "      <td>20</td>\n",
              "      <td>Ivano-Frankivska</td>\n",
              "      <td>48.807555</td>\n",
              "      <td>24.543633</td>\n",
              "      <td>[473, 504, 503, 509, 531]</td>\n",
              "      <td>[505, 473, 507]</td>\n",
              "      <td>[505, 473, 440]</td>\n",
              "      <td>4.296774e+12</td>\n",
              "      <td>21.221287</td>\n",
              "      <td>31</td>\n",
              "      <td>4.320000e+12</td>\n",
              "      <td>25.245205</td>\n",
              "      <td>10</td>\n",
              "    </tr>\n",
              "    <tr>\n",
              "      <th>3</th>\n",
              "      <td>1844</td>\n",
              "      <td>505</td>\n",
              "      <td>14</td>\n",
              "      <td>Ivano-Frankivska</td>\n",
              "      <td>48.807555</td>\n",
              "      <td>24.543633</td>\n",
              "      <td>[473, 504, 503, 509, 531]</td>\n",
              "      <td>[505, 473, 507]</td>\n",
              "      <td>[505, 473, 482]</td>\n",
              "      <td>6.533333e+12</td>\n",
              "      <td>39.430642</td>\n",
              "      <td>27</td>\n",
              "      <td>7.800000e+12</td>\n",
              "      <td>47.609919</td>\n",
              "      <td>6</td>\n",
              "    </tr>\n",
              "    <tr>\n",
              "      <th>4</th>\n",
              "      <td>2112</td>\n",
              "      <td>505</td>\n",
              "      <td>18</td>\n",
              "      <td>Ivano-Frankivska</td>\n",
              "      <td>48.807555</td>\n",
              "      <td>24.543633</td>\n",
              "      <td>[473, 504, 503, 509, 531]</td>\n",
              "      <td>[505, 507, 482]</td>\n",
              "      <td>[505, 507]</td>\n",
              "      <td>5.250000e+12</td>\n",
              "      <td>28.339603</td>\n",
              "      <td>24</td>\n",
              "      <td>3.900000e+12</td>\n",
              "      <td>17.312255</td>\n",
              "      <td>12</td>\n",
              "    </tr>\n",
              "    <tr>\n",
              "      <th>...</th>\n",
              "      <td>...</td>\n",
              "      <td>...</td>\n",
              "      <td>...</td>\n",
              "      <td>...</td>\n",
              "      <td>...</td>\n",
              "      <td>...</td>\n",
              "      <td>...</td>\n",
              "      <td>...</td>\n",
              "      <td>...</td>\n",
              "      <td>...</td>\n",
              "      <td>...</td>\n",
              "      <td>...</td>\n",
              "      <td>...</td>\n",
              "      <td>...</td>\n",
              "      <td>...</td>\n",
              "    </tr>\n",
              "    <tr>\n",
              "      <th>49995</th>\n",
              "      <td>30927</td>\n",
              "      <td>139</td>\n",
              "      <td>11</td>\n",
              "      <td>Odeska</td>\n",
              "      <td>47.540147</td>\n",
              "      <td>29.461138</td>\n",
              "      <td>[244, 129]</td>\n",
              "      <td>[139, 244, 132]</td>\n",
              "      <td>[139, 232, 244]</td>\n",
              "      <td>5.040000e+12</td>\n",
              "      <td>42.669040</td>\n",
              "      <td>20</td>\n",
              "      <td>3.600000e+12</td>\n",
              "      <td>54.270395</td>\n",
              "      <td>4</td>\n",
              "    </tr>\n",
              "    <tr>\n",
              "      <th>49996</th>\n",
              "      <td>34562</td>\n",
              "      <td>139</td>\n",
              "      <td>4</td>\n",
              "      <td>Odeska</td>\n",
              "      <td>47.540147</td>\n",
              "      <td>29.461138</td>\n",
              "      <td>[244, 129]</td>\n",
              "      <td>[139, 1, 80]</td>\n",
              "      <td>[139, 232, 244]</td>\n",
              "      <td>7.920000e+12</td>\n",
              "      <td>82.064401</td>\n",
              "      <td>5</td>\n",
              "      <td>7.200000e+12</td>\n",
              "      <td>88.030147</td>\n",
              "      <td>4</td>\n",
              "    </tr>\n",
              "    <tr>\n",
              "      <th>49997</th>\n",
              "      <td>49153</td>\n",
              "      <td>139</td>\n",
              "      <td>6</td>\n",
              "      <td>Odeska</td>\n",
              "      <td>47.540147</td>\n",
              "      <td>29.461138</td>\n",
              "      <td>[244, 129]</td>\n",
              "      <td>[139, 140, 243]</td>\n",
              "      <td>[243, 139, 244]</td>\n",
              "      <td>3.600000e+12</td>\n",
              "      <td>45.759428</td>\n",
              "      <td>6</td>\n",
              "      <td>3.600000e+12</td>\n",
              "      <td>40.292992</td>\n",
              "      <td>8</td>\n",
              "    </tr>\n",
              "    <tr>\n",
              "      <th>49998</th>\n",
              "      <td>28400</td>\n",
              "      <td>321</td>\n",
              "      <td>11</td>\n",
              "      <td>Kharkivska</td>\n",
              "      <td>49.380325</td>\n",
              "      <td>37.624960</td>\n",
              "      <td>[386, 342, 490, 533, 380, 381]</td>\n",
              "      <td>[321, 364, 380]</td>\n",
              "      <td>[321, 364, 380]</td>\n",
              "      <td>3.600000e+12</td>\n",
              "      <td>63.335253</td>\n",
              "      <td>19</td>\n",
              "      <td>3.600000e+12</td>\n",
              "      <td>61.137614</td>\n",
              "      <td>7</td>\n",
              "    </tr>\n",
              "    <tr>\n",
              "      <th>49999</th>\n",
              "      <td>37330</td>\n",
              "      <td>321</td>\n",
              "      <td>3</td>\n",
              "      <td>Kharkivska</td>\n",
              "      <td>49.380325</td>\n",
              "      <td>37.624960</td>\n",
              "      <td>[386, 342, 490, 533, 380, 381]</td>\n",
              "      <td>[321, 380]</td>\n",
              "      <td>[380, 321]</td>\n",
              "      <td>3.600000e+12</td>\n",
              "      <td>36.513418</td>\n",
              "      <td>3</td>\n",
              "      <td>3.600000e+12</td>\n",
              "      <td>36.513418</td>\n",
              "      <td>3</td>\n",
              "    </tr>\n",
              "  </tbody>\n",
              "</table>\n",
              "<p>49145 rows × 15 columns</p>\n",
              "</div>"
            ],
            "text/plain": [
              "       user_id  living_area  ...  mean_dist_weekends count_trips_weekends\n",
              "0            1          505  ...           23.285047                   55\n",
              "1          500          505  ...           27.523671                    8\n",
              "2         1798          505  ...           25.245205                   10\n",
              "3         1844          505  ...           47.609919                    6\n",
              "4         2112          505  ...           17.312255                   12\n",
              "...        ...          ...  ...                 ...                  ...\n",
              "49995    30927          139  ...           54.270395                    4\n",
              "49996    34562          139  ...           88.030147                    4\n",
              "49997    49153          139  ...           40.292992                    8\n",
              "49998    28400          321  ...           61.137614                    7\n",
              "49999    37330          321  ...           36.513418                    3\n",
              "\n",
              "[49145 rows x 15 columns]"
            ]
          },
          "metadata": {
            "tags": []
          },
          "execution_count": 78
        }
      ]
    },
    {
      "cell_type": "markdown",
      "metadata": {
        "id": "1p-WsvmWKwLM"
      },
      "source": [
        "### **Final Features for clusterization:**\r\n",
        " - living area\r\n",
        " - most popular areas on weekdays\r\n",
        " - most popular areas on weekends\r\n",
        " - mean time spent for routes on weekdays\r\n",
        " - mean distance user went on weekdays\r\n",
        " - number of trips on weekdays\r\n",
        " - mean time spent for routes on weekends\r\n",
        " - mean distance user went on weekends\r\n",
        " - number of trips on weekends\r\n",
        "\r\n"
      ]
    },
    {
      "cell_type": "markdown",
      "metadata": {
        "id": "6geV0P4vmvmI"
      },
      "source": [
        "## Task 2 - Clusterization users who visited Lviv on September in 2019"
      ]
    },
    {
      "cell_type": "markdown",
      "metadata": {
        "id": "EnaOWvsPYvEm"
      },
      "source": [
        "Using user routes data in Lviv find how they arrived to the city and left it. Also create clusterization for purpose of visiting the city."
      ]
    },
    {
      "cell_type": "markdown",
      "metadata": {
        "id": "vd2qCh8aMhvG"
      },
      "source": [
        "I created features, visualizations and clusterization for this task alone as the rest of a team worked on the complex first task"
      ]
    },
    {
      "cell_type": "markdown",
      "metadata": {
        "id": "WPvQ-RPRNo1h"
      },
      "source": [
        "### Explotatory Analysis"
      ]
    },
    {
      "cell_type": "markdown",
      "metadata": {
        "id": "tXIZjaJQoj7H"
      },
      "source": [
        "**Lviv shape - define the city borders.**"
      ]
    },
    {
      "cell_type": "code",
      "metadata": {
        "id": "rTnX8KVg33vT"
      },
      "source": [
        "import json\r\n",
        "import re\r\n",
        "sns.set()\r\n",
        "\r\n",
        "path = '/content/drive/MyDrive/Colab Notebooks/lviv/Lviv.geojson'\r\n",
        "with open(path) as f:\r\n",
        "    geojson = json.load(f)"
      ],
      "execution_count": 39,
      "outputs": []
    },
    {
      "cell_type": "code",
      "metadata": {
        "colab": {
          "base_uri": "https://localhost:8080/",
          "height": 195
        },
        "id": "AeZSBhkl331S",
        "outputId": "03f7f8ac-1a9d-4b12-b72e-3a9400cc18f2"
      },
      "source": [
        "geojson = re.findall(r\"(\\d*.\\d*,\\d*.\\d*\\])\", geojson)\r\n",
        "geojson = pd.DataFrame(geojson).rename({0: \"data\"}, axis='columns')\r\n",
        "geojson = geojson['data'].str.split(\",\", n = 1, expand = True)\\\r\n",
        "                        .rename({0: \"lat\", 1:'lon'}, axis='columns')\\\r\n",
        "                        .dropna()\\\r\n",
        "                        .astype({'lat': 'float'})\r\n",
        "geojson['lon'] = geojson['lon'].str.rstrip('],').astype('float')\r\n",
        "geojson.head()"
      ],
      "execution_count": 40,
      "outputs": [
        {
          "output_type": "execute_result",
          "data": {
            "text/html": [
              "<div>\n",
              "<style scoped>\n",
              "    .dataframe tbody tr th:only-of-type {\n",
              "        vertical-align: middle;\n",
              "    }\n",
              "\n",
              "    .dataframe tbody tr th {\n",
              "        vertical-align: top;\n",
              "    }\n",
              "\n",
              "    .dataframe thead th {\n",
              "        text-align: right;\n",
              "    }\n",
              "</style>\n",
              "<table border=\"1\" class=\"dataframe\">\n",
              "  <thead>\n",
              "    <tr style=\"text-align: right;\">\n",
              "      <th></th>\n",
              "      <th>lat</th>\n",
              "      <th>lon</th>\n",
              "    </tr>\n",
              "  </thead>\n",
              "  <tbody>\n",
              "    <tr>\n",
              "      <th>0</th>\n",
              "      <td>24.100619</td>\n",
              "      <td>49.848169</td>\n",
              "    </tr>\n",
              "    <tr>\n",
              "      <th>1</th>\n",
              "      <td>24.100500</td>\n",
              "      <td>49.847624</td>\n",
              "    </tr>\n",
              "    <tr>\n",
              "      <th>2</th>\n",
              "      <td>24.100476</td>\n",
              "      <td>49.847512</td>\n",
              "    </tr>\n",
              "    <tr>\n",
              "      <th>3</th>\n",
              "      <td>24.100475</td>\n",
              "      <td>49.847427</td>\n",
              "    </tr>\n",
              "    <tr>\n",
              "      <th>4</th>\n",
              "      <td>24.100481</td>\n",
              "      <td>49.847392</td>\n",
              "    </tr>\n",
              "  </tbody>\n",
              "</table>\n",
              "</div>"
            ],
            "text/plain": [
              "         lat        lon\n",
              "0  24.100619  49.848169\n",
              "1  24.100500  49.847624\n",
              "2  24.100476  49.847512\n",
              "3  24.100475  49.847427\n",
              "4  24.100481  49.847392"
            ]
          },
          "metadata": {
            "tags": []
          },
          "execution_count": 40
        }
      ]
    },
    {
      "cell_type": "code",
      "metadata": {
        "id": "2ipmpPa9333s"
      },
      "source": [
        "geo_df = geopandas.GeoDataFrame(geometry=geopandas.points_from_xy(geojson.lat, geojson.lon))"
      ],
      "execution_count": 41,
      "outputs": []
    },
    {
      "cell_type": "code",
      "metadata": {
        "colab": {
          "base_uri": "https://localhost:8080/",
          "height": 286
        },
        "id": "PcBXHTlj336n",
        "outputId": "bcc0d097-571c-49f3-c654-eed1a3777057"
      },
      "source": [
        "geo_df.plot(figsize=(12, 4))"
      ],
      "execution_count": 42,
      "outputs": [
        {
          "output_type": "execute_result",
          "data": {
            "text/plain": [
              "<matplotlib.axes._subplots.AxesSubplot at 0x7f81269a2e48>"
            ]
          },
          "metadata": {
            "tags": []
          },
          "execution_count": 42
        },
        {
          "output_type": "display_data",
          "data": {
            "image/png": "[encoded data removed]",
            "text/plain": [
              "<Figure size 864x288 with 1 Axes>"
            ]
          },
          "metadata": {
            "tags": []
          }
        }
      ]
    },
    {
      "cell_type": "code",
      "metadata": {
        "id": "S6A6In3P34Cq"
      },
      "source": [
        "#select first 500k point for visualization user transactions who visited Lviv in September\r\n",
        "points = geopandas.GeoDataFrame(geometry=geopandas.points_from_xy(transactions.lat[:500000], transactions.lon[:500000]))"
      ],
      "execution_count": 43,
      "outputs": []
    },
    {
      "cell_type": "code",
      "metadata": {
        "colab": {
          "base_uri": "https://localhost:8080/",
          "height": 481
        },
        "id": "Tzezmitk339r",
        "outputId": "51713eca-a1eb-47e3-e893-6b804175e55d"
      },
      "source": [
        "#define Lviv borders with black\r\n",
        "base = points.plot(marker='o', color='red', markersize=5, figsize=(20, 15))\r\n",
        "geo_df.plot(ax=base, color='white', edgecolor='black')"
      ],
      "execution_count": 45,
      "outputs": [
        {
          "output_type": "execute_result",
          "data": {
            "text/plain": [
              "<matplotlib.axes._subplots.AxesSubplot at 0x7f81256c0400>"
            ]
          },
          "metadata": {
            "tags": []
          },
          "execution_count": 45
        },
        {
          "output_type": "display_data",
          "data": {
            "image/png": "[encoded data removed]",
            "text/plain": [
              "<Figure size 1440x1080 with 1 Axes>"
            ]
          },
          "metadata": {
            "tags": []
          }
        }
      ]
    },
    {
      "cell_type": "code",
      "metadata": {
        "colab": {
          "base_uri": "https://localhost:8080/",
          "height": 378
        },
        "id": "eTg_FCQUPS-C",
        "outputId": "1a918dd6-980b-4d96-fb1b-18a6949cd3f9"
      },
      "source": [
        "#another Lviv bordes visualization\r\n",
        "polygon_lviv = Polygon(zip(geojson['lat'], geojson['lon']))\r\n",
        "crs = {'init': 'epsg:4326'}\r\n",
        "polygon = geopandas.GeoDataFrame(index=[0], crs=crs, geometry=[polygon_lviv])       \r\n",
        "polygon.plot(figsize=(15,5));"
      ],
      "execution_count": 52,
      "outputs": [
        {
          "output_type": "stream",
          "text": [
            "/usr/local/lib/python3.6/dist-packages/pyproj/crs/crs.py:53: FutureWarning: '+init=<authority>:<code>' syntax is deprecated. '<authority>:<code>' is the preferred initialization method. When making the change, be mindful of axis order changes: https://pyproj4.github.io/pyproj/stable/gotchas.html#axis-order-changes-in-proj-6\n",
            "  return _prepare_from_string(\" \".join(pjargs))\n"
          ],
          "name": "stderr"
        },
        {
          "output_type": "display_data",
          "data": {
            "image/png": "[encoded data removed]",
            "text/plain": [
              "<Figure size 1080x360 with 1 Axes>"
            ]
          },
          "metadata": {
            "tags": []
          }
        }
      ]
    },
    {
      "cell_type": "markdown",
      "metadata": {
        "id": "n3fUmUIYm-nG"
      },
      "source": [
        "**User Routes**\r\n",
        "\r\n",
        "The dataset contains data on the routes of subscribers (from a dataset with transactions, the keys are the same) between districts in 2019. Moving means that the subscriber before the start of the trip and at the end of the trip was in acc. area for more than 3 hours.\r\n"
      ]
    },
    {
      "cell_type": "code",
      "metadata": {
        "colab": {
          "base_uri": "https://localhost:8080/",
          "height": 213
        },
        "id": "LmYne1ghm-nc",
        "outputId": "eaaca982-4fdd-47ce-941b-fc8af1c7e6ea"
      },
      "source": [
        "user_routes = pd.read_csv('/content/drive/MyDrive/Colab Notebooks/lviv/user_routes_Lviv.csv.gz', parse_dates = [1,3,5], dtype={'start_area_id':'int', 'finish_area_id':'int'})\r\n",
        "print(user_routes.shape)     \r\n",
        "user_routes.head()"
      ],
      "execution_count": 13,
      "outputs": [
        {
          "output_type": "stream",
          "text": [
            "(487055, 6)\n"
          ],
          "name": "stdout"
        },
        {
          "output_type": "execute_result",
          "data": {
            "text/html": [
              "<div>\n",
              "<style scoped>\n",
              "    .dataframe tbody tr th:only-of-type {\n",
              "        vertical-align: middle;\n",
              "    }\n",
              "\n",
              "    .dataframe tbody tr th {\n",
              "        vertical-align: top;\n",
              "    }\n",
              "\n",
              "    .dataframe thead th {\n",
              "        text-align: right;\n",
              "    }\n",
              "</style>\n",
              "<table border=\"1\" class=\"dataframe\">\n",
              "  <thead>\n",
              "    <tr style=\"text-align: right;\">\n",
              "      <th></th>\n",
              "      <th>user_id</th>\n",
              "      <th>start_time</th>\n",
              "      <th>start_area_id</th>\n",
              "      <th>finish_time</th>\n",
              "      <th>finish_area_id</th>\n",
              "      <th>hmonth</th>\n",
              "    </tr>\n",
              "  </thead>\n",
              "  <tbody>\n",
              "    <tr>\n",
              "      <th>0</th>\n",
              "      <td>113005</td>\n",
              "      <td>2019-06-03 06:00:00</td>\n",
              "      <td>58</td>\n",
              "      <td>2019-06-03 09:00:00</td>\n",
              "      <td>228</td>\n",
              "      <td>2019-06-01</td>\n",
              "    </tr>\n",
              "    <tr>\n",
              "      <th>1</th>\n",
              "      <td>113005</td>\n",
              "      <td>2019-06-03 13:00:00</td>\n",
              "      <td>228</td>\n",
              "      <td>2019-06-03 16:00:00</td>\n",
              "      <td>120</td>\n",
              "      <td>2019-06-01</td>\n",
              "    </tr>\n",
              "    <tr>\n",
              "      <th>2</th>\n",
              "      <td>113005</td>\n",
              "      <td>2019-06-05 07:00:00</td>\n",
              "      <td>120</td>\n",
              "      <td>2019-06-05 08:00:00</td>\n",
              "      <td>492</td>\n",
              "      <td>2019-06-01</td>\n",
              "    </tr>\n",
              "    <tr>\n",
              "      <th>3</th>\n",
              "      <td>113005</td>\n",
              "      <td>2019-06-05 18:00:00</td>\n",
              "      <td>492</td>\n",
              "      <td>2019-06-05 19:00:00</td>\n",
              "      <td>120</td>\n",
              "      <td>2019-06-01</td>\n",
              "    </tr>\n",
              "    <tr>\n",
              "      <th>4</th>\n",
              "      <td>113005</td>\n",
              "      <td>2019-06-07 11:00:00</td>\n",
              "      <td>120</td>\n",
              "      <td>2019-06-07 14:00:00</td>\n",
              "      <td>204</td>\n",
              "      <td>2019-06-01</td>\n",
              "    </tr>\n",
              "  </tbody>\n",
              "</table>\n",
              "</div>"
            ],
            "text/plain": [
              "   user_id          start_time  ...  finish_area_id     hmonth\n",
              "0   113005 2019-06-03 06:00:00  ...             228 2019-06-01\n",
              "1   113005 2019-06-03 13:00:00  ...             120 2019-06-01\n",
              "2   113005 2019-06-05 07:00:00  ...             492 2019-06-01\n",
              "3   113005 2019-06-05 18:00:00  ...             120 2019-06-01\n",
              "4   113005 2019-06-07 11:00:00  ...             204 2019-06-01\n",
              "\n",
              "[5 rows x 6 columns]"
            ]
          },
          "metadata": {
            "tags": []
          },
          "execution_count": 13
        }
      ]
    },
    {
      "cell_type": "markdown",
      "metadata": {
        "id": "V58vc7YFnsj9"
      },
      "source": [
        "**User transactions**\r\n",
        "\r\n",
        "Dataset with transactions contains data with all transactions of subscribers for a calendar month. At the same time, for each city, subscribers were selected who do not live in it, but had at least 1 transaction in the city during the month."
      ]
    },
    {
      "cell_type": "code",
      "metadata": {
        "colab": {
          "base_uri": "https://localhost:8080/",
          "height": 213
        },
        "id": "-ja29aDG33sq",
        "outputId": "79db4685-7960-4845-9b7d-768f589e6cd4"
      },
      "source": [
        "transactions = pd.read_csv('/content/drive/MyDrive/Colab Notebooks/lviv/user_transactions_Lviv.csv.gz', parse_dates = [1], names = ['user_id','event_dt','lat','lon'], skiprows = 1)\r\n",
        "print(transactions.shape)     \r\n",
        "transactions.head()"
      ],
      "execution_count": 14,
      "outputs": [
        {
          "output_type": "stream",
          "text": [
            "(15747791, 4)\n"
          ],
          "name": "stdout"
        },
        {
          "output_type": "execute_result",
          "data": {
            "text/html": [
              "<div>\n",
              "<style scoped>\n",
              "    .dataframe tbody tr th:only-of-type {\n",
              "        vertical-align: middle;\n",
              "    }\n",
              "\n",
              "    .dataframe tbody tr th {\n",
              "        vertical-align: top;\n",
              "    }\n",
              "\n",
              "    .dataframe thead th {\n",
              "        text-align: right;\n",
              "    }\n",
              "</style>\n",
              "<table border=\"1\" class=\"dataframe\">\n",
              "  <thead>\n",
              "    <tr style=\"text-align: right;\">\n",
              "      <th></th>\n",
              "      <th>user_id</th>\n",
              "      <th>event_dt</th>\n",
              "      <th>lat</th>\n",
              "      <th>lon</th>\n",
              "    </tr>\n",
              "  </thead>\n",
              "  <tbody>\n",
              "    <tr>\n",
              "      <th>0</th>\n",
              "      <td>135628</td>\n",
              "      <td>2020-09-28 11:12:40</td>\n",
              "      <td>49.545593</td>\n",
              "      <td>25.601088</td>\n",
              "    </tr>\n",
              "    <tr>\n",
              "      <th>1</th>\n",
              "      <td>125848</td>\n",
              "      <td>2020-09-17 00:07:46</td>\n",
              "      <td>49.402450</td>\n",
              "      <td>26.992640</td>\n",
              "    </tr>\n",
              "    <tr>\n",
              "      <th>2</th>\n",
              "      <td>135628</td>\n",
              "      <td>2020-09-28 21:13:05</td>\n",
              "      <td>49.554040</td>\n",
              "      <td>25.623373</td>\n",
              "    </tr>\n",
              "    <tr>\n",
              "      <th>3</th>\n",
              "      <td>125848</td>\n",
              "      <td>2020-09-17 12:14:10</td>\n",
              "      <td>49.402450</td>\n",
              "      <td>26.992640</td>\n",
              "    </tr>\n",
              "    <tr>\n",
              "      <th>4</th>\n",
              "      <td>135628</td>\n",
              "      <td>2020-09-30 10:54:05</td>\n",
              "      <td>49.554040</td>\n",
              "      <td>25.623373</td>\n",
              "    </tr>\n",
              "  </tbody>\n",
              "</table>\n",
              "</div>"
            ],
            "text/plain": [
              "   user_id            event_dt        lat        lon\n",
              "0   135628 2020-09-28 11:12:40  49.545593  25.601088\n",
              "1   125848 2020-09-17 00:07:46  49.402450  26.992640\n",
              "2   135628 2020-09-28 21:13:05  49.554040  25.623373\n",
              "3   125848 2020-09-17 12:14:10  49.402450  26.992640\n",
              "4   135628 2020-09-30 10:54:05  49.554040  25.623373"
            ]
          },
          "metadata": {
            "tags": []
          },
          "execution_count": 14
        }
      ]
    },
    {
      "cell_type": "code",
      "metadata": {
        "id": "sYmIXwaW60v0"
      },
      "source": [
        "#latitude and longtitude should be swiped, original data has a mistake.\r\n",
        "transactions['lat_temp'] = transactions['lat'].astype('float')\r\n",
        "transactions['lat'] = transactions['lon'].astype('float')\r\n",
        "transactions['lon'] = transactions['lat_temp'].astype('float')\r\n",
        "transactions.drop('lat_temp', axis = 1, inplace = True)"
      ],
      "execution_count": 15,
      "outputs": []
    },
    {
      "cell_type": "markdown",
      "metadata": {
        "id": "drTVF49KajZ2"
      },
      "source": [
        "**Define day time and day of the week for each transaction.**"
      ]
    },
    {
      "cell_type": "code",
      "metadata": {
        "id": "6ImDa93C8Yus"
      },
      "source": [
        "#is_day - if time between 06:00-20:00\r\n",
        "six_h = dt.datetime.strptime('06:00:00', '%H:%M:%S').time()\r\n",
        "twenty_h = dt.datetime.strptime('20:00:00', '%H:%M:%S').time()"
      ],
      "execution_count": 17,
      "outputs": []
    },
    {
      "cell_type": "code",
      "metadata": {
        "id": "tkcCWsP0LZ8N"
      },
      "source": [
        "transactions.loc[:,'time'] = transactions['event_dt'].dt.time\r\n",
        "#is weekend - if it was Saturday or Sunday\r\n",
        "transactions.loc[:,'is_weekend'] = transactions['event_dt'].dt.dayofweek.map({0: 0, 1: 0, 2: 0, 3: 0, 4: 0, 5: 1, 6: 1})\r\n",
        "transactions.loc[:,'is_day'] = transactions['time'].apply(lambda x: 1 if (x > six_h) & (x < twenty_h) else 0)"
      ],
      "execution_count": 18,
      "outputs": []
    },
    {
      "cell_type": "code",
      "metadata": {
        "colab": {
          "base_uri": "https://localhost:8080/",
          "height": 195
        },
        "id": "eW8cntxEAGaL",
        "outputId": "30a2fd3b-44be-4747-f525-1d19f38c4c27"
      },
      "source": [
        "transactions.head()"
      ],
      "execution_count": 55,
      "outputs": [
        {
          "output_type": "execute_result",
          "data": {
            "text/html": [
              "<div>\n",
              "<style scoped>\n",
              "    .dataframe tbody tr th:only-of-type {\n",
              "        vertical-align: middle;\n",
              "    }\n",
              "\n",
              "    .dataframe tbody tr th {\n",
              "        vertical-align: top;\n",
              "    }\n",
              "\n",
              "    .dataframe thead th {\n",
              "        text-align: right;\n",
              "    }\n",
              "</style>\n",
              "<table border=\"1\" class=\"dataframe\">\n",
              "  <thead>\n",
              "    <tr style=\"text-align: right;\">\n",
              "      <th></th>\n",
              "      <th>user_id</th>\n",
              "      <th>event_dt</th>\n",
              "      <th>lat</th>\n",
              "      <th>lon</th>\n",
              "      <th>time</th>\n",
              "      <th>is_weekend</th>\n",
              "      <th>is_day</th>\n",
              "    </tr>\n",
              "  </thead>\n",
              "  <tbody>\n",
              "    <tr>\n",
              "      <th>0</th>\n",
              "      <td>135628</td>\n",
              "      <td>2020-09-28 11:12:40</td>\n",
              "      <td>25.601088</td>\n",
              "      <td>49.545593</td>\n",
              "      <td>11:12:40</td>\n",
              "      <td>0</td>\n",
              "      <td>1</td>\n",
              "    </tr>\n",
              "    <tr>\n",
              "      <th>1</th>\n",
              "      <td>125848</td>\n",
              "      <td>2020-09-17 00:07:46</td>\n",
              "      <td>26.992640</td>\n",
              "      <td>49.402450</td>\n",
              "      <td>00:07:46</td>\n",
              "      <td>0</td>\n",
              "      <td>0</td>\n",
              "    </tr>\n",
              "    <tr>\n",
              "      <th>2</th>\n",
              "      <td>135628</td>\n",
              "      <td>2020-09-28 21:13:05</td>\n",
              "      <td>25.623373</td>\n",
              "      <td>49.554040</td>\n",
              "      <td>21:13:05</td>\n",
              "      <td>0</td>\n",
              "      <td>0</td>\n",
              "    </tr>\n",
              "    <tr>\n",
              "      <th>3</th>\n",
              "      <td>125848</td>\n",
              "      <td>2020-09-17 12:14:10</td>\n",
              "      <td>26.992640</td>\n",
              "      <td>49.402450</td>\n",
              "      <td>12:14:10</td>\n",
              "      <td>0</td>\n",
              "      <td>1</td>\n",
              "    </tr>\n",
              "    <tr>\n",
              "      <th>4</th>\n",
              "      <td>135628</td>\n",
              "      <td>2020-09-30 10:54:05</td>\n",
              "      <td>25.623373</td>\n",
              "      <td>49.554040</td>\n",
              "      <td>10:54:05</td>\n",
              "      <td>0</td>\n",
              "      <td>1</td>\n",
              "    </tr>\n",
              "  </tbody>\n",
              "</table>\n",
              "</div>"
            ],
            "text/plain": [
              "   user_id            event_dt        lat  ...      time is_weekend  is_day\n",
              "0   135628 2020-09-28 11:12:40  25.601088  ...  11:12:40          0       1\n",
              "1   125848 2020-09-17 00:07:46  26.992640  ...  00:07:46          0       0\n",
              "2   135628 2020-09-28 21:13:05  25.623373  ...  21:13:05          0       0\n",
              "3   125848 2020-09-17 12:14:10  26.992640  ...  12:14:10          0       1\n",
              "4   135628 2020-09-30 10:54:05  25.623373  ...  10:54:05          0       1\n",
              "\n",
              "[5 rows x 7 columns]"
            ]
          },
          "metadata": {
            "tags": []
          },
          "execution_count": 55
        }
      ]
    },
    {
      "cell_type": "markdown",
      "metadata": {
        "id": "JOlbiA8tiH3e"
      },
      "source": [
        "**Re-define as Pyspark dataframe**"
      ]
    },
    {
      "cell_type": "code",
      "metadata": {
        "id": "Tho5KdCcBU2J"
      },
      "source": [
        "file_location = \"/content/drive/MyDrive/Colab Notebooks/lviv/final/transactions_upd.csv\"\r\n",
        "file_type = \"csv\"\r\n",
        "infer_schema = \"false\"\r\n",
        "first_row_is_header = \"true\"\r\n",
        "delimiter = \",\"\r\n",
        "\r\n",
        "transaction_df = spark.read.format(file_type) \\\r\n",
        "          .option(\"inferSchema\", infer_schema) \\\r\n",
        "          .option(\"header\", first_row_is_header) \\\r\n",
        "          .schema(transaction_schema)\\\r\n",
        "          .option(\"sep\", delimiter) \\\r\n",
        "          .load(file_location)"
      ],
      "execution_count": 53,
      "outputs": []
    },
    {
      "cell_type": "code",
      "metadata": {
        "colab": {
          "base_uri": "https://localhost:8080/"
        },
        "id": "HJs8Xq3bBU5d",
        "outputId": "716db763-3a09-4143-c41f-3d7461c9800b"
      },
      "source": [
        "transaction_df.show()"
      ],
      "execution_count": 54,
      "outputs": [
        {
          "output_type": "stream",
          "text": [
            "+-----+-------+-------------------+------------------+------------------+-------------------+----------+------+\n",
            "|index|user_id|           event_dt|               lat|               lon|               time|is_weekend|is_day|\n",
            "+-----+-------+-------------------+------------------+------------------+-------------------+----------+------+\n",
            "|    0| 135628|2020-09-28 11:12:40|         25.601088|         49.545593|2021-01-29 11:12:40|         0|     1|\n",
            "|    1| 125848|2020-09-17 00:07:46|          26.99264|          49.40245|2021-01-29 00:07:46|         0|     0|\n",
            "|    2| 135628|2020-09-28 21:13:05|         25.623373|          49.55404|2021-01-29 21:13:05|         0|     0|\n",
            "|    3| 125848|2020-09-17 12:14:10|          26.99264|          49.40245|2021-01-29 12:14:10|         0|     1|\n",
            "|    4| 135628|2020-09-30 10:54:05|         25.623373|          49.55404|2021-01-29 10:54:05|         0|     1|\n",
            "|    5| 125848|2020-09-02 09:41:29|         26.953712|49.416779999999996|2021-01-29 09:41:29|         0|     1|\n",
            "|    6| 135628|2020-09-28 03:32:35|          25.17669|         49.428238|2021-01-29 03:32:35|         0|     0|\n",
            "|    7| 125848|2020-09-02 09:41:30|         26.953712|49.416779999999996|2021-01-29 09:41:30|         0|     1|\n",
            "|    8| 135628|2020-09-25 07:16:31|         23.469988|49.888909999999996|2021-01-29 07:16:31|         0|     1|\n",
            "|    9| 125848|2020-09-09 01:13:35|         27.001259|         49.391838|2021-01-29 01:13:35|         0|     0|\n",
            "|   10| 135628|2020-09-28 04:28:01|          25.17669|         49.428238|2021-01-29 04:28:01|         0|     0|\n",
            "|   11| 125848|2020-09-04 19:45:38|          26.99264|          49.40245|2021-01-29 19:45:38|         0|     1|\n",
            "|   12| 135628|2020-09-30 12:55:33|         25.606768|          49.52707|2021-01-29 12:55:33|         0|     1|\n",
            "|   13| 125848|2020-09-19 04:58:02|          26.99264|          49.40245|2021-01-29 04:58:02|         1|     0|\n",
            "|   14| 135628|2020-09-30 19:12:20|          25.17669|         49.428238|2021-01-29 19:12:20|         0|     1|\n",
            "|   15| 125848|2020-09-14 11:46:50|27.661998999999998|49.671065999999996|2021-01-29 11:46:50|         0|     1|\n",
            "|   16| 135628|2020-09-25 11:55:09|         25.163141|          49.42882|2021-01-29 11:55:09|         0|     1|\n",
            "|   17| 125848|2020-09-14 11:16:55|         27.662008|          49.67174|2021-01-29 11:16:55|         0|     1|\n",
            "|   18| 135628|2020-09-28 09:22:37|          25.17669|         49.428238|2021-01-29 09:22:37|         0|     1|\n",
            "|   19| 125848|2020-09-14 16:03:49|27.274865999999996|         49.388058|2021-01-29 16:03:49|         0|     1|\n",
            "+-----+-------+-------------------+------------------+------------------+-------------------+----------+------+\n",
            "only showing top 20 rows\n",
            "\n"
          ],
          "name": "stdout"
        }
      ]
    },
    {
      "cell_type": "markdown",
      "metadata": {
        "id": "36a014uidu7J"
      },
      "source": [
        "**Define transactions from Lviv only**"
      ]
    },
    {
      "cell_type": "code",
      "metadata": {
        "id": "pDRbrzSMLih8"
      },
      "source": [
        "# do not re-use, data saved to 'is_lviv.csv'\r\n",
        "points_in_lviv = []\r\n",
        "for i,j in transactions[['lat', 'lon', 'event_dt', 'user_id']].iterrows():\r\n",
        "  p = Point(j[0], j[1])\r\n",
        "  if p.within(polygon_lviv):\r\n",
        "    points_in_lviv.append([j[0], j[1], j[2], int(j[3]), 1])\r\n",
        "\r\n",
        "is_lviv = pd.DataFrame(points_in_lviv, columns = ['lat', 'lon', 'event_dt', 'user_id', 'is_lviv'])\r\n",
        "#is_lviv.to_csv('/content/drive/MyDrive/Colab Notebooks/lviv/final/is_lviv.csv')"
      ],
      "execution_count": null,
      "outputs": []
    },
    {
      "cell_type": "code",
      "metadata": {
        "id": "9pqcljusz_3c"
      },
      "source": [
        "is_lviv_pd = pd.read_csv('/content/drive/MyDrive/Colab Notebooks/lviv/final/is_lviv.csv')\r\n",
        "is_lviv_pd.drop('Unnamed: 0', axis = 1, inplace = True)"
      ],
      "execution_count": 24,
      "outputs": []
    },
    {
      "cell_type": "code",
      "metadata": {
        "colab": {
          "base_uri": "https://localhost:8080/",
          "height": 402
        },
        "id": "RR0ZSCmNGpd4",
        "outputId": "e2dd9224-b11c-47fb-8300-9f4e0d4e260f"
      },
      "source": [
        "is_lviv_pd"
      ],
      "execution_count": 25,
      "outputs": [
        {
          "output_type": "execute_result",
          "data": {
            "text/html": [
              "<div>\n",
              "<style scoped>\n",
              "    .dataframe tbody tr th:only-of-type {\n",
              "        vertical-align: middle;\n",
              "    }\n",
              "\n",
              "    .dataframe tbody tr th {\n",
              "        vertical-align: top;\n",
              "    }\n",
              "\n",
              "    .dataframe thead th {\n",
              "        text-align: right;\n",
              "    }\n",
              "</style>\n",
              "<table border=\"1\" class=\"dataframe\">\n",
              "  <thead>\n",
              "    <tr style=\"text-align: right;\">\n",
              "      <th></th>\n",
              "      <th>lat</th>\n",
              "      <th>lon</th>\n",
              "      <th>event_dt</th>\n",
              "      <th>user_id</th>\n",
              "      <th>is_lviv</th>\n",
              "    </tr>\n",
              "  </thead>\n",
              "  <tbody>\n",
              "    <tr>\n",
              "      <th>0</th>\n",
              "      <td>23.930510</td>\n",
              "      <td>49.864390</td>\n",
              "      <td>2020-09-25 07:51:55</td>\n",
              "      <td>135628</td>\n",
              "      <td>1</td>\n",
              "    </tr>\n",
              "    <tr>\n",
              "      <th>1</th>\n",
              "      <td>23.933480</td>\n",
              "      <td>49.828630</td>\n",
              "      <td>2020-09-25 07:51:14</td>\n",
              "      <td>135628</td>\n",
              "      <td>1</td>\n",
              "    </tr>\n",
              "    <tr>\n",
              "      <th>2</th>\n",
              "      <td>24.102741</td>\n",
              "      <td>49.842340</td>\n",
              "      <td>2020-09-26 23:05:09</td>\n",
              "      <td>125848</td>\n",
              "      <td>1</td>\n",
              "    </tr>\n",
              "    <tr>\n",
              "      <th>3</th>\n",
              "      <td>24.033490</td>\n",
              "      <td>49.837326</td>\n",
              "      <td>2020-09-26 16:03:56</td>\n",
              "      <td>143723</td>\n",
              "      <td>1</td>\n",
              "    </tr>\n",
              "    <tr>\n",
              "      <th>4</th>\n",
              "      <td>24.028100</td>\n",
              "      <td>49.836693</td>\n",
              "      <td>2020-09-26 16:06:47</td>\n",
              "      <td>143723</td>\n",
              "      <td>1</td>\n",
              "    </tr>\n",
              "    <tr>\n",
              "      <th>...</th>\n",
              "      <td>...</td>\n",
              "      <td>...</td>\n",
              "      <td>...</td>\n",
              "      <td>...</td>\n",
              "      <td>...</td>\n",
              "    </tr>\n",
              "    <tr>\n",
              "      <th>1561281</th>\n",
              "      <td>23.965063</td>\n",
              "      <td>49.829872</td>\n",
              "      <td>2020-09-14 15:52:24</td>\n",
              "      <td>131258</td>\n",
              "      <td>1</td>\n",
              "    </tr>\n",
              "    <tr>\n",
              "      <th>1561282</th>\n",
              "      <td>23.960436</td>\n",
              "      <td>49.828686</td>\n",
              "      <td>2020-09-22 03:21:36</td>\n",
              "      <td>131258</td>\n",
              "      <td>1</td>\n",
              "    </tr>\n",
              "    <tr>\n",
              "      <th>1561283</th>\n",
              "      <td>23.960436</td>\n",
              "      <td>49.828686</td>\n",
              "      <td>2020-09-22 02:51:36</td>\n",
              "      <td>131258</td>\n",
              "      <td>1</td>\n",
              "    </tr>\n",
              "    <tr>\n",
              "      <th>1561284</th>\n",
              "      <td>23.966090</td>\n",
              "      <td>49.829880</td>\n",
              "      <td>2020-09-14 09:57:45</td>\n",
              "      <td>131258</td>\n",
              "      <td>1</td>\n",
              "    </tr>\n",
              "    <tr>\n",
              "      <th>1561285</th>\n",
              "      <td>23.966090</td>\n",
              "      <td>49.829880</td>\n",
              "      <td>2020-09-14 15:45:53</td>\n",
              "      <td>131258</td>\n",
              "      <td>1</td>\n",
              "    </tr>\n",
              "  </tbody>\n",
              "</table>\n",
              "<p>1561286 rows × 5 columns</p>\n",
              "</div>"
            ],
            "text/plain": [
              "               lat        lon             event_dt  user_id  is_lviv\n",
              "0        23.930510  49.864390  2020-09-25 07:51:55   135628        1\n",
              "1        23.933480  49.828630  2020-09-25 07:51:14   135628        1\n",
              "2        24.102741  49.842340  2020-09-26 23:05:09   125848        1\n",
              "3        24.033490  49.837326  2020-09-26 16:03:56   143723        1\n",
              "4        24.028100  49.836693  2020-09-26 16:06:47   143723        1\n",
              "...            ...        ...                  ...      ...      ...\n",
              "1561281  23.965063  49.829872  2020-09-14 15:52:24   131258        1\n",
              "1561282  23.960436  49.828686  2020-09-22 03:21:36   131258        1\n",
              "1561283  23.960436  49.828686  2020-09-22 02:51:36   131258        1\n",
              "1561284  23.966090  49.829880  2020-09-14 09:57:45   131258        1\n",
              "1561285  23.966090  49.829880  2020-09-14 15:45:53   131258        1\n",
              "\n",
              "[1561286 rows x 5 columns]"
            ]
          },
          "metadata": {
            "tags": []
          },
          "execution_count": 25
        }
      ]
    },
    {
      "cell_type": "markdown",
      "metadata": {
        "id": "aZNH1fjjep54"
      },
      "source": [
        "**Re-define dataframe as Pyspark Dataframe**"
      ]
    },
    {
      "cell_type": "code",
      "metadata": {
        "id": "7jvsrC4nBVpp"
      },
      "source": [
        "is_lviv = StructType([\r\n",
        "    StructField(\"Unnamed: 0\", StringType(), True),        \r\n",
        "    StructField(\"lat2\", DoubleType(), True),\r\n",
        "    StructField(\"lon2\", DoubleType(), True),\r\n",
        "    StructField(\"event_dt2\", TimestampType(), True),\r\n",
        "    StructField(\"user_id2\", IntegerType(), True),\r\n",
        "    StructField(\"is_lviv\", IntegerType(), True),\r\n",
        "    ])\r\n",
        "\r\n",
        "transaction_schema = StructType([\r\n",
        "    StructField(\"index\", IntegerType(), True),\r\n",
        "    StructField(\"user_id\", IntegerType(), True),        \r\n",
        "    StructField(\"event_dt\", TimestampType(), True),\r\n",
        "    StructField(\"lat\", DoubleType(), True),\r\n",
        "    StructField(\"lon\", DoubleType(), True),\r\n",
        "    StructField(\"time\", TimestampType(), True),\r\n",
        "    StructField(\"is_weekend\", IntegerType(), True),\r\n",
        "    StructField(\"is_day\", IntegerType(), True)])"
      ],
      "execution_count": 26,
      "outputs": []
    },
    {
      "cell_type": "code",
      "metadata": {
        "id": "tYncX3luBVtP"
      },
      "source": [
        "file_location = \"/content/drive/MyDrive/Colab Notebooks/lviv/final/is_lviv.csv\"\r\n",
        "file_type = \"csv\"\r\n",
        "infer_schema = \"false\"\r\n",
        "first_row_is_header = \"true\"\r\n",
        "delimiter = \",\"\r\n",
        "\r\n",
        "is_lviv_df = spark.read.format(file_type) \\\r\n",
        "          .option(\"inferSchema\", infer_schema) \\\r\n",
        "          .option(\"header\", first_row_is_header) \\\r\n",
        "          .schema(is_lviv)\\\r\n",
        "          .option(\"sep\", delimiter) \\\r\n",
        "          .load(file_location)"
      ],
      "execution_count": 29,
      "outputs": []
    },
    {
      "cell_type": "code",
      "metadata": {
        "colab": {
          "base_uri": "https://localhost:8080/"
        },
        "id": "YvZQj-sMiUSP",
        "outputId": "b76c28a2-2429-470b-d94a-c9cac7c4ed03"
      },
      "source": [
        "is_lviv_df.count()"
      ],
      "execution_count": 30,
      "outputs": [
        {
          "output_type": "execute_result",
          "data": {
            "text/plain": [
              "1561286"
            ]
          },
          "metadata": {
            "tags": []
          },
          "execution_count": 30
        }
      ]
    },
    {
      "cell_type": "markdown",
      "metadata": {
        "id": "q3pLXq1TiSKL"
      },
      "source": [
        "**Combine dataframes on user_id and event_id**"
      ]
    },
    {
      "cell_type": "code",
      "metadata": {
        "colab": {
          "base_uri": "https://localhost:8080/"
        },
        "id": "kh9E0mFpBU8i",
        "outputId": "d74f2d13-305e-43fe-9c2d-37b2f4f749ce"
      },
      "source": [
        "cond = (transaction_df.user_id == is_lviv_df.user_id2) & (transaction_df.event_dt == is_lviv_df.event_dt2) \r\n",
        "concated_df = transaction_df.join(is_lviv_df, cond, 'left')\r\n",
        "concated_df"
      ],
      "execution_count": 58,
      "outputs": [
        {
          "output_type": "execute_result",
          "data": {
            "text/plain": [
              "DataFrame[index: int, user_id: int, event_dt: timestamp, lat: double, lon: double, time: timestamp, is_weekend: int, is_day: int, Unnamed: 0: string, lat2: double, lon2: double, event_dt2: timestamp, user_id2: int, is_lviv: int]"
            ]
          },
          "metadata": {
            "tags": []
          },
          "execution_count": 58
        }
      ]
    },
    {
      "cell_type": "code",
      "metadata": {
        "id": "Am5EqRcm13ci"
      },
      "source": [
        "drop_list = ['Unnamed: 0','lat2','lon2','event_dt2','user_id2']\r\n",
        "#drop unnecessary columns\r\n",
        "concated_df = concated_df.drop(*drop_list)\r\n",
        "concated_df = concated_df.fillna({'is_lviv':0})"
      ],
      "execution_count": 59,
      "outputs": []
    },
    {
      "cell_type": "code",
      "metadata": {
        "id": "fTOQU8jqA6yf"
      },
      "source": [
        "windowSpec = Window.partitionBy(\"user_id\").orderBy('event_dt')\r\n",
        "#define next event\r\n",
        "concated_df = concated_df.withColumn('next_event', lead('event_dt', 1).over(windowSpec))\r\n",
        "#find time difference between events\r\n",
        "concated_df = concated_df.withColumn('Time_diff', (col('next_event').cast(LongType()) - col('event_dt').cast(LongType())))\r\n",
        "#define if time difference is just 1h or less and was from Lviv\r\n",
        "concated_df = concated_df.withColumn('1h', when((concated_df.Time_diff < 5000) & (concated_df.is_lviv == 1), 1).otherwise(0))"
      ],
      "execution_count": 60,
      "outputs": []
    },
    {
      "cell_type": "code",
      "metadata": {
        "colab": {
          "base_uri": "https://localhost:8080/"
        },
        "id": "yI2-iKHHBU_v",
        "outputId": "65eedeae-156e-4f9e-8c31-d8e11b8e80ba"
      },
      "source": [
        "concated_df.show()"
      ],
      "execution_count": 61,
      "outputs": [
        {
          "output_type": "stream",
          "text": [
            "+--------+-------+-------------------+---------+---------+-------------------+----------+------+-------+-------------------+---------+---+\n",
            "|   index|user_id|           event_dt|      lat|      lon|               time|is_weekend|is_day|is_lviv|         next_event|Time_diff| 1h|\n",
            "+--------+-------+-------------------+---------+---------+-------------------+----------+------+-------+-------------------+---------+---+\n",
            "|12305607| 101627|2020-09-01 07:25:45|24.049915|49.766483|2021-01-29 07:25:45|         0|     1|      0|2020-09-01 07:28:39|      174|  0|\n",
            "|12305090| 101627|2020-09-01 07:28:39|24.040401|49.771736|2021-01-29 07:28:39|         0|     1|      0|2020-09-01 07:28:40|        1|  0|\n",
            "|12305821| 101627|2020-09-01 07:28:40|24.040401|49.771736|2021-01-29 07:28:40|         0|     1|      0|2020-09-01 07:30:40|      120|  0|\n",
            "|12305347| 101627|2020-09-01 07:30:40|24.049915|49.766483|2021-01-29 07:30:40|         0|     1|      0|2020-09-01 07:30:41|        1|  0|\n",
            "|12304145| 101627|2020-09-01 07:30:41|24.049915|49.766483|2021-01-29 07:30:41|         0|     1|      0|2020-09-01 07:31:38|       57|  0|\n",
            "|12305275| 101627|2020-09-01 07:31:38|24.023678| 49.78348|2021-01-29 07:31:38|         0|     1|      1|2020-09-01 07:31:39|        1|  1|\n",
            "|12305756| 101627|2020-09-01 07:31:39|24.023678| 49.78348|2021-01-29 07:31:39|         0|     1|      1|2020-09-01 07:34:08|      149|  1|\n",
            "|12305601| 101627|2020-09-01 07:34:08|24.049915|49.766483|2021-01-29 07:34:08|         0|     1|      0|2020-09-01 07:34:45|       37|  0|\n",
            "|12306057| 101627|2020-09-01 07:34:45|24.023678| 49.78348|2021-01-29 07:34:45|         0|     1|      1|2020-09-01 07:34:46|        1|  1|\n",
            "|12305343| 101627|2020-09-01 07:34:46|24.023678| 49.78348|2021-01-29 07:34:46|         0|     1|      1|2020-09-01 07:55:45|     1259|  1|\n",
            "|12306147| 101627|2020-09-01 07:55:45|24.023678| 49.78348|2021-01-29 07:55:45|         0|     1|      1|2020-09-01 10:39:32|     9827|  0|\n",
            "|12303932| 101627|2020-09-01 10:39:32|24.049915|49.766483|2021-01-29 10:39:32|         0|     1|      0|2020-09-01 10:40:09|       37|  0|\n",
            "|12304369| 101627|2020-09-01 10:40:09|24.040401|49.771736|2021-01-29 10:40:09|         0|     1|      0|2020-09-01 10:58:23|     1094|  0|\n",
            "|12304151| 101627|2020-09-01 10:58:23|24.050161|49.770947|2021-01-29 10:58:23|         0|     1|      0|2020-09-01 11:05:09|      406|  0|\n",
            "|12304152| 101627|2020-09-01 11:05:09|24.023678| 49.78348|2021-01-29 11:05:09|         0|     1|      1|2020-09-01 11:09:32|      263|  1|\n",
            "|12303866| 101627|2020-09-01 11:09:32|24.040401|49.771736|2021-01-29 11:09:32|         0|     1|      0|2020-09-01 11:35:09|     1537|  0|\n",
            "|12303548| 101627|2020-09-01 11:35:09|24.049915|49.766483|2021-01-29 11:35:09|         0|     1|      0|2020-09-01 11:35:15|        6|  0|\n",
            "|12304433| 101627|2020-09-01 11:35:15|24.049915|49.766483|2021-01-29 11:35:15|         0|     1|      0|2020-09-01 11:38:32|      197|  0|\n",
            "|12305870| 101627|2020-09-01 11:38:32|24.050161|49.770947|2021-01-29 11:38:32|         0|     1|      0|2020-09-01 11:38:33|        1|  0|\n",
            "|12303838| 101627|2020-09-01 11:38:33|24.050161|49.770947|2021-01-29 11:38:33|         0|     1|      0|2020-09-01 11:43:30|      297|  0|\n",
            "+--------+-------+-------------------+---------+---------+-------------------+----------+------+-------+-------------------+---------+---+\n",
            "only showing top 20 rows\n",
            "\n"
          ],
          "name": "stdout"
        }
      ]
    },
    {
      "cell_type": "markdown",
      "metadata": {
        "id": "CEdXj7xLjCn2"
      },
      "source": [
        "**Get some statistics: how many transactions was from Lviv, was it in a day, was it weekend or not, total number of each user transactions and how many of them least less then 1h.**"
      ]
    },
    {
      "cell_type": "code",
      "metadata": {
        "id": "DlPwjSXcBVC6"
      },
      "source": [
        "grouped_df =  concated_df.groupby('user_id').agg(sum('is_lviv'), sum('is_day'), sum('is_weekend'), count('lat'), sum('1h'))"
      ],
      "execution_count": 62,
      "outputs": []
    },
    {
      "cell_type": "code",
      "metadata": {
        "colab": {
          "base_uri": "https://localhost:8080/"
        },
        "id": "ObrG4U9S4sEU",
        "outputId": "b88b8cfe-ffb1-4a74-d52a-da1b87ac339d"
      },
      "source": [
        "grouped_df.show()"
      ],
      "execution_count": 63,
      "outputs": [
        {
          "output_type": "stream",
          "text": [
            "+-------+------------+-----------+---------------+----------+-------+\n",
            "|user_id|sum(is_lviv)|sum(is_day)|sum(is_weekend)|count(lat)|sum(1h)|\n",
            "+-------+------------+-----------+---------------+----------+-------+\n",
            "| 101627|          97|       2561|            856|      2802|     94|\n",
            "| 104656|         434|       1299|            413|      1619|    427|\n",
            "| 108460|          22|       3452|            815|      3832|     22|\n",
            "| 109172|          56|       7035|           1343|      8309|     56|\n",
            "| 116259|         403|       6025|           1700|      7436|    397|\n",
            "| 118185|          94|       1875|            669|      2857|     94|\n",
            "| 120861|           9|        408|            104|       464|      8|\n",
            "| 122484|           9|        216|             61|       229|      4|\n",
            "| 124411|          73|       3979|           1799|      4868|     73|\n",
            "| 126191|          11|       1681|            570|      2452|     11|\n",
            "| 127109|           9|       1718|            740|      2324|      8|\n",
            "| 130995|         553|       2154|            442|      2515|    547|\n",
            "| 132406|           6|       3221|           1284|      4221|      6|\n",
            "| 133577|          12|       2129|            414|      2422|     12|\n",
            "| 134607|         337|        714|            202|       801|    334|\n",
            "| 134924|           6|        708|            227|       857|      5|\n",
            "| 137193|        1116|       2089|            489|      2508|   1116|\n",
            "| 140021|          74|       6047|           1724|      7690|     74|\n",
            "| 141533|         324|       1656|            370|      2142|    315|\n",
            "| 142084|          21|       5949|           1000|      7056|     21|\n",
            "+-------+------------+-----------+---------------+----------+-------+\n",
            "only showing top 20 rows\n",
            "\n"
          ],
          "name": "stdout"
        }
      ]
    },
    {
      "cell_type": "code",
      "metadata": {
        "colab": {
          "base_uri": "https://localhost:8080/"
        },
        "id": "oscpP2dM4y8M",
        "outputId": "04d3c557-ddfc-4d39-a9ae-bdb08bc563e5"
      },
      "source": [
        "grouped_df.count()"
      ],
      "execution_count": 64,
      "outputs": [
        {
          "output_type": "execute_result",
          "data": {
            "text/plain": [
              "5597"
            ]
          },
          "metadata": {
            "tags": []
          },
          "execution_count": 64
        }
      ]
    },
    {
      "cell_type": "code",
      "metadata": {
        "id": "qWjk3F0wEp9_"
      },
      "source": [
        "#convert to Pandas to save as csv\r\n",
        "#temp = grouped_df.toPandas()\r\n",
        "#temp.to_csv('/content/drive/MyDrive/Colab Notebooks/lviv/final/final.csv')"
      ],
      "execution_count": null,
      "outputs": []
    },
    {
      "cell_type": "code",
      "metadata": {
        "id": "0fCSpEMzEqF-"
      },
      "source": [
        "transactions_grouped = pd.read_csv('/content/drive/MyDrive/Colab Notebooks/lviv/final/final.csv', skiprows = 1, names = ['Unnamed: 0',\t'user_id', 'transactions_lviv',\r\n",
        "                                                                                                      'is_daytime',\t'is_weekend',\r\n",
        "                                                                                                      'total_transactions', 'hours_in_lviv'])\r\n",
        "transactions_grouped.drop('Unnamed: 0', axis = 1, inplace = True)"
      ],
      "execution_count": 65,
      "outputs": []
    },
    {
      "cell_type": "code",
      "metadata": {
        "colab": {
          "base_uri": "https://localhost:8080/",
          "height": 343
        },
        "id": "k6AZpPqGgFsb",
        "outputId": "13e7a226-5954-4388-9d4f-c3f503af7ee8"
      },
      "source": [
        "transactions_grouped.head(10)"
      ],
      "execution_count": 72,
      "outputs": [
        {
          "output_type": "execute_result",
          "data": {
            "text/html": [
              "<div>\n",
              "<style scoped>\n",
              "    .dataframe tbody tr th:only-of-type {\n",
              "        vertical-align: middle;\n",
              "    }\n",
              "\n",
              "    .dataframe tbody tr th {\n",
              "        vertical-align: top;\n",
              "    }\n",
              "\n",
              "    .dataframe thead th {\n",
              "        text-align: right;\n",
              "    }\n",
              "</style>\n",
              "<table border=\"1\" class=\"dataframe\">\n",
              "  <thead>\n",
              "    <tr style=\"text-align: right;\">\n",
              "      <th></th>\n",
              "      <th>user_id</th>\n",
              "      <th>transactions_lviv</th>\n",
              "      <th>is_daytime</th>\n",
              "      <th>is_weekend</th>\n",
              "      <th>total_transactions</th>\n",
              "      <th>hours_in_lviv</th>\n",
              "    </tr>\n",
              "  </thead>\n",
              "  <tbody>\n",
              "    <tr>\n",
              "      <th>0</th>\n",
              "      <td>101627</td>\n",
              "      <td>97</td>\n",
              "      <td>2561</td>\n",
              "      <td>856</td>\n",
              "      <td>2802</td>\n",
              "      <td>94</td>\n",
              "    </tr>\n",
              "    <tr>\n",
              "      <th>1</th>\n",
              "      <td>104656</td>\n",
              "      <td>434</td>\n",
              "      <td>1299</td>\n",
              "      <td>413</td>\n",
              "      <td>1619</td>\n",
              "      <td>427</td>\n",
              "    </tr>\n",
              "    <tr>\n",
              "      <th>2</th>\n",
              "      <td>108460</td>\n",
              "      <td>22</td>\n",
              "      <td>3452</td>\n",
              "      <td>815</td>\n",
              "      <td>3832</td>\n",
              "      <td>22</td>\n",
              "    </tr>\n",
              "    <tr>\n",
              "      <th>3</th>\n",
              "      <td>109172</td>\n",
              "      <td>56</td>\n",
              "      <td>7035</td>\n",
              "      <td>1343</td>\n",
              "      <td>8309</td>\n",
              "      <td>56</td>\n",
              "    </tr>\n",
              "    <tr>\n",
              "      <th>4</th>\n",
              "      <td>116259</td>\n",
              "      <td>403</td>\n",
              "      <td>6025</td>\n",
              "      <td>1700</td>\n",
              "      <td>7436</td>\n",
              "      <td>397</td>\n",
              "    </tr>\n",
              "    <tr>\n",
              "      <th>5</th>\n",
              "      <td>118185</td>\n",
              "      <td>94</td>\n",
              "      <td>1875</td>\n",
              "      <td>669</td>\n",
              "      <td>2857</td>\n",
              "      <td>94</td>\n",
              "    </tr>\n",
              "    <tr>\n",
              "      <th>6</th>\n",
              "      <td>120861</td>\n",
              "      <td>9</td>\n",
              "      <td>408</td>\n",
              "      <td>104</td>\n",
              "      <td>464</td>\n",
              "      <td>8</td>\n",
              "    </tr>\n",
              "    <tr>\n",
              "      <th>7</th>\n",
              "      <td>122484</td>\n",
              "      <td>9</td>\n",
              "      <td>216</td>\n",
              "      <td>61</td>\n",
              "      <td>229</td>\n",
              "      <td>4</td>\n",
              "    </tr>\n",
              "    <tr>\n",
              "      <th>8</th>\n",
              "      <td>124411</td>\n",
              "      <td>73</td>\n",
              "      <td>3979</td>\n",
              "      <td>1799</td>\n",
              "      <td>4868</td>\n",
              "      <td>73</td>\n",
              "    </tr>\n",
              "    <tr>\n",
              "      <th>9</th>\n",
              "      <td>126191</td>\n",
              "      <td>11</td>\n",
              "      <td>1681</td>\n",
              "      <td>570</td>\n",
              "      <td>2452</td>\n",
              "      <td>11</td>\n",
              "    </tr>\n",
              "  </tbody>\n",
              "</table>\n",
              "</div>"
            ],
            "text/plain": [
              "   user_id  transactions_lviv  ...  total_transactions  hours_in_lviv\n",
              "0   101627                 97  ...                2802             94\n",
              "1   104656                434  ...                1619            427\n",
              "2   108460                 22  ...                3832             22\n",
              "3   109172                 56  ...                8309             56\n",
              "4   116259                403  ...                7436            397\n",
              "5   118185                 94  ...                2857             94\n",
              "6   120861                  9  ...                 464              8\n",
              "7   122484                  9  ...                 229              4\n",
              "8   124411                 73  ...                4868             73\n",
              "9   126191                 11  ...                2452             11\n",
              "\n",
              "[10 rows x 6 columns]"
            ]
          },
          "metadata": {
            "tags": []
          },
          "execution_count": 72
        }
      ]
    },
    {
      "cell_type": "markdown",
      "metadata": {
        "id": "Pn5rBFJdk-6a"
      },
      "source": [
        "Hours in Lviv is the wrong metric, it does not make that sense. "
      ]
    },
    {
      "cell_type": "markdown",
      "metadata": {
        "id": "1_nM7CWY6cyl"
      },
      "source": [
        "### Clusterization"
      ]
    },
    {
      "cell_type": "markdown",
      "metadata": {
        "id": "liw5-S1sNXzA"
      },
      "source": [
        "Code for clusterization used from previous task"
      ]
    },
    {
      "cell_type": "code",
      "metadata": {
        "id": "-e45ApUNAAi4"
      },
      "source": [
        "import os\r\n",
        "import math\r\n",
        "import matplotlib.pyplot as plt\r\n",
        "import sklearn\r\n",
        "import umap\r\n",
        "from sklearn.preprocessing import StandardScaler\r\n",
        "from sklearn.cluster import DBSCAN, MiniBatchKMeans, AgglomerativeClustering, KMeans\r\n",
        "from scipy.stats import mode, itemfreq\r\n",
        "from scipy.spatial.distance import cdist \r\n",
        "from sklearn.decomposition import PCA\r\n",
        "from sklearn.manifold import TSNE\r\n",
        "from sklearn import metrics \r\n",
        "import numpy as np \r\n",
        "\r\n",
        "%matplotlib inline"
      ],
      "execution_count": 67,
      "outputs": []
    },
    {
      "cell_type": "code",
      "metadata": {
        "id": "si-wD79p5oA_"
      },
      "source": [
        "def pefrom_clustering(data, n_clusters = 3, random_state = 0):\r\n",
        "  kmeans = KMeans(\r\n",
        "      n_clusters = n_clusters,\r\n",
        "      random_state = random_state)\r\n",
        "\r\n",
        "  return kmeans.fit(data)"
      ],
      "execution_count": 119,
      "outputs": []
    },
    {
      "cell_type": "code",
      "metadata": {
        "id": "RRvmmhhS6Z3S"
      },
      "source": [
        "def get_standartized_data(df):\r\n",
        "  return StandardScaler().fit_transform(df[[\r\n",
        "  'transactions_lviv',\r\n",
        "  'is_daytime',\r\n",
        "  'is_weekend',\r\n",
        "  'total_transactions',]].values)"
      ],
      "execution_count": 120,
      "outputs": []
    },
    {
      "cell_type": "code",
      "metadata": {
        "id": "0JKEftmC6Z7Q"
      },
      "source": [
        "transactions_grouped_stand = get_standartized_data(transactions_grouped)\r\n",
        "kmeans_19 = pefrom_clustering(transactions_grouped_stand)"
      ],
      "execution_count": 121,
      "outputs": []
    },
    {
      "cell_type": "code",
      "metadata": {
        "id": "RIOT2FEr6aBk",
        "colab": {
          "base_uri": "https://localhost:8080/",
          "height": 166
        },
        "outputId": "6919a116-2395-4373-ad06-093216656ddb"
      },
      "source": [
        "transactions_grouped['labels'] = kmeans_19.labels_\r\n",
        "transactions_grouped.groupby('labels')[['labels']].count()"
      ],
      "execution_count": 122,
      "outputs": [
        {
          "output_type": "execute_result",
          "data": {
            "text/html": [
              "<div>\n",
              "<style scoped>\n",
              "    .dataframe tbody tr th:only-of-type {\n",
              "        vertical-align: middle;\n",
              "    }\n",
              "\n",
              "    .dataframe tbody tr th {\n",
              "        vertical-align: top;\n",
              "    }\n",
              "\n",
              "    .dataframe thead th {\n",
              "        text-align: right;\n",
              "    }\n",
              "</style>\n",
              "<table border=\"1\" class=\"dataframe\">\n",
              "  <thead>\n",
              "    <tr style=\"text-align: right;\">\n",
              "      <th></th>\n",
              "      <th>labels</th>\n",
              "    </tr>\n",
              "    <tr>\n",
              "      <th>labels</th>\n",
              "      <th></th>\n",
              "    </tr>\n",
              "  </thead>\n",
              "  <tbody>\n",
              "    <tr>\n",
              "      <th>0</th>\n",
              "      <td>3618</td>\n",
              "    </tr>\n",
              "    <tr>\n",
              "      <th>1</th>\n",
              "      <td>1683</td>\n",
              "    </tr>\n",
              "    <tr>\n",
              "      <th>2</th>\n",
              "      <td>296</td>\n",
              "    </tr>\n",
              "  </tbody>\n",
              "</table>\n",
              "</div>"
            ],
            "text/plain": [
              "        labels\n",
              "labels        \n",
              "0         3618\n",
              "1         1683\n",
              "2          296"
            ]
          },
          "metadata": {
            "tags": []
          },
          "execution_count": 122
        }
      ]
    },
    {
      "cell_type": "code",
      "metadata": {
        "id": "YwC4D_8zUxq-"
      },
      "source": [
        "#define best number of clusters\r\n",
        "Sum_of_squared_distances = []\r\n",
        "K = range(1,15)\r\n",
        "for k in K:\r\n",
        "    km = KMeans(n_clusters=k)\r\n",
        "    km = km.fit(transactions_grouped_stand)\r\n",
        "    Sum_of_squared_distances.append(km.inertia_)"
      ],
      "execution_count": 123,
      "outputs": []
    },
    {
      "cell_type": "code",
      "metadata": {
        "colab": {
          "base_uri": "https://localhost:8080/",
          "height": 301
        },
        "id": "tTPH4dnnVfgJ",
        "outputId": "d1e9a480-e68c-43e2-b3de-aa28bfa5211d"
      },
      "source": [
        "plt.plot(K, Sum_of_squared_distances, 'bx-',)\r\n",
        "plt.xlabel('k')\r\n",
        "plt.ylabel('Sum_of_squared_distances')\r\n",
        "plt.title('Elbow Method For Optimal k')\r\n",
        "plt.show()"
      ],
      "execution_count": 124,
      "outputs": [
        {
          "output_type": "display_data",
          "data": {
            "image/png": "[encoded data removed]",
            "text/plain": [
              "<Figure size 432x288 with 1 Axes>"
            ]
          },
          "metadata": {
            "tags": [],
            "needs_background": "light"
          }
        }
      ]
    },
    {
      "cell_type": "code",
      "metadata": {
        "colab": {
          "base_uri": "https://localhost:8080/",
          "height": 337
        },
        "id": "NQmWCm_OF_ET",
        "outputId": "f86d0073-d460-4ac1-dcd0-3c56f332c0d8"
      },
      "source": [
        "clusters = transactions_grouped.groupby('labels', as_index = False)[['labels']].count()\r\n",
        "clusters.plot.bar(figsize = (5, 5))"
      ],
      "execution_count": 125,
      "outputs": [
        {
          "output_type": "execute_result",
          "data": {
            "text/plain": [
              "<matplotlib.axes._subplots.AxesSubplot at 0x7f8133d5fe10>"
            ]
          },
          "metadata": {
            "tags": []
          },
          "execution_count": 125
        },
        {
          "output_type": "display_data",
          "data": {
            "image/png": "[encoded data removed]",
            "text/plain": [
              "<Figure size 360x360 with 1 Axes>"
            ]
          },
          "metadata": {
            "tags": [],
            "needs_background": "light"
          }
        }
      ]
    },
    {
      "cell_type": "code",
      "metadata": {
        "id": "2-Plc1WYWwE0"
      },
      "source": [
        "transactions_0 = transactions_grouped[transactions_grouped['labels'] == 0]\r\n",
        "transactions_1 = transactions_grouped[transactions_grouped['labels'] == 1]\r\n",
        "transactions_2 = transactions_grouped[transactions_grouped['labels'] == 2]"
      ],
      "execution_count": 128,
      "outputs": []
    },
    {
      "cell_type": "code",
      "metadata": {
        "id": "l-yL4vYaa7yw"
      },
      "source": [
        "def feature_compare_hist(clusters, mean = True):\r\n",
        "    def map_cluster(cluster, feature, mean = True):\r\n",
        "      return cluster[feature].mean() if mean else cluster[feature].mode()[0]\r\n",
        "\r\n",
        "    col_title = 'mean:' if mean else 'mode:'\r\n",
        "    pd.DataFrame({\r\n",
        "      f'{col_title} how many times was in lviv': [map_cluster(cluster, 'transactions_lviv', mean) for cluster in clusters],\r\n",
        "      f'{col_title} how many times event was in day time': [map_cluster(cluster, 'is_daytime', mean) for cluster in clusters],\r\n",
        "      f'{col_title} how many times event was on weekend': [map_cluster(cluster, 'is_weekend', mean) for cluster in clusters],\r\n",
        "      f'{col_title} total count of events': [map_cluster(cluster, 'total_transactions', mean) for cluster in clusters]\r\n",
        "  }, index = [f'{i} Segment' for i in range(len(clusters))]).plot(kind = 'barh', figsize = (20, 10))"
      ],
      "execution_count": 129,
      "outputs": []
    },
    {
      "cell_type": "code",
      "metadata": {
        "colab": {
          "base_uri": "https://localhost:8080/",
          "height": 594
        },
        "id": "ARHzuR3cWwHt",
        "outputId": "5a1c67bb-96b6-43b9-d870-d115a714b550"
      },
      "source": [
        "feature_compare_hist([transactions_0, transactions_1, transactions_2], mean = True)"
      ],
      "execution_count": 130,
      "outputs": [
        {
          "output_type": "display_data",
          "data": {
            "image/png": "[encoded data removed]",
            "text/plain": [
              "<Figure size 1440x720 with 1 Axes>"
            ]
          },
          "metadata": {
            "tags": [],
            "needs_background": "light"
          }
        }
      ]
    },
    {
      "cell_type": "markdown",
      "metadata": {
        "id": "e3v-5GzAAAw7"
      },
      "source": [
        "**Purposes of the visit:**\r\n",
        "\r\n",
        "**Transit** - the larger (65%) - 0 cluster, it includes subscribers who did not make a lot of transactions in a month, and no more than 15% of them were in Lviv, also these subscribers made most transactions were not on the weekend.\r\n",
        "\r\n",
        "**Tourism, multi-transit** - 1 cluster, it includes people with a large number of transactions and a small number of them in Lviv, which separates them from those working in the city.  In addition, about 25% of transactions occurred on weekends.\r\n",
        "\r\n",
        "**Work** - is the smallest  - 2 cluster, it characterized by the largest number of transactions, a significant part of which ~ 40% falls in Lviv and on weekdays. "
      ]
    }
  ]
}